{
 "cells": [
  {
   "cell_type": "code",
   "execution_count": null,
   "id": "59e231e7-01df-42c1-a325-310f8ac487a2",
   "metadata": {},
   "outputs": [],
   "source": [
    "import digitalhub as dh"
   ]
  },
  {
   "cell_type": "markdown",
   "id": "ce40d108-239a-485f-8a70-cce9158a5e08",
   "metadata": {},
   "source": [
    "### 1. Initialize the project"
   ]
  },
  {
   "cell_type": "code",
   "execution_count": null,
   "id": "869ab38d-f2b9-4ce0-8645-5b9af312556c",
   "metadata": {},
   "outputs": [],
   "source": [
    "project = dh.get_or_create_project(\"AreaVerde\")"
   ]
  },
  {
   "cell_type": "markdown",
   "id": "b111f876-cfb1-4870-9bd9-30fee1ac94dc",
   "metadata": {},
   "source": [
    "### 2. Initialize project source data\n",
    "\n",
    "Initialize the sources making a snapshot from the shared data (spire 1h, 5min, accur 1h, accur 5min)"
   ]
  },
  {
   "cell_type": "code",
   "execution_count": null,
   "id": "b07181bf-d7bc-4fc3-a249-9fa0f302e7ae",
   "metadata": {},
   "outputs": [],
   "source": [
    "import boto3\n",
    "import os\n",
    "\n",
    "\n",
    "s3 = boto3.client('s3',\n",
    "                    endpoint_url=os.environ.get('S3_ENDPOINT_URL'),\n",
    "                    aws_access_key_id=os.environ.get('AWS_ACCESS_KEY_ID'),\n",
    "                    aws_secret_access_key=os.environ.get('AWS_SECRET_ACCESS_KEY'))\n",
    "\n",
    "for year in [\"2023\", \"2024\", \"2025\"]:\n",
    "    s3.download_file('dataspace', f'mobility-data/spire-1h-{year}/latest/spire-1h-{year}.parquet', f'spire-1h-{year}.parquet')\n",
    "    project.log_dataitem(name=f\"spire_flow1h_{year}_source\", kind=\"table\", source=f'spire-1h-{year}.parquet')    \n",
    "    s3.download_file('dataspace', f'mobility-data/spire-accur-1h-{year}/latest/spire-accur-1h-{year}.parquet', f'spire-accur-1h-{year}.parquet')\n",
    "    project.log_dataitem(name=f\"spire_accur_flow1h_{year}_source\", kind=\"table\", source=f'spire-accur-1h-{year}.parquet')    \n",
    "    s3.download_file('dataspace', f'mobility-data/trafic-spire/{year}/trafic-spire.parquet', f'trafic-spire.parquet')\n",
    "    project.log_dataitem(name=f\"spire_flow5m_{year}\", kind=\"table\", source=f'trafic-spire.parquet')    \n",
    "    s3.download_file('dataspace', f'mobility-data/trafic-spire-accur/{year}/trafic-spire.parquet', f'trafic-spire-accur.parquet')\n",
    "    project.log_dataitem(name=f\"spire_flow5m_accur_{year}\", kind=\"table\", source=f'trafic-spire-accur.parquet')    \n",
    "    "
   ]
  },
  {
   "cell_type": "markdown",
   "id": "a58397b4-4d55-4708-95b7-c2cdf3d7680c",
   "metadata": {},
   "source": [
    "#### 2.1 Spire data"
   ]
  },
  {
   "cell_type": "code",
   "execution_count": null,
   "id": "09ddcfce-64ea-4c0b-bb28-45a8df41a870",
   "metadata": {},
   "outputs": [],
   "source": [
    "try:\n",
    "    func = project.get_function(\"convert-spira\")\n",
    "except:\n",
    "    func = project.new_function(\n",
    "                         name=\"convert-spira\",\n",
    "                         kind=\"python\",\n",
    "                         python_version=\"PYTHON3_10\",\n",
    "                         code_src=\"../src/convert.py\",\n",
    "                         handler=\"convert_spira\")"
   ]
  },
  {
   "cell_type": "code",
   "execution_count": null,
   "id": "0cc8d6a5-eb00-4a3f-9859-ccde47b9adf8",
   "metadata": {},
   "outputs": [],
   "source": [
    "for year in [\"2023\", \"2024\", \"2025\"]:\n",
    "    di = project.get_dataitem(f\"spire_flow1h_{year}_source\")\n",
    "    run = func.run(action=\"job\", inputs={\"spira_di\": di.key}, parameters={\"name\": f\"spira_flow_data_{year}\"}, local_execution=True)"
   ]
  },
  {
   "cell_type": "markdown",
   "id": "272c6cf0-3002-440d-bd43-157ee04ae958",
   "metadata": {},
   "source": [
    "#### 2.2 Spire accuracy data"
   ]
  },
  {
   "cell_type": "code",
   "execution_count": null,
   "id": "1e3c18cb-8878-4f2d-9dfa-9240ddcdbaae",
   "metadata": {},
   "outputs": [],
   "source": [
    "try:\n",
    "    func = project.get_function(\"convert-spira-accur\")\n",
    "except:\n",
    "    func = project.new_function(\n",
    "                         name=\"convert-spira-accur\",\n",
    "                         kind=\"python\",\n",
    "                         python_version=\"PYTHON3_10\",\n",
    "                         code_src=\"../src/convert.py\",\n",
    "                         handler=\"convert_spira_accur\")    \n"
   ]
  },
  {
   "cell_type": "code",
   "execution_count": null,
   "id": "6cad8682-ff6b-44cf-ab5a-28a0b08ebb6e",
   "metadata": {},
   "outputs": [],
   "source": [
    "for year in [\"2023\", \"2024\", \"2025\"]:\n",
    "    di = project.get_dataitem(f\"spire_accur_flow1h_{year}_source\")\n",
    "    run = func.run(action=\"job\", inputs={\"spira_accur_di\": di.key}, parameters={\"name\": f\"spira_accur_data_{year}\"}, local_execution=True)"
   ]
  },
  {
   "cell_type": "markdown",
   "id": "d8d294b8-45d7-494b-b625-3ee6e40be14e",
   "metadata": {},
   "source": [
    "#### 2.3 Gate data (from restricted area)"
   ]
  },
  {
   "cell_type": "code",
   "execution_count": null,
   "id": "6f292747-9484-49e2-9129-8425ed8d93f5",
   "metadata": {},
   "outputs": [],
   "source": [
    "# try:\n",
    "#     func = project.get_function(\"convert-gates\")\n",
    "# except:\n",
    "func = project.new_function(\n",
    "                         name=\"convert-gates\",\n",
    "                         kind=\"python\",\n",
    "                         python_version=\"PYTHON3_10\",\n",
    "                         code_src=\"../src/convert.py\",\n",
    "                         handler=\"create_gate_data\")"
   ]
  },
  {
   "cell_type": "code",
   "execution_count": null,
   "id": "440982bb-8555-41eb-b282-db75b83d52be",
   "metadata": {},
   "outputs": [],
   "source": [
    "gates_file = \"AreaVerde/AREA VERDE.xlsx\"\n",
    "data_files=[\n",
    "    \"AreaVerde/Export_11_02_2025, 20_11_23 - 20_05_24.xlsx\", \n",
    "    \"AreaVerde/Export_11_02_2025, 20_04_24 - 20_11_24.xlsx\", \n",
    "    \"AreaVerde/Export_11_02_2025, 20_11_24 - 11_02_25.xlsx\"]"
   ]
  },
  {
   "cell_type": "code",
   "execution_count": null,
   "id": "a7c15283-cce8-4f5f-a756-15f51fc52504",
   "metadata": {},
   "outputs": [],
   "source": [
    "%pip install openpyxl"
   ]
  },
  {
   "cell_type": "code",
   "execution_count": null,
   "id": "2a51c602-e796-4a58-a32c-e06a58f36a4c",
   "metadata": {},
   "outputs": [],
   "source": [
    "import os\n",
    "os.environ[\"PROTECTED_ACCESS_KEY_ID\"] = \"\"\n",
    "os.environ[\"PROTECTED_SECRET_ACCESS_KEY\"] = \"\"\n",
    "run = func.run(action=\"job\", parameters={ \"bucket\": \"protected\", \"gates_file\": gates_file,  \"data_files\": data_files}, local_execution=True)"
   ]
  }
 ],
 "metadata": {
  "kernelspec": {
   "display_name": "Python 3 (ipykernel)",
   "language": "python",
   "name": "python3"
  },
  "language_info": {
   "codemirror_mode": {
    "name": "ipython",
    "version": 3
   },
   "file_extension": ".py",
   "mimetype": "text/x-python",
   "name": "python",
   "nbconvert_exporter": "python",
   "pygments_lexer": "ipython3",
   "version": "3.10.11"
  }
 },
 "nbformat": 4,
 "nbformat_minor": 5
}
