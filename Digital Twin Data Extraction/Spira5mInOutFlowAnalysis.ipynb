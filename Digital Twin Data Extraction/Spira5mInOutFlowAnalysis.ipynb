{
 "cells": [
  {
   "cell_type": "code",
   "execution_count": null,
   "metadata": {},
   "outputs": [],
   "source": [
    "%pip install geopandas plotly"
   ]
  },
  {
   "cell_type": "code",
   "execution_count": null,
   "metadata": {},
   "outputs": [],
   "source": [
    "from datetime import datetime\n",
    "import matplotlib.pyplot as plt\n",
    "import pandas as pd\n",
    "import plotly.express as px\n",
    "import plotly.io as pio\n",
    "import numpy as np\n",
    "import os \n",
    "import sys\n",
    "sys.path.append(os.path.join(os.path.abspath(\"..\"), \"functions\"))\n",
    "\n",
    "import temporal_utils"
   ]
  },
  {
   "cell_type": "code",
   "execution_count": null,
   "metadata": {},
   "outputs": [],
   "source": [
    "from environment import dh, pio_renderer\n",
    "if pio_renderer is not None:\n",
    "    pio.renderers.default = pio_renderer"
   ]
  },
  {
   "cell_type": "markdown",
   "metadata": {},
   "source": [
    "# **Variables**"
   ]
  },
  {
   "cell_type": "code",
   "execution_count": null,
   "metadata": {},
   "outputs": [],
   "source": [
    "PROJECT_NAME = \"AreaVerde\""
   ]
  },
  {
   "cell_type": "markdown",
   "metadata": {
    "id": "UvRpA3xsjWIc"
   },
   "source": [
    "# **Load Data**"
   ]
  },
  {
   "cell_type": "code",
   "execution_count": null,
   "metadata": {},
   "outputs": [],
   "source": [
    "# Load data\n",
    "project = dh.get_or_create_project(PROJECT_NAME)\n",
    "\n",
    "spira = project.get_dataitem(\"spira_flow_data_2024\")\n",
    "spira5m = project.get_dataitem(\"spire_flow5m_2024\")\n",
    "accuracy = project.get_dataitem(\"spira_accur_data_2024\")\n",
    "accuracy5m = project.get_dataitem(\"spire_flow5m_accur_2024\")"
   ]
  },
  {
   "cell_type": "code",
   "execution_count": null,
   "metadata": {
    "id": "Z6CeJCh4QYEo"
   },
   "outputs": [],
   "source": [
    "spira = spira.as_df()"
   ]
  },
  {
   "cell_type": "code",
   "execution_count": null,
   "metadata": {},
   "outputs": [],
   "source": [
    "spira_id_map = spira[['spira_code', 'spira_unique_id']].drop_duplicates()"
   ]
  },
  {
   "cell_type": "code",
   "execution_count": null,
   "metadata": {},
   "outputs": [],
   "source": [
    "spira_locations = spira[['spira_unique_id', 'spira_code', 'longitudine', 'latitudine']].drop_duplicates()"
   ]
  },
  {
   "cell_type": "code",
   "execution_count": null,
   "metadata": {},
   "outputs": [],
   "source": [
    "spire_in = ['0.127 4.65 4 1', '0.127 3.84 2 1', '0.127 4.54 4 1', '2.2 2.2 8 1',\n",
    "       '0.127 4.11 2 1', '2.7 2.2 2 1', '2.84 0.127 8 1']\n",
    "spire_out = ['0.127 4.65 8 1', '0.127 3.84 6 1', '0.127 4.54 8 1', '2.2 2.2 4 1',\n",
    "       '0.127 4.11 6 1', '2.7 2.2 2 2', '2.84 0.127 4 1']"
   ]
  },
  {
   "cell_type": "code",
   "execution_count": null,
   "metadata": {},
   "outputs": [],
   "source": [
    "sel = [[('sensor_id', '==', id)] for id in spire_in + spire_out]"
   ]
  },
  {
   "cell_type": "code",
   "execution_count": null,
   "metadata": {},
   "outputs": [],
   "source": [
    "sel"
   ]
  },
  {
   "cell_type": "code",
   "execution_count": null,
   "metadata": {},
   "outputs": [],
   "source": [
    "start_date = datetime(2024, 6, 1)\n",
    "end_date = datetime(2024, 7, 31)"
   ]
  },
  {
   "cell_type": "code",
   "execution_count": null,
   "metadata": {},
   "outputs": [],
   "source": [
    "spira5m.download(\"./tmp/Spira5mFlowData.parquet\", overwrite=True)\n",
    "spira5m = pd.read_parquet(\"./tmp/Spira5mFlowData.parquet\", filters=sel, engine=\"pyarrow\")\n",
    "spira5m = pd.merge(spira5m, spira_id_map, left_on='sensor_id', right_on='spira_code', how='left')\n",
    "spira5m = spira5m[['spira_unique_id', 'spira_code', 'value', 'start']].rename(columns={'value': 'count', 'start': 'DateTime'})\n",
    "spira5m['DateTime'] = pd.to_datetime(spira5m['DateTime'], format='%Y-%m-%d %H:%M')\n",
    "spira5m = spira5m[spira5m['DateTime'].between(start_date, end_date, inclusive='left')]\n",
    "spira5m = spira5m.sort_values('DateTime')\n",
    "spira5m"
   ]
  },
  {
   "cell_type": "code",
   "execution_count": null,
   "metadata": {},
   "outputs": [],
   "source": [
    "accuracy = accuracy.as_df()\n",
    "accuracy['DateTime'] = pd.to_datetime(accuracy['DateTime'])\n",
    "accuracy = accuracy[accuracy['DateTime'].between(start_date, end_date, inclusive='left')]\n",
    "accuracy = accuracy.sort_values('DateTime')\n",
    "accuracy"
   ]
  },
  {
   "cell_type": "code",
   "execution_count": null,
   "metadata": {},
   "outputs": [],
   "source": [
    "holiday_namefile = \"data/holiday_list.csv\"\n",
    "holiday_list = pd.read_csv(holiday_namefile, header=None)[0].to_list()\n",
    "\n",
    "is_week = spira5m['DateTime'].apply(\n",
    "    lambda x: temporal_utils.add_daytype(x, holiday_list=holiday_list)\n",
    "    ) == \"Weekday\" \n",
    "spira5m = spira5m[is_week]\n",
    "\n",
    "is_week = accuracy['DateTime'].apply(\n",
    "    lambda x: temporal_utils.add_daytype(x, holiday_list=holiday_list)\n",
    "    ) == \"Weekday\" \n",
    "accuracy = accuracy[is_week]"
   ]
  },
  {
   "cell_type": "markdown",
   "metadata": {},
   "source": [
    "# **Plot spira data**"
   ]
  },
  {
   "cell_type": "code",
   "execution_count": null,
   "metadata": {},
   "outputs": [],
   "source": [
    "def plot_spira(spira_id, start=0, days=0):\n",
    "    spira5m_sel = spira5m[spira5m['spira_code'] == spira_id]\n",
    "    accuracy_sel = accuracy[accuracy['spira_code'] == spira_id]\n",
    "    plt.figure(figsize=(12,3))\n",
    "    plt.plot(spira5m_sel.iloc[24*12*start:24*12*(start+days) if days else -1]['DateTime'], \n",
    "             spira5m_sel.iloc[24*12*start:24*12*(start+days) if days else -1]['count'])\n",
    "    plt.plot(accuracy_sel.iloc[24*start:24*(start+days) if days else -1]['DateTime'], \n",
    "             accuracy_sel.iloc[24*start:24*(start+days) if days else -1]['count'])\n",
    "    \n",
    "def map_spira(spira_id):\n",
    "    data_points = spira_locations[spira_locations['spira_code'] == spira_id].copy()\n",
    "    data_points['size'] = 1\n",
    "    fig = px.scatter_mapbox(\n",
    "        data_points,\n",
    "        lat='latitudine',\n",
    "        lon='longitudine',\n",
    "        mapbox_style='open-street-map',\n",
    "        size='size',\n",
    "        size_max=12,\n",
    "        zoom=11.75,\n",
    "        height=400,\n",
    "    )\n",
    "    fig.update_layout(margin={\"r\":0,\"t\":0,\"l\":0,\"b\":0})\n",
    "    fig.show()"
   ]
  },
  {
   "cell_type": "code",
   "execution_count": null,
   "metadata": {},
   "outputs": [],
   "source": [
    "for si,so in zip(spire_in, spire_out):\n",
    "    plot_spira(si)#, start=10, days=1)\n",
    "    plot_spira(so)#, start=10, days=1)"
   ]
  },
  {
   "cell_type": "markdown",
   "metadata": {},
   "source": [
    "# Calculation of out-flow"
   ]
  },
  {
   "cell_type": "code",
   "execution_count": null,
   "metadata": {},
   "outputs": [],
   "source": [
    "flow_in = spira5m[spira5m['spira_code'].isin(spire_in)]\n",
    "flow_in['time'] = flow_in['DateTime'].dt.time\n",
    "flow_in = flow_in.drop(columns=['spira_unique_id','spira_code','DateTime'])\n",
    "flow_in = flow_in.groupby('time').sum()"
   ]
  },
  {
   "cell_type": "code",
   "execution_count": null,
   "metadata": {},
   "outputs": [],
   "source": [
    "flow_out = spira5m[spira5m['spira_code'].isin(spire_out)]\n",
    "flow_out['time'] = flow_out['DateTime'].dt.time\n",
    "flow_out = flow_out.drop(columns=['spira_unique_id','spira_code','DateTime'])\n",
    "flow_out = flow_out.groupby('time').sum()"
   ]
  },
  {
   "cell_type": "code",
   "execution_count": null,
   "metadata": {},
   "outputs": [],
   "source": [
    "flow = pd.merge(flow_in,flow_out, on='time', suffixes=['_in','_out'])\n",
    "flow = flow / flow.mean()\n",
    "flow.plot();"
   ]
  },
  {
   "cell_type": "code",
   "execution_count": null,
   "metadata": {},
   "outputs": [],
   "source": [
    "flow['out-in-ratio'] = flow['count_out'] / flow['count_in']\n",
    "flow['out-in-ratio'].plot();"
   ]
  },
  {
   "cell_type": "code",
   "execution_count": null,
   "metadata": {},
   "outputs": [],
   "source": [
    "flow['out-in-ratio'].values"
   ]
  },
  {
   "cell_type": "code",
   "execution_count": null,
   "metadata": {},
   "outputs": [],
   "source": [
    "# TODO: This should come from the data lake\n",
    "# inflow from gate estimation (vehicles/hour) computed for weekdays only\n",
    "in_flow_week = np.array([ \n",
    "    221.25 , 208.70090169, 196.59507377, 184.93251626,173.71322915, 162.93721244, 152.60446612, 142.71499021,\n",
    "    133.2687847 , 124.26584959, 115.70618488, 107.58979057,99.91666667, 92.68681316, 85.90023005, 79.55691735,\n",
    "    73.65687504, 68.20010313, 63.18660163, 58.57940003,54.34152786, 50.4729851 , 46.97377176, 43.84388784,\n",
    "    41.08333333, 38.69210825, 36.67021258, 35.01764633,33.73440951, 32.82050209, 32.2759241 , 31.97296144,\n",
    "    31.78390001, 31.70873982, 31.74748086, 31.90012315,32.16666667, 32.54711142, 33.04145742, 33.64970465,\n",
    "    34.37185312, 35.20790282, 36.15785376, 37.26801653,38.58470172, 40.10790933, 41.83763935, 43.7738918 ,\n",
    "    45.91666667, 48.26596395, 50.82178366, 53.58412578,56.55299032, 59.72837728, 63.11028667, 67.02310605,\n",
    "    71.79122301, 77.41463755, 83.89334968, 91.22735938,99.41666667, 108.46127153, 118.36117398, 129.11637401,\n",
    "    140.72687162, 153.19266681, 166.51375958, 181.49843978,198.95499726, 218.88343202, 241.28374407, 266.15593339,\n",
    "    293.5 , 323.31594389, 355.60376506, 390.36346351,427.59503924, 467.29849225, 509.47382255, 552.31727381,\n",
    "    594.02508973, 634.59727031, 674.03381555, 712.33472545,749.5 , 785.52963921, 820.42364308, 854.18201161,886.80474479, 918.29184263, 948.64330513, 976.28773216,\n",
    "    999.65372359, 1018.74127943, 1033.55039966, 1044.0810843 ,1050.33333333, 1052.30714677, 1050.00252461, 1043.41946686,\n",
    "    1032.5579735 , 1017.41804455, 997.99967999, 977.02114803,957.20071686, 938.53838647, 921.03415686, 904.68802804,\n",
    "    889.5 , 875.47007275, 862.59824628, 850.88452059,840.32889569, 830.93137158, 822.69194825, 815.37241668,\n",
    "    808.73456786, 802.77840178, 797.50391844, 792.91111785,\n",
    "    789. , 785.77056489, 783.22281253, 781.35674292,780.17235604, 779.66965191, 779.84863052, 780.46888892,\n",
    "    781.29002415, 782.3120362 , 783.53492508, 784.9586908 ,786.58333333, 788.4088527 , 790.43524889, 792.66252192,\n",
    "    795.09067177, 797.71969844, 800.54960195, 803.02721276,804.59936133, 805.26604768, 805.02727179, 803.88303368,\n",
    "    801.83333333, 798.87817076, 795.01754596, 790.25145892,784.57990966, 778.00289817, 770.52042444, 763.0159827 ,\n",
    "    756.37306713, 750.59167774, 745.67181454, 741.61347751,738.41666667, 736.081382 , 734.60762352, 733.99539122,\n",
    "    734.24468509, 735.35550515, 737.32785139, 739.61300218,741.6622359 , 743.47555253, 745.0529521 , 746.39443459,\n",
    "    747.5 , 748.36964834, 749.0033796 , 749.40119378,749.56309089, 749.48907093, 749.17913389, 749.28980052,\n",
    "    750.47759157, 752.74250705, 756.08454694, 760.50371126,766. , 772.57341316, 780.22395074, 788.95161274,\n",
    "    798.75639917, 809.63831001, 821.59734528, 834.56717618,848.48147392, 863.34023851, 879.14346994, 895.89116821,\n",
    "    913.58333333, 932.2199653 , 951.8010641 , 972.32662975,993.79666225, 1016.21116159, 1039.57012777, 1062.26316093,\n",
    "    1082.67986119, 1100.82022857, 1116.68426305, 1130.27196464,1141.58333333, 1150.61836914, 1157.37707205, 1161.85944207,\n",
    "    1164.06547919, 1163.99518343, 1161.64855477, 1157.67561751,1152.72639595, 1146.80089008, 1139.89909992, 1132.02102544,\n",
    "    1123.16666667, 1113.33602359, 1102.5290962 , 1090.74588451,1077.98638852, 1064.25060823, 1049.53854363, 1034.03498586,\n",
    "    1017.92472607, 1001.20776426, 983.88410042, 965.95373456,947.41666667, 928.27289675, 908.52242481, 888.16525085,\n",
    "    867.20137486, 845.63079684, 823.4535168 , 800.82280064,777.89191427, 754.66085769, 731.12963089, 707.29823388,\n",
    "    683.16666667, 658.73492924, 634.0030216 , 608.97094374,583.63869568, 558.0062774 , 532.07368891, 506.86154363,\n",
    "    483.39045498, 461.66042296, 441.67144757, 423.4235288 ,406.91666667, 392.15086116, 379.12611228, 367.84242003,\n",
    "    358.29978441, 350.49820541, 344.43768305, 339.53803014,335.21905953, 331.48077121, 328.32316518, 325.74624144,\n",
    "    323.75 , 322.33444085, 321.49956399, 321.24536942,321.57185714, 322.47902716, 323.96687946, 325.32925698,\n",
    "    325.86000264, 325.55911644, 324.42659838, 322.46244845,319.66666667, 316.03925302, 311.58020751, 306.28953013,\n",
    "    300.1672209 , 293.2132798 , 285.42770685, 276.81050203,267.36166534, 257.0811968 , 245.9690964 , 234.02536413\n",
    "])\n",
    "\n",
    "in_flow = in_flow_week # move to hourly vehicles, not 5m-vehicles"
   ]
  },
  {
   "cell_type": "code",
   "execution_count": null,
   "metadata": {},
   "outputs": [],
   "source": [
    "raw_out_flow = in_flow * flow['out-in-ratio'].values"
   ]
  },
  {
   "cell_type": "code",
   "execution_count": null,
   "metadata": {},
   "outputs": [],
   "source": [
    "from scipy.signal import savgol_filter\n",
    "smoothed_out_flow = savgol_filter(raw_out_flow, 12*2+1, 2)"
   ]
  },
  {
   "cell_type": "code",
   "execution_count": null,
   "metadata": {},
   "outputs": [],
   "source": [
    "plt.plot(raw_out_flow)\n",
    "plt.plot(smoothed_out_flow)"
   ]
  },
  {
   "cell_type": "code",
   "execution_count": null,
   "metadata": {},
   "outputs": [],
   "source": [
    "out_flow = smoothed_out_flow * sum(in_flow) / sum(smoothed_out_flow)\n",
    "print(sum(in_flow), sum(out_flow))"
   ]
  },
  {
   "cell_type": "code",
   "execution_count": null,
   "metadata": {},
   "outputs": [],
   "source": [
    "plt.plot(in_flow)\n",
    "plt.plot(out_flow)"
   ]
  },
  {
   "cell_type": "code",
   "execution_count": 30,
   "metadata": {},
   "outputs": [
    {
     "name": "stdout",
     "output_type": "stream",
     "text": [
      "[ 233.38097382  220.82386919  208.66447564  196.90279317  185.53882178\n",
      "  174.57256146  164.00401223  153.83317407  144.06004699  134.68463099\n",
      "  125.70692607  117.12693223  108.94464946  101.0321295    94.13377195\n",
      "   86.99545139   79.56647229   72.89347297   66.43539924   61.17103286\n",
      "   57.63701658   53.34527257   50.4033317    47.759661     45.73497488\n",
      "   43.90603271   41.70428204   39.91449515   39.15679155   38.09222034\n",
      "   37.59168808   37.72430755   37.48694063   37.97971866   38.86532297\n",
      "   40.00690705   41.1382239    41.27255557   42.03582926   43.44062896\n",
      "   45.01849213   47.16432432   49.31850276   52.21059806   54.77757331\n",
      "   57.14070142   59.22688828   61.83896169   65.21928226   67.04735569\n",
      "   70.0809006    71.92922162   72.7786066    75.16039375   78.58379158\n",
      "   83.60695876   89.25750502   93.98382952  102.12187753  108.64578606\n",
      "  114.67457031  123.2834927   133.47508488  145.54121758  156.08214232\n",
      "  168.81025967  183.87309895  202.2234539   224.18759278  243.95564543\n",
      "  265.66429599  292.52932508  317.79647799  344.9508563   378.78430635\n",
      "  413.33758064  446.84846097  490.01959135  534.3712816   580.88058797\n",
      "  622.48861554  665.11606446  710.70582349  750.92433028  793.02244353\n",
      "  833.67680924  867.5229037   900.52273186  930.83950341  960.91070543\n",
      "  987.83291416 1009.74080772 1026.52101367 1035.17676202 1042.71839831\n",
      " 1043.99153351 1041.13844737 1035.96755075 1029.41166672 1016.29971021\n",
      " 1001.3092584   989.47166903  970.10384782  948.5897432   923.5646006\n",
      "  901.39445702  878.96077706  858.5563716   840.71812307  823.46242241\n",
      "  810.00473918  800.01069798  790.94707985  783.39820415  778.38441342\n",
      "  774.31747136  773.38627615  771.95539807  772.00138138  772.89160129\n",
      "  775.39762518  775.79549931  779.93424535  782.388472    787.14912667\n",
      "  790.80560406  791.13695772  790.67991276  788.99862582  788.99975721\n",
      "  789.48802905  794.07434339  795.68325142  796.77293574  799.04201317\n",
      "  797.54404089  796.20271733  797.73396008  799.33184574  799.70558476\n",
      "  801.57611639  803.23389929  804.84978994  804.17001722  800.2436378\n",
      "  799.52714921  803.55718169  801.54781214  800.46789985  797.00742118\n",
      "  788.25677571  781.47861636  775.77825567  773.19206343  769.4190255\n",
      "  768.33852595  766.40521157  763.50568329  760.832367    758.60433491\n",
      "  757.2314636   759.33384749  759.92161156  760.2634731   762.79639775\n",
      "  762.46683578  761.38786017  758.86695224  756.37666935  757.2691232\n",
      "  759.48895345  756.83237216  755.9419641   751.60892539  747.80622134\n",
      "  747.78990459  749.77408703  752.77854767  753.28916998  757.25940755\n",
      "  764.12894948  769.01993978  779.37591699  795.95227844  811.09899901\n",
      "  825.35272778  838.29781452  851.89662744  867.06238483  883.20741689\n",
      "  901.33987243  916.92618364  930.22305078  943.05997435  960.20339662\n",
      "  978.96899428  993.69348464 1003.04809112 1013.96504438 1022.21601136\n",
      " 1030.7552496  1038.72961607 1045.85387639 1052.56871626 1056.22471886\n",
      " 1055.40556205 1061.4493517  1067.53452654 1066.10217331 1062.96188734\n",
      " 1059.06667558 1055.87584762 1053.14144238 1046.51610526 1039.375427\n",
      " 1030.81368807 1020.46855986 1013.08636246 1010.64883215 1007.11776449\n",
      "  997.2943457   986.63314024  979.23301985  971.89403131  964.75315405\n",
      "  955.17045956  943.69401935  928.20338455  914.7760309   903.36125379\n",
      "  894.84270558  882.62646182  863.90766424  845.02423897  824.69943747\n",
      "  805.26726683  781.94129324  756.72007651  732.22047699  706.82035816\n",
      "  680.49860744  656.96772472  634.47123056  611.51113442  586.81196978\n",
      "  565.07811412  542.86699149  520.9205191   500.98126772  481.90154566\n",
      "  464.93236669  448.26999257  435.06428181  421.71897584  409.59461057\n",
      "  398.61534038  388.06113577  378.86893305  371.13773423  364.25198048\n",
      "  356.71765738  351.88394111  347.24010377  346.32385715  345.12956257\n",
      "  346.19381322  346.80991732  346.92820276  346.51040017  348.27544292\n",
      "  347.80132067  349.39083131  350.65359029  349.07209635  348.27302721\n",
      "  345.98271159  342.15181282  337.62558026  332.40401389  326.48711372\n",
      "  319.87487975  312.56731199  304.56441042  295.86617505  286.47260589\n",
      "  276.38370292  265.59946615  254.11989559]\n"
     ]
    }
   ],
   "source": [
    "print(out_flow)"
   ]
  }
 ],
 "metadata": {
  "colab": {
   "collapsed_sections": [
    "vNgD3FDmjT-H",
    "1BNPUUQNo7Sv"
   ],
   "provenance": []
  },
  "kernelspec": {
   "display_name": "env",
   "language": "python",
   "name": "python3"
  },
  "language_info": {
   "codemirror_mode": {
    "name": "ipython",
    "version": 3
   },
   "file_extension": ".py",
   "mimetype": "text/x-python",
   "name": "python",
   "nbconvert_exporter": "python",
   "pygments_lexer": "ipython3",
   "version": "3.12.3"
  }
 },
 "nbformat": 4,
 "nbformat_minor": 4
}
