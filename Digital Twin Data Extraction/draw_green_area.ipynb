{
 "cells": [
  {
   "cell_type": "code",
   "execution_count": 4,
   "metadata": {},
   "outputs": [],
   "source": [
    "import geopandas as gpd\n",
    "import pandas as pd\n",
    "from shapely import Polygon\n",
    "import contextily as cx\n",
    "from pathlib import Path\n",
    "import shapelysmooth as shps\n",
    "import shapely"
   ]
  },
  {
   "cell_type": "markdown",
   "metadata": {},
   "source": [
    "All data files are assumed to be inside a `data` folder located at the project root."
   ]
  },
  {
   "cell_type": "code",
   "execution_count": 5,
   "metadata": {},
   "outputs": [],
   "source": [
    "cx_tile = cx.providers.CartoDB.Positron\n",
    "data_dir = Path('.').absolute().parent / 'data'"
   ]
  },
  {
   "cell_type": "code",
   "execution_count": 6,
   "metadata": {},
   "outputs": [],
   "source": [
    "xy_crs = \"EPSG:6875\"\n",
    "gates_gdf = pd.read_parquet(data_dir / \"VarchiAreaVerde.parquet\")\n",
    "gates_gdf = gpd.GeoDataFrame(\n",
    "    gates_gdf,\n",
    "    geometry=gpd.points_from_xy(\n",
    "        gates_gdf[\"Longitudine\"], gates_gdf[\"Latitudine\"], crs=\"epsg:4326\"\n",
    "    ),\n",
    ").to_crs(xy_crs)\n",
    "p = Polygon(gates_gdf[\"geometry\"])\n",
    "green_area = gpd.GeoDataFrame(\n",
    "    geometry=[shps.catmull_rom_smooth(shapely.concave_hull(p, ratio=0.4))],\n",
    "    crs=gates_gdf.crs,\n",
    ")"
   ]
  },
  {
   "cell_type": "code",
   "execution_count": 10,
   "metadata": {},
   "outputs": [],
   "source": [
    "green_area.to_parquet(data_dir / 'green_area.parquet')"
   ]
  },
  {
   "cell_type": "code",
   "execution_count": null,
   "metadata": {},
   "outputs": [],
   "source": [
    "m = green_area.explore(color=\"green\", style_kwds={\"fillOpacity\": 0.2}, tiles=cx_tile)\n",
    "gates_gdf.explore(m=m, marker_kwds={\"radius\": 10})\n",
    "m"
   ]
  },
  {
   "cell_type": "code",
   "execution_count": null,
   "metadata": {},
   "outputs": [],
   "source": []
  }
 ],
 "metadata": {
  "kernelspec": {
   "display_name": "default",
   "language": "python",
   "name": "python3"
  },
  "language_info": {
   "codemirror_mode": {
    "name": "ipython",
    "version": 3
   },
   "file_extension": ".py",
   "mimetype": "text/x-python",
   "name": "python",
   "nbconvert_exporter": "python",
   "pygments_lexer": "ipython3",
   "version": "3.12.8"
  }
 },
 "nbformat": 4,
 "nbformat_minor": 2
}
