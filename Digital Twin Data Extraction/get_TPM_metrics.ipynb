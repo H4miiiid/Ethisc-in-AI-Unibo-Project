{
 "cells": [
  {
   "cell_type": "code",
   "execution_count": null,
   "id": "f2e4f0ae",
   "metadata": {},
   "outputs": [],
   "source": [
    "import pandas as pd\n",
    "import geopandas as gpd\n",
    "\n",
    "from shapely.geometry import LineString, MultiLineString, Point\n",
    "from shapely.ops import unary_union, snap\n",
    "\n",
    "import osmnx\n",
    "\n",
    "import matplotlib.pyplot as plt\n",
    "import seaborn as sns\n",
    "\n",
    "import os\n",
    "import sys\n",
    "sys.path.append(os.path.join(os.path.abspath(\"..\"), \"functions\"))\n",
    "\n",
    "import data_reader\n",
    "import spatial_assignment\n",
    "from constants import CRS_LATLONG, CRS_PROJECTED"
   ]
  },
  {
   "cell_type": "markdown",
   "id": "b63c8922",
   "metadata": {},
   "source": [
    "# 1) Frequency"
   ]
  },
  {
   "cell_type": "code",
   "execution_count": null,
   "id": "7309a5ae",
   "metadata": {},
   "outputs": [],
   "source": [
    "av = data_reader.AV_shape(namefile=\"area_verde_manual_v1.geojson\", datapath=\"../data\")\n",
    "\n",
    "b_av = av.copy()\n",
    "b_av['geometry'] = b_av.buffer(distance=3000)"
   ]
  },
  {
   "cell_type": "code",
   "execution_count": null,
   "id": "03a275a3",
   "metadata": {},
   "outputs": [],
   "source": [
    "data = gpd.read_parquet(\"../data/TPM/tper-vigente.parquet\")\n",
    "data.head()"
   ]
  },
  {
   "cell_type": "code",
   "execution_count": null,
   "id": "40d1594d",
   "metadata": {},
   "outputs": [],
   "source": [
    "counts_per_stop = data.groupby(['stop_id']).count().reset_index()[[ 'stop_id', 'trip_id']].rename(columns={'trip_id':'counts'}).sort_values(by='counts')\n",
    "print(counts_per_stop.head())\n",
    "print(counts_per_stop.tail())\n",
    "\n",
    "sns.histplot(data=counts_per_stop, x='counts')"
   ]
  },
  {
   "cell_type": "code",
   "execution_count": null,
   "id": "d9aa1bab",
   "metadata": {},
   "outputs": [],
   "source": [
    "# n. passaggi medi alla fermata all'ora\n",
    "\n",
    "counts_per_stop['counts'].mean()/24"
   ]
  },
  {
   "cell_type": "code",
   "execution_count": 42,
   "id": "749475ee",
   "metadata": {},
   "outputs": [
    {
     "data": {
      "text/plain": [
       "0.32591402575063977"
      ]
     },
     "execution_count": 42,
     "metadata": {},
     "output_type": "execute_result"
    }
   ],
   "source": [
    "# frequenza media oraria\n",
    "\n",
    "float(1/ (counts_per_stop['counts'].mean()/24))"
   ]
  },
  {
   "cell_type": "markdown",
   "id": "a6b62ade",
   "metadata": {},
   "source": [
    "# 2) Capillarity"
   ]
  },
  {
   "cell_type": "code",
   "execution_count": null,
   "id": "0744d16c",
   "metadata": {},
   "outputs": [],
   "source": [
    "def process_lines(gdf, snap_tolerance=1e-8):\n",
    "    # 1. Keep only geometry and reproject\n",
    "    gdf = gdf[['geometry']]\n",
    "\n",
    "    # 1.5: Remove directionality\n",
    "    gdf['geometry'] = gdf['geometry'].apply(normalize_linestring_direction)\n",
    "\n",
    "    # 2. Remove exact duplicates\n",
    "    gdf = gdf.drop_duplicates(subset='geometry')\n",
    "\n",
    "    # 3. Snap geometries to themselves (cleans tiny gaps)\n",
    "    gdf['geometry'] = gdf['geometry'].apply(lambda geom: snap(geom, geom, tolerance=snap_tolerance))\n",
    "\n",
    "    # 4. Merge into a MultiLineString\n",
    "    merged = unary_union(gdf.geometry)\n",
    "    if isinstance(merged, LineString):\n",
    "        merged = MultiLineString([merged])\n",
    "    elif isinstance(merged, (list, tuple)):\n",
    "        merged = MultiLineString(merged)\n",
    "\n",
    "    # 5. Explode and drop overlapping segments\n",
    "    exploded = gpd.GeoSeries(merged).explode(index_parts=False)\n",
    "    unique = exploded.drop_duplicates()\n",
    "\n",
    "    # 6. Calculate total length\n",
    "    total_length = unique.length.sum()\n",
    "\n",
    "    # Return as GeoDataFrame\n",
    "    unique_gdf = gpd.GeoDataFrame(geometry=unique, crs=gdf.crs)\n",
    "    return unique_gdf, total_length\n",
    "\n",
    "def normalize_linestring_direction(geom):\n",
    "    if isinstance(geom, LineString):\n",
    "        coords = list(geom.coords)\n",
    "        return LineString(coords if coords < coords[::-1] else coords[::-1])\n",
    "    return geom\n"
   ]
  },
  {
   "cell_type": "code",
   "execution_count": null,
   "id": "b77c5344",
   "metadata": {},
   "outputs": [],
   "source": [
    "shp = gpd.read_file('../data/TPM/tper-vigente.geojson')"
   ]
  },
  {
   "cell_type": "code",
   "execution_count": null,
   "id": "d7fb079e",
   "metadata": {},
   "outputs": [],
   "source": [
    "# Calculate the length of the PT road newtork\n",
    "\n",
    "gdf = shp[~shp['geo_point_2d'].isnull()][['geometry']]\n",
    "gdf = gdf.set_crs(CRS_LATLONG).to_crs(CRS_PROJECTED)\n",
    "\n",
    "unique_pt_roads, length_pt_roads = process_lines(gdf=gdf)\n",
    "\n",
    "print(length_pt_roads)"
   ]
  },
  {
   "cell_type": "code",
   "execution_count": null,
   "id": "6d8e67b9",
   "metadata": {},
   "outputs": [],
   "source": [
    "unique_pt_roads.plot()"
   ]
  },
  {
   "cell_type": "code",
   "execution_count": null,
   "id": "000ebf8c",
   "metadata": {},
   "outputs": [],
   "source": [
    "# Create a convex hull around the roads (to extract roads from OSM)\n",
    "\n",
    "unique_pt_roads = unique_pt_roads[['geometry']]\n",
    "unique_pt_roads = unique_pt_roads.to_crs(CRS_LATLONG)\n",
    "\n",
    "merged = unary_union(unique_pt_roads.geometry)\n",
    "convex_hull = merged.convex_hull\n",
    "\n",
    "unique_pt_roads = unique_pt_roads.to_crs(CRS_PROJECTED)"
   ]
  },
  {
   "cell_type": "code",
   "execution_count": null,
   "id": "5a6a7e2f",
   "metadata": {},
   "outputs": [],
   "source": [
    "# Download the road newtork from OSM\n",
    "\n"
   ]
  },
  {
   "cell_type": "code",
   "execution_count": null,
   "id": "2ff0fcf7",
   "metadata": {},
   "outputs": [],
   "source": [
    "# rn = osmnx.graph_from_polygon(convex_hull, network_type=\"drive\", simplify=True)\n",
    "\n",
    "# rn2 = osmnx.convert.graph_to_gdfs(G=rn, nodes=False, edges=True)\n",
    "# rn2 = rn2.reset_index()[['u','v','key','length','geometry']]\n",
    "# rn2.to_parquet(path=\"../data/road_newtork_all_bologna_v1.parquet\")\n",
    "\n",
    "rn2 = gpd.read_parquet(path=\"../data/road_newtork_all_bologna_v1.parquet\")"
   ]
  },
  {
   "cell_type": "code",
   "execution_count": null,
   "id": "93bef9ac",
   "metadata": {},
   "outputs": [],
   "source": [
    "# Calculate the length of the all road newtork\n",
    "\n",
    "gdf = rn2[['geometry']]\n",
    "gdf = gdf.set_crs(CRS_LATLONG).to_crs(CRS_PROJECTED)\n",
    "\n",
    "unique_all_roads, length_all_roads = process_lines(gdf=gdf)\n",
    "\n",
    "print(length_all_roads)"
   ]
  },
  {
   "cell_type": "code",
   "execution_count": null,
   "id": "b30d3550",
   "metadata": {},
   "outputs": [],
   "source": [
    "unique_all_roads.plot()"
   ]
  },
  {
   "cell_type": "code",
   "execution_count": null,
   "id": "a895d0b4",
   "metadata": {},
   "outputs": [],
   "source": [
    "# Create a unified plot of both road networks\n",
    "\n",
    "fig, ax = plt.subplots(figsize=(10, 10))\n",
    "\n",
    "unique_all_roads.plot(ax=ax, color='gray', linewidth=0.5, alpha=1, label='All Roads')\n",
    "\n",
    "unique_pt_roads.plot(ax=ax, color='blue', linewidth=1, label='Roads with TPM')\n",
    "\n",
    "plt.legend()\n",
    "plt.show()\n"
   ]
  },
  {
   "cell_type": "code",
   "execution_count": 41,
   "id": "8a8f360f",
   "metadata": {},
   "outputs": [
    {
     "data": {
      "text/plain": [
       "0.1962080743230842"
      ]
     },
     "execution_count": 41,
     "metadata": {},
     "output_type": "execute_result"
    }
   ],
   "source": [
    "# Capillarity index:\n",
    "\n",
    "float(length_pt_roads / length_all_roads)"
   ]
  },
  {
   "cell_type": "markdown",
   "id": "d2b303d0",
   "metadata": {},
   "source": [
    "# 3) Cost\n"
   ]
  },
  {
   "cell_type": "markdown",
   "id": "1d863524",
   "metadata": {},
   "source": [
    "Cerco la vicinanza spaziale, dove per le OD abbiamo il punto preciso, per le tariffe abbiamo fatto geocoding"
   ]
  },
  {
   "cell_type": "code",
   "execution_count": null,
   "id": "674bbdb2",
   "metadata": {},
   "outputs": [],
   "source": [
    "file1 = \"../data/OD/Shape_zone_centroid.SHP\" \n",
    "file2 = \"../data/TPM/tariffe_zona_bologna_geocoding.csv\"\n",
    "\n",
    "localita_file1 = gpd.read_file(file1)\n",
    "localita_file1 = localita_file1.set_crs(\"EPSG:23032\").to_crs(CRS_PROJECTED)\n",
    "\n",
    "print(f\"Località 1\")\n",
    "print(localita_file1.head())\n",
    "\n",
    "localita_file2 = pd.read_csv(file2)\n",
    "geometry = [Point(xy) for xy in zip(localita_file2['Longitude'], localita_file2['Latitude'])]\n",
    "localita_file2 = gpd.GeoDataFrame(localita_file2, geometry=geometry, crs=CRS_LATLONG).to_crs(CRS_PROJECTED)\n",
    "localita_file2 = localita_file2[~localita_file2['Latitude'].isnull()]\n",
    "\n",
    "print(f\"Località 2\")\n",
    "print(localita_file2.head())"
   ]
  },
  {
   "cell_type": "code",
   "execution_count": null,
   "id": "0e3fe429",
   "metadata": {},
   "outputs": [],
   "source": [
    "nearest_mapping = {}\n",
    "\n",
    "for idx, point_row in localita_file2.iterrows():\n",
    "\n",
    "    point = point_row.geometry\n",
    "    point_code = point_row['LOCALITA']\n",
    "    \n",
    "    distances = localita_file1.distance(point)\n",
    "    \n",
    "    min_dist = distances.min()\n",
    "    if min_dist < 5000:\n",
    "        nearest_idx = distances.idxmin()\n",
    "        nearest_code = int(localita_file1.loc[nearest_idx, 'NO'])\n",
    "    else:\n",
    "        nearest_code = None\n",
    "    \n",
    "    nearest_mapping[point_code] = nearest_code\n",
    "\n",
    "nearest_mapping\n"
   ]
  },
  {
   "cell_type": "code",
   "execution_count": null,
   "id": "20709387",
   "metadata": {},
   "outputs": [],
   "source": [
    "zone_tariffe_mapping = {}\n",
    "\n",
    "zona = localita_file2.sort_values(by='TARIFFA')['TARIFFA'].unique()\n",
    "costo = [2.9, 3.7, 4.5, 5.4, 5.4, 6.2, 6.8, 7.4, 4, 2.3 ]\n",
    "\n",
    "for i in range(len(costo)):\n",
    "    zone_tariffe_mapping[zona[i]] = costo[i]\n",
    "\n",
    "zone_tariffe_mapping"
   ]
  },
  {
   "cell_type": "code",
   "execution_count": null,
   "id": "b0634a9d",
   "metadata": {},
   "outputs": [],
   "source": [
    "tariffe_mapping = {}\n",
    "\n",
    "for key, value in nearest_mapping.items():\n",
    "    if value is not None:\n",
    "        if value not in tariffe_mapping:\n",
    "            tariffe_mapping[value] = {}\n",
    "        \n",
    "        tariffa_new = localita_file2.loc[localita_file2['LOCALITA'] == key, 'TARIFFA']\n",
    "        if not tariffa_new.empty:\n",
    "            tariffa_new = tariffa_new.iloc[0]\n",
    "\n",
    "            cost_new = zone_tariffe_mapping[tariffa_new]\n",
    "\n",
    "            if cost_new not in tariffe_mapping[value]:\n",
    "                tariffe_mapping[value][cost_new] = 0\n",
    "            tariffe_mapping[value][cost_new] = tariffe_mapping[value][cost_new] + 1\n",
    "\n",
    "tariffe_mapping"
   ]
  },
  {
   "cell_type": "code",
   "execution_count": null,
   "id": "c25ea21e",
   "metadata": {},
   "outputs": [],
   "source": [
    "cost_mapping = {}\n",
    "\n",
    "for key, value in tariffe_mapping.items():\n",
    "    tot_cost = 0\n",
    "    tot_n = 0\n",
    "    for c, n in value.items():\n",
    "        tot_cost += c*n\n",
    "        tot_n += n\n",
    "    cost_mapping[key] = round(tot_cost/tot_n,4)\n",
    "\n",
    "cost_mapping"
   ]
  },
  {
   "cell_type": "code",
   "execution_count": null,
   "id": "3e58eb41",
   "metadata": {},
   "outputs": [],
   "source": [
    "av = data_reader.AV_shape(namefile=\"area_verde_manual_v1.geojson\", datapath=\"../data\")\n",
    "flow_shape = data_reader.OD_shapes(namefile_polygons=\"Shape_zone.SHP\", namefile_centers=\"Shape_zone_centroid.SHP\", datapath=\"../data/OD\")\n",
    "flow_shape = spatial_assignment.OD_to_AV(df_od=flow_shape, df_av=av)[['id', 'mostly_within_area_verde']]\n",
    "flow_shape.head()"
   ]
  },
  {
   "cell_type": "code",
   "execution_count": null,
   "id": "d18030be",
   "metadata": {},
   "outputs": [],
   "source": [
    "flow_data = data_reader.OD_flows(namefile=\"PROGETTO-OD.xlsx\", datapath=\"../data/OD\")\n",
    "\n",
    "flow_data = (\n",
    "    flow_data\n",
    "    .merge(flow_shape, how='left', left_on='from', right_on='id')\n",
    "    .drop(columns='id')\n",
    "    .rename(columns={'mostly_within_area_verde': 'from_mwav'})\n",
    "    .merge(flow_shape, how='left', left_on='to', right_on='id')\n",
    "    .drop(columns='id')\n",
    "    .rename(columns={'mostly_within_area_verde': 'to_mwav'})\n",
    ")\n",
    "\n",
    "flow_data.head()"
   ]
  },
  {
   "cell_type": "code",
   "execution_count": null,
   "id": "54a37aa8",
   "metadata": {},
   "outputs": [],
   "source": [
    "cost_list = []\n",
    "del_list = []\n",
    "\n",
    "for _, row in flow_data.iterrows():\n",
    "\n",
    "    # Case of external trips\n",
    "    if (row['from_mwav'] == False) and (row['to_mwav'] == False):\n",
    "        cost_list.append(None)\n",
    "        del_list.append(False)\n",
    "        continue\n",
    "\n",
    "    # Case of urban trips\n",
    "    if (row['from_mwav'] == True) and (row['to_mwav'] == True):\n",
    "        cost_list.append(zone_tariffe_mapping['urb.BO'])\n",
    "        del_list.append(True)\n",
    "        continue\n",
    "\n",
    "    # Case of extra-urban trips\n",
    "    if (row['from_mwav'] == True):\n",
    "        id_check = row['to']\n",
    "    elif (row['to_mwav'] == True):\n",
    "        id_check = row['from']\n",
    "    else:\n",
    "        id_check = None\n",
    "\n",
    "    if id_check is not None and id_check in cost_mapping:\n",
    "        cost_list.append(cost_mapping[id_check])\n",
    "        del_list.append(True)\n",
    "    else:\n",
    "        cost_list.append(None)\n",
    "        del_list.append(False)\n",
    "\n",
    "flow_data['cost'] = cost_list\n",
    "flow_data.head()\n",
    "    "
   ]
  },
  {
   "cell_type": "code",
   "execution_count": 40,
   "id": "0c9a21c9",
   "metadata": {},
   "outputs": [
    {
     "data": {
      "text/plain": [
       "3.074469699017669"
      ]
     },
     "execution_count": 40,
     "metadata": {},
     "output_type": "execute_result"
    }
   ],
   "source": [
    "# Average cost paid\n",
    "\n",
    "sum(flow_data.loc[del_list, 'flow'] * flow_data.loc[del_list, 'cost']) / sum(flow_data.loc[del_list,'flow'])"
   ]
  }
 ],
 "metadata": {
  "kernelspec": {
   "display_name": "env",
   "language": "python",
   "name": "python3"
  },
  "language_info": {
   "codemirror_mode": {
    "name": "ipython",
    "version": 3
   },
   "file_extension": ".py",
   "mimetype": "text/x-python",
   "name": "python",
   "nbconvert_exporter": "python",
   "pygments_lexer": "ipython3",
   "version": "3.12.3"
  }
 },
 "nbformat": 4,
 "nbformat_minor": 5
}
