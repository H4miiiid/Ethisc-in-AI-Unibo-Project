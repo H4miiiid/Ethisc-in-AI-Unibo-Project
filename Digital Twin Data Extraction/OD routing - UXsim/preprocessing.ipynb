{
 "cells": [
  {
   "cell_type": "markdown",
   "metadata": {},
   "source": [
    "# Build the inputs of the UXsim model\n",
    "\n",
    "### Prepare the environment"
   ]
  },
  {
   "cell_type": "code",
   "execution_count": null,
   "metadata": {},
   "outputs": [],
   "source": [
    "import os\n",
    "import sys\n",
    "sys.path.append(os.path.join(os.path.abspath(\"../..\"), \"functions\"))\n",
    "\n",
    "import data_reader\n",
    "import spatial_assignment\n",
    "import spatial_utils\n",
    "import uxsimulator.preprocessing\n",
    "from constants import P2V\n"
   ]
  },
  {
   "cell_type": "markdown",
   "metadata": {},
   "source": [
    "### Load the data"
   ]
  },
  {
   "cell_type": "code",
   "execution_count": null,
   "metadata": {},
   "outputs": [],
   "source": [
    "gdf_AreaVerde = data_reader.AV_shape(namefile=\"area_verde_manual_v1.geojson\", datapath=\"../../data\")\n",
    "buffered_AreaVerde = spatial_utils.buffer_around(gdf=gdf_AreaVerde, buffer_size=3000)\n",
    "areas_od = data_reader.OD_shapes(namefile_polygons=\"Shape_zone.SHP\", namefile_centers=\"Shape_zone_centroid.SHP\", datapath=\"../../data/OD\")\n",
    "aoi = data_reader.AOI_shapes(namefile=\"Shape_zone.SHP\", datapath=\"../../data/OD\", aoi_type=\"od\", df_around=gdf_AreaVerde)\n",
    "#aoi = data_reader.AOI_shapes(namefile=\"aree_statistiche.geojson\", datapath=\"../../data\", aoi_type=\"census\", df_around=gdf_AreaVerde)"
   ]
  },
  {
   "cell_type": "markdown",
   "metadata": {},
   "source": [
    "### Load or prepare the RN"
   ]
  },
  {
   "cell_type": "code",
   "execution_count": null,
   "metadata": {},
   "outputs": [],
   "source": [
    "if os.path.exists(f\"results/geo_edges_v5.geojson\") and os.path.exists(f\"results/geo_nodes_v5.geojson\"):\n",
    "    edges, nodes = data_reader.road_data(edges_namefile=\"geo_edges_v5.geojson\", nodes_namefile=\"geo_nodes_v5.geojson\", datapath=\"results\")\n",
    "else:\n",
    "    import road_network\n",
    "    edges, nodes = road_network.create_road_data(\n",
    "        df_BAV=buffered_AreaVerde,\n",
    "        relevant_highway=True, connected_network=True,\n",
    "        edges_namefile=\"geo_edges_v5.geojson\", nodes_namefile=\"geo_nodes_v5.geojson\", datapath=\"../../data\",\n",
    "    )"
   ]
  },
  {
   "cell_type": "markdown",
   "metadata": {},
   "source": [
    "### Transform the data"
   ]
  },
  {
   "cell_type": "code",
   "execution_count": null,
   "metadata": {},
   "outputs": [],
   "source": [
    "# Assign out-zones to circular zones around AV\n",
    "areas_od_av = spatial_assignment.OD_to_AV(df_od=areas_od, df_av=gdf_AreaVerde)\n",
    "out_ids = areas_od_av.loc[(areas_od_av['mostly_within_area_verde']==False), 'id'].values\n",
    "gdf_circles = uxsimulator.preprocessing.create_OD_circles(df_od=areas_od_av, df_bav=buffered_AreaVerde)\n",
    "id_to_out_id_dict = spatial_assignment.OD_to_circles(df_od=areas_od_av, df_circles=gdf_circles)"
   ]
  },
  {
   "cell_type": "code",
   "execution_count": null,
   "metadata": {},
   "outputs": [],
   "source": [
    "# Assign nodes to in/out AV\n",
    "nodes_av = spatial_assignment.nodes_to_AV(df_nodes=nodes, df_av=gdf_AreaVerde)"
   ]
  },
  {
   "cell_type": "code",
   "execution_count": null,
   "metadata": {},
   "outputs": [],
   "source": [
    "# Assign edges (i.e., roads) to the area of interest they mostly belong\n",
    "edges_aoi = spatial_assignment.roads_to_AOI(df_edges=edges, df_aoi=aoi)"
   ]
  },
  {
   "cell_type": "code",
   "execution_count": 17,
   "metadata": {},
   "outputs": [],
   "source": [
    "matrice_OD = data_reader.OD_flows(namefile=\"PROGETTO-OD.xlsx\", datapath=\"../../data\", df_shapes=areas_od_av[['id']])\n",
    "matrice_OD['flow'] = matrice_OD['flow'] * P2V\n",
    "\n",
    "matrice_OD = (\n",
    "    matrice_OD\n",
    "    .merge(areas_od_av[['id', 'mostly_within_area_verde']].rename(columns={'id': 'from', 'mostly_within_area_verde': 'from_area_verde'}), on='from', how='left')\n",
    "    .merge(areas_od_av[['id', 'mostly_within_area_verde']].rename(columns={'id': 'to', 'mostly_within_area_verde': 'to_area_verde'}), on='to', how='left')\n",
    ")\n",
    "\n",
    "demand_in = uxsimulator.preprocessing.create_demand(\n",
    "    od_matrix=matrice_OD[(matrice_OD['from_area_verde']==True) & (matrice_OD['to_area_verde']==True)], \n",
    "    circle_od_zones=gdf_circles, id_dict=id_to_out_id_dict, out_ids=out_ids)\n",
    "demand_from_in = uxsimulator.preprocessing.create_demand(\n",
    "    od_matrix=matrice_OD[(matrice_OD['from_area_verde']==True) & (matrice_OD['to_area_verde']==False)], \n",
    "    circle_od_zones=gdf_circles, id_dict=id_to_out_id_dict, out_ids=out_ids)\n",
    "demand_to_in = uxsimulator.preprocessing.create_demand(\n",
    "    od_matrix=matrice_OD[(matrice_OD['from_area_verde']==False) & (matrice_OD['to_area_verde']==True)], \n",
    "    circle_od_zones=gdf_circles, id_dict=id_to_out_id_dict, out_ids=out_ids)"
   ]
  },
  {
   "cell_type": "markdown",
   "metadata": {},
   "source": [
    "### Save output"
   ]
  },
  {
   "cell_type": "code",
   "execution_count": null,
   "metadata": {},
   "outputs": [],
   "source": [
    "suffix_output = 'v7'  # \"census_v1\"\n",
    "dp = \"results\"\n",
    "\n",
    "nodes_av.drop(['geometry'], axis=1).to_csv(f'{dp}/nodes_{suffix_output}.csv', header=False, index=False)\n",
    "edges_aoi[['link_id', 'u', 'v', 'length', 'maxspeed_imputed', 'lanes_imputed', 'id_zone']]\\\n",
    "    .to_csv(f'{dp}/edges_{suffix_output}.csv',  header=False, index=False)\n",
    "demand_in.to_csv(f'{dp}/flows_in_{suffix_output}.csv', index=False, header=False)\n",
    "demand_from_in.to_csv(f'{dp}/flows_from_in_{suffix_output}.csv', index=False, header=False)\n",
    "demand_to_in.to_csv(f'{dp}/flows_to_in_{suffix_output}.csv', index=False, header=False)"
   ]
  },
  {
   "cell_type": "markdown",
   "metadata": {},
   "source": [
    "### Prepare the temporal weights for the demand"
   ]
  },
  {
   "cell_type": "code",
   "execution_count": null,
   "metadata": {},
   "outputs": [],
   "source": [
    "import numpy as np\n",
    "import pandas as pd"
   ]
  },
  {
   "cell_type": "code",
   "execution_count": null,
   "metadata": {},
   "outputs": [],
   "source": [
    "def get_weights_from_hour_flows(inflow: list[float])->list[float]:\n",
    "    inflow_mean = []\n",
    "    for h in range(24):\n",
    "        start = (np.array(range(25)) * 12)[h]\n",
    "        end = (np.array(range(25)) * 12)[h+1]\n",
    "        inflow_mean.append(inflow[start:end].mean())\n",
    "    inflow_mean = inflow_mean / sum(inflow_mean)\n",
    "    return inflow_mean"
   ]
  },
  {
   "cell_type": "code",
   "execution_count": null,
   "metadata": {},
   "outputs": [],
   "source": [
    "# reference inflow\n",
    "inflow = pd.read_parquet(\"../../data/inflows/inflow_v1.parquet\")\n",
    "inflow = np.array(inflow['inflow_weekday'].to_list())"
   ]
  },
  {
   "cell_type": "code",
   "execution_count": null,
   "metadata": {},
   "outputs": [],
   "source": [
    "# modified inflow (after policy simulation)\n",
    "inflow2 = np.array(pd.read_csv(\"../../data/veicoli in ingresso modificato.csv\")['Area Verde'].to_list())\n",
    "inflow3 = np.array(pd.read_csv(\"../../data/veicoli in ingresso modificato (1).csv\")['Area Verde'].to_list())\n",
    "inflow4 = np.array(pd.read_csv(\"../../data/veicoli in ingresso modificato (2).csv\")['Area Verde'].to_list())"
   ]
  },
  {
   "cell_type": "code",
   "execution_count": null,
   "metadata": {},
   "outputs": [],
   "source": [
    "# reference traffic\n",
    "traffic =  pd.read_parquet(\"../../data/inflows/traffic_(1)_v1.parquet\")\n",
    "traffic = np.array(traffic['traffic'].to_list())"
   ]
  },
  {
   "cell_type": "code",
   "execution_count": null,
   "metadata": {},
   "outputs": [],
   "source": [
    "get_weights_from_hour_flows(inflow)"
   ]
  },
  {
   "cell_type": "code",
   "execution_count": null,
   "metadata": {},
   "outputs": [],
   "source": [
    "get_weights_from_hour_flows(traffic))"
   ]
  }
 ],
 "metadata": {
  "kernelspec": {
   "display_name": "env",
   "language": "python",
   "name": "python3"
  },
  "language_info": {
   "codemirror_mode": {
    "name": "ipython",
    "version": 3
   },
   "file_extension": ".py",
   "mimetype": "text/x-python",
   "name": "python",
   "nbconvert_exporter": "python",
   "pygments_lexer": "ipython3",
   "version": "3.12.3"
  }
 },
 "nbformat": 4,
 "nbformat_minor": 4
}
