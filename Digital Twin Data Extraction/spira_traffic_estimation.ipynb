{
 "cells": [
  {
   "cell_type": "code",
   "execution_count": null,
   "metadata": {},
   "outputs": [],
   "source": [
    "%pip install osmnx contextily seaborn"
   ]
  },
  {
   "cell_type": "code",
   "execution_count": null,
   "metadata": {},
   "outputs": [],
   "source": [
    "from datetime import datetime, timedelta\n",
    "import pandas as pd\n",
    "import numpy as np\n",
    "import plotly.io as pio\n",
    "\n",
    "import os\n",
    "import sys\n",
    "sys.path.append(os.path.join(os.path.abspath(\"..\"), \"functions\"))"
   ]
  },
  {
   "cell_type": "markdown",
   "metadata": {},
   "source": [
    "# Part 1: Estimate the istantaneous traffic "
   ]
  },
  {
   "cell_type": "markdown",
   "metadata": {},
   "source": [
    "### Create the project"
   ]
  },
  {
   "cell_type": "code",
   "execution_count": null,
   "metadata": {},
   "outputs": [],
   "source": [
    "PROJECT_NAME = 'AreaVerde'\n",
    "\n",
    "from environment import dh, pio_renderer\n",
    "if pio_renderer is not None:\n",
    "    pio.renderers.default = pio_renderer\n",
    "\n",
    "project = dh.get_or_create_project(PROJECT_NAME)"
   ]
  },
  {
   "cell_type": "markdown",
   "metadata": {},
   "source": [
    "### Load the data"
   ]
  },
  {
   "cell_type": "code",
   "execution_count": null,
   "metadata": {},
   "outputs": [],
   "source": [
    "import data_reader\n",
    "import spatial_utils\n",
    "import road_network"
   ]
  },
  {
   "cell_type": "code",
   "execution_count": null,
   "metadata": {},
   "outputs": [],
   "source": [
    "gdf_AreaVerde = data_reader.AV_shape(namefile=\"area_verde_manual_v1.geojson\", datapath=\"data\")\n",
    "buffered_AreaVerde = spatial_utils.buffer_around(gdf=gdf_AreaVerde, buffer_size=3000)\n",
    "\n",
    "aoi_type = \"av\"\n",
    "areas = data_reader.AOI_shapes(namefile=\"area_verde_manual_v1.geojson\", datapath=\"data\", aoi_type=aoi_type, df_around=gdf_AreaVerde)\n",
    "\n",
    "spira_loc = data_reader.spira_shapes(namefile=\"SpiraFlowData.parquet\", datapath=\"data\", project=project, df_around=gdf_AreaVerde)\n",
    "spira_ids = data_reader.spira_codes(namefile=\"SpiraFlowData.parquet\", datapath=\"data\", project=project)"
   ]
  },
  {
   "cell_type": "code",
   "execution_count": null,
   "metadata": {},
   "outputs": [],
   "source": [
    "areas"
   ]
  },
  {
   "cell_type": "code",
   "execution_count": null,
   "metadata": {},
   "outputs": [],
   "source": [
    "if os.path.exists(\"data/results/geo_edges_ALL_v1.geojson\") and os.path.exists(\"data/results/geo_nodes_ALL_v1.geojson\"):\n",
    "    edges, nodes = data_reader.road_data(edges_namefile=\"geo_edges_ALL_v1.geojson\", nodes_namefile=\"geo_nodes_ALL_v1.geojson\", datapath=\"data/results\")\n",
    "else:\n",
    "    edges, nodes = road_network.create_road_data(\n",
    "        connected_network=False, relevant_highway=False,\n",
    "        edges_namefile=\"geo_edges_ALL_v1.geojson\", nodes_namefile=\"geo_nodes_ALL_v1.geojson\", datapath=\"data/results\",\n",
    "        df_BAV=buffered_AreaVerde\n",
    "    )"
   ]
  },
  {
   "cell_type": "markdown",
   "metadata": {},
   "source": [
    "### Elaborate the data"
   ]
  },
  {
   "cell_type": "code",
   "execution_count": null,
   "metadata": {},
   "outputs": [],
   "source": [
    "import spatial_assignment\n",
    "import spira_traffic.catchment_area\n",
    "import data_cleaner"
   ]
  },
  {
   "cell_type": "code",
   "execution_count": null,
   "metadata": {},
   "outputs": [],
   "source": [
    "edges_aoi = spatial_assignment.roads_to_AOI(df_edges=edges, df_aoi=areas)"
   ]
  },
  {
   "cell_type": "code",
   "execution_count": null,
   "metadata": {},
   "outputs": [],
   "source": [
    "spira_close_roads = spatial_assignment.spira_to_road(df_spira=spira_loc, df_edge=edges_aoi)"
   ]
  },
  {
   "cell_type": "code",
   "execution_count": null,
   "metadata": {},
   "outputs": [],
   "source": [
    "# Filter: elements on relevant highways only\n",
    "spira_close_roads = spira_close_roads[spira_close_roads['highway_ok']]\n",
    "spira_close_roads = spira_close_roads.reset_index(drop=True).drop(['highway_ok', 'oneway'], axis=1)\n",
    "\n",
    "edges_aoi_ok = edges_aoi[edges_aoi['highway_ok']]\n",
    "nodes = nodes[(nodes['node_id'].isin(edges_aoi_ok['u'].values)) | (nodes['node_id'].isin(edges_aoi_ok['v'].values))]"
   ]
  },
  {
   "cell_type": "code",
   "execution_count": null,
   "metadata": {},
   "outputs": [],
   "source": [
    "# Compute the catchment areas of the spiras\n",
    "if not os.path.exists(\"data/results/spira-road-time-distances__av_v1.pkl\"):\n",
    "    spira_catchment_area = spira_traffic.catchment_area.find(df_spiras=spira_close_roads, df_edges=edges_aoi_ok, df_nodes=nodes)\n",
    "    spira_catchment_area.to_pickle(\"data/results/spira-road-time-distances__av_v1.pkl\")\n",
    "else:\n",
    "    spira_catchment_area = pd.read_pickle(\"data/results/spira-road-time-distances__av_v1.pkl\")"
   ]
  },
  {
   "cell_type": "code",
   "execution_count": null,
   "metadata": {},
   "outputs": [],
   "source": [
    "# Filter the catchment areas of the spiras\n",
    "tt = 5.0 * 60 # in seconds\n",
    "traffic_effect = 0.5 ## To be changed!! \n",
    "tt_mod = tt * traffic_effect \n",
    "\n",
    "spira_catchment_area = spira_traffic.catchment_area.filter(\n",
    "    df_catch=spira_catchment_area, \n",
    "    time_threshold=tt_mod\n",
    ")"
   ]
  },
  {
   "cell_type": "code",
   "execution_count": null,
   "metadata": {},
   "outputs": [],
   "source": [
    "# Prepare filters to read spira data\n",
    "start_date = datetime(2024, 6, 1)\n",
    "end_date = datetime(2024, 8, 1)\n",
    "delta_t = 5 #minutes\n",
    "\n",
    "spira_code_ok = pd.merge(spira_close_roads['spira_unique_id'], spira_ids, how='left')['spira_code'].to_list()\n",
    "\n",
    "sel = [('start', '>=', start_date.strftime(\"%Y-%m-%d %H:%M\")),\n",
    "        ('start', '<=', end_date.strftime(\"%Y-%m-%d %H:%M\")), \n",
    "        ('sensor_id', 'in', spira_code_ok)]"
   ]
  },
  {
   "cell_type": "code",
   "execution_count": null,
   "metadata": {},
   "outputs": [],
   "source": [
    "# Read and clean spira data\n",
    "spira5m = data_reader.spira_flows(namefile=\"SpiraFlowData5m.parquet\", datapath=\"data\", project=project, filters=sel)\n",
    "spira5m = pd.merge(\n",
    "    spira_ids.rename({'spira_code': 'sensor_id'}, axis=1), \n",
    "    spira5m, \n",
    "    on='sensor_id', how='inner')\n",
    "spira5m = data_cleaner.spira_flows(df_spiras=spira5m)"
   ]
  },
  {
   "cell_type": "markdown",
   "metadata": {},
   "source": [
    "### Compute and save the output"
   ]
  },
  {
   "cell_type": "code",
   "execution_count": null,
   "metadata": {},
   "outputs": [],
   "source": [
    "import spira_traffic.compute_traffic"
   ]
  },
  {
   "cell_type": "code",
   "execution_count": null,
   "metadata": {},
   "outputs": [],
   "source": [
    "traffics = spira_traffic.compute_traffic.per_area(\n",
    "    spira_data=spira5m, \n",
    "    df_catch=spira_catchment_area, \n",
    "    first_datetime=start_date, \n",
    "    last_datetime=end_date, #start_date+timedelta(minutes=24*60*5),\n",
    "    deltaTime=delta_t, #30,\n",
    "    verbose=True\n",
    ")\n",
    "traffics.rename(columns={'count_distributed': 'traffic_index'}, inplace=True)\n",
    "traffics.to_pickle(f\"data/results/traffic_5m_estimation__aoi_{aoi_type}.pkl\")"
   ]
  },
  {
   "cell_type": "code",
   "execution_count": null,
   "metadata": {},
   "outputs": [],
   "source": [
    "#traffics = spira_traffic.compute_traffic.per_road(\n",
    "#     spira_data=spira5m, \n",
    "#     df_catch=spira_catchment_area, \n",
    "#     first_datetime=start_date, \n",
    "#     last_datetime=end_date, #start_date+timedelta(minutes=24*60),\n",
    "#     deltaTime=delta_t, #30\n",
    "#     verbose=True\n",
    "# )\n",
    "# traffics.rename(columns={'count_distributed': 'traffic_index'}, inplace=True)\n",
    "# traffics.to_pickle(f\"data/results/traffic_5m_estimation_roads__aoi_{aoi_type}.pkl\")"
   ]
  },
  {
   "cell_type": "markdown",
   "metadata": {},
   "source": [
    "# Part 2: Compute the mean istantaneous traffic per day"
   ]
  },
  {
   "cell_type": "code",
   "execution_count": null,
   "metadata": {},
   "outputs": [],
   "source": [
    "# Decide whether to use Daytype classification or not\n",
    "use_daytype = True\n",
    "\n",
    "# Decide whether to use AOI zoning or not\n",
    "use_zonegroup = False"
   ]
  },
  {
   "cell_type": "markdown",
   "metadata": {},
   "source": [
    "### Load the data"
   ]
  },
  {
   "cell_type": "code",
   "execution_count": null,
   "metadata": {},
   "outputs": [],
   "source": [
    "aoi_type = \"av\"\n",
    "traffic = pd.read_pickle(f\"data/results/traffic_5m_estimation__aoi_{aoi_type}.pkl\")"
   ]
  },
  {
   "cell_type": "code",
   "execution_count": null,
   "metadata": {},
   "outputs": [],
   "source": [
    "traffic"
   ]
  },
  {
   "cell_type": "markdown",
   "metadata": {},
   "source": [
    "### Compute and show output"
   ]
  },
  {
   "cell_type": "code",
   "execution_count": null,
   "metadata": {},
   "outputs": [],
   "source": [
    "import spira_traffic.compute_traffic"
   ]
  },
  {
   "cell_type": "code",
   "execution_count": null,
   "metadata": {},
   "outputs": [],
   "source": [
    "traffic_mean = spira_traffic.compute_traffic.average(\n",
    "    dataset=traffic, \n",
    "    use_daytype=use_daytype, \n",
    "    holiday_namefile=\"data/holiday_list.csv\",\n",
    "    use_zonegroup=use_zonegroup\n",
    ")\n",
    "traffic_mean_smooth = spira_traffic.compute_traffic.smoothing(\n",
    "    dataset=traffic_mean, \n",
    "    use_daytype=use_daytype, \n",
    "    use_zonegroup=use_zonegroup, \n",
    "    method='savgol'\n",
    ")"
   ]
  },
  {
   "cell_type": "code",
   "execution_count": null,
   "metadata": {},
   "outputs": [],
   "source": [
    "for zone in traffic_mean_smooth['id_zone'].unique():\n",
    "    data_red = traffic_mean_smooth[traffic_mean_smooth['id_zone']==zone]\n",
    "    for day in data_red['DayType'].unique():\n",
    "        data_red_red = data_red[data_red['DayType']==day]\n",
    "        print(f\"array for zone {zone} of day {day}:\")\n",
    "        print(np.array(data_red_red['smooth_traffic']) )"
   ]
  },
  {
   "cell_type": "code",
   "execution_count": null,
   "metadata": {},
   "outputs": [],
   "source": [
    "12 * np.array(\n",
    "    traffic_mean_smooth\n",
    "    [traffic_mean_smooth['DayType'] == \"Weekday\"]\n",
    "    ['traffic_index']\n",
    "    .to_list()\n",
    ")\n"
   ]
  },
  {
   "cell_type": "markdown",
   "metadata": {},
   "source": [
    "# Visualization"
   ]
  },
  {
   "cell_type": "code",
   "execution_count": null,
   "metadata": {},
   "outputs": [],
   "source": [
    "import matplotlib.pyplot as plt\n",
    "import seaborn as sns\n",
    "from matplotlib.animation import FuncAnimation, PillowWriter\n",
    "import contextily as ctx"
   ]
  },
  {
   "cell_type": "markdown",
   "metadata": {},
   "source": [
    "## P1: plot the input and relaborated data"
   ]
  },
  {
   "cell_type": "markdown",
   "metadata": {},
   "source": [
    "Data input"
   ]
  },
  {
   "cell_type": "code",
   "execution_count": null,
   "metadata": {},
   "outputs": [],
   "source": [
    "# Plot of the AreaVerde area\n",
    "fig, ax = plt.subplots(figsize=(7,7))\n",
    "gdf_AreaVerde.boundary.plot(ax=ax, color='green')\n",
    "gdf_AreaVerde.plot(ax=ax, color='green', edgecolor='green', alpha=0.2)\n",
    "\n",
    "ctx.add_basemap(ax, crs=gdf_AreaVerde.crs, source=ctx.providers.OpenStreetMap.Mapnik, alpha=0.8)\n",
    "plt.xlabel('Longitude')\n",
    "plt.ylabel('Latitude')\n",
    "plt.show()"
   ]
  },
  {
   "cell_type": "code",
   "execution_count": null,
   "metadata": {},
   "outputs": [],
   "source": [
    "# Plot the road network \n",
    "fig, ax = plt.subplots(figsize=(7, 7))\n",
    "edges_aoi.plot(ax=ax, edgecolor='grey', linewidth=1) ## all roads\n",
    "edges_aoi_ok.plot(ax=ax, edgecolor='black', linewidth=1) ## important roads\n",
    "gdf_AreaVerde.plot(ax=ax, color='green', edgecolor='green', alpha=0.2)\n",
    "\n",
    "ctx.add_basemap(ax, crs=edges_aoi.crs, source=ctx.providers.OpenStreetMap.Mapnik, alpha=0.8)\n",
    "plt.xlabel('Longitude')\n",
    "plt.ylabel('Latitude')\n",
    "plt.show()"
   ]
  },
  {
   "cell_type": "code",
   "execution_count": null,
   "metadata": {},
   "outputs": [],
   "source": [
    "# # Plot the areas of interest\n",
    "fig, ax = plt.subplots(figsize=(7,7))\n",
    "areas.plot(ax=ax, column='id_zone', edgecolor='black', cmap='Set2', alpha=0.8)\n",
    "gdf_AreaVerde.plot(ax=ax, color='none', edgecolor='green')\n",
    "\n",
    "ctx.add_basemap(ax, crs=areas.crs, source=ctx.providers.OpenStreetMap.Mapnik, alpha=0.8)\n",
    "plt.xlabel('Longitude')\n",
    "plt.ylabel('Latitude')\n",
    "plt.show()"
   ]
  },
  {
   "cell_type": "code",
   "execution_count": null,
   "metadata": {},
   "outputs": [],
   "source": [
    "# Plot the road network colored by the area\n",
    "fig, ax = plt.subplots(figsize=(7, 7))\n",
    "gdf_AreaVerde.plot(ax=ax, color='green', alpha=0.2)\n",
    "areas[areas['id_zone']!='0'].boundary.plot(ax=ax, color='black', alpha=0.8)\n",
    "edges_aoi[edges_aoi['id_zone']!='0'].plot(ax=ax, column='id_zone', cmap='Set1', linewidth=1)\n",
    "edges_aoi[edges_aoi['id_zone']=='0'].plot(ax=ax, color='grey', linewidth=1)\n",
    "\n",
    "ctx.add_basemap(ax, crs=areas.crs, source=ctx.providers.OpenStreetMap.Mapnik, alpha=0.5)\n",
    "plt.xlabel('Longitude')\n",
    "plt.ylabel('Latitude')\n",
    "plt.show()"
   ]
  },
  {
   "cell_type": "code",
   "execution_count": null,
   "metadata": {},
   "outputs": [],
   "source": [
    "# Plot the road network and the spiras\n",
    "fig, ax = plt.subplots(figsize=(7, 7))\n",
    "edges_aoi_ok.plot(ax=ax, edgecolor='black', linewidth=1.3)\n",
    "gdf_AreaVerde.plot(ax=ax, color='green', alpha=0.2)\n",
    "spira_loc.plot(ax=ax, color='red', marker='o', markersize=10)\n",
    "\n",
    "ctx.add_basemap(ax, crs=gdf_AreaVerde.crs, source=ctx.providers.OpenStreetMap.Mapnik, alpha=0.8)\n",
    "plt.xlabel('Longitude')\n",
    "plt.ylabel('Latitude')\n",
    "plt.show()"
   ]
  },
  {
   "cell_type": "code",
   "execution_count": null,
   "metadata": {},
   "outputs": [],
   "source": [
    "# Plot of the time distance from the spira 725\n",
    "id_spira = 3\n",
    "catch = spira_catchment_area[spira_catchment_area['spira_unique_id']==id_spira]\n",
    "id_edges_catch = catch['u'] + \"_\" + catch['v'] + \"_\" + catch['key']\n",
    "edges_catch = edges_aoi[edges_aoi['link_id'].isin(id_edges_catch)]\n",
    "\n",
    "fig, ax = plt.subplots(figsize=(7,7))\n",
    "edges_catch.plot(ax=ax, edgecolor='red', linewidth=0.5)\n",
    "gdf_AreaVerde.plot(ax=ax, color='green', edgecolor='green', alpha=0.2)\n",
    "spira_loc[spira_loc['spira_unique_id'] == id_spira].plot(ax=ax, color='black', marker='o', markersize=25)\n",
    "\n",
    "ctx.add_basemap(ax, crs=gdf_AreaVerde.crs, source=ctx.providers.OpenStreetMap.Mapnik, alpha=0.8)\n",
    "plt.xlabel('Longitude')\n",
    "plt.ylabel('Latitude')\n",
    "\n",
    "plt.show()"
   ]
  },
  {
   "cell_type": "markdown",
   "metadata": {},
   "source": [
    "## P2: plot the resulting traffic"
   ]
  },
  {
   "cell_type": "markdown",
   "metadata": {},
   "source": [
    "### Plot of the time series"
   ]
  },
  {
   "cell_type": "code",
   "execution_count": null,
   "metadata": {},
   "outputs": [],
   "source": [
    "#Plot the time series of the traffic divided by day type\n",
    "#traffic = traffic[traffic['id_zone'] != '0']\n",
    "traffic['Date'] = traffic['DateTime'].dt.date\n",
    "traffic['Time'] = traffic['DateTime'].dt.hour * 3600 + traffic['DateTime'].dt.minute * 60 + traffic['DateTime'].dt.second\n",
    "\n",
    "if use_daytype:\n",
    "    plt.figure(figsize=(10, 5))\n",
    "    sns.lineplot(data=traffic, x='Time', y='traffic_index', hue='DayType', palette={'Weekday': 'blue', 'Saturday': 'green', 'Holiday': 'red'})\n",
    "\n",
    "    plt.legend(bbox_to_anchor=(1.05, 1), loc='upper left', borderaxespad=0.)\n",
    "    plt.tight_layout(rect=[0, 0, 0.85, 1])\n",
    "\n",
    "    plt.title('Traffic Index Over Time')\n",
    "    plt.xlabel('Time (seconds since midnight)')\n",
    "    plt.ylabel('Traffic Index')\n",
    "\n",
    "    plt.grid(True)\n",
    "    plt.show()"
   ]
  },
  {
   "cell_type": "code",
   "execution_count": null,
   "metadata": {},
   "outputs": [],
   "source": [
    "#Plot the time series of the traffic divided by zone id -- only the top-15 zones with highest traffic peak\n",
    "#traffic = traffic[traffic['id_zone'] != '0']\n",
    "traffic['Date'] = traffic['DateTime'].dt.date\n",
    "traffic['Time'] = traffic['DateTime'].dt.hour * 3600 + traffic['DateTime'].dt.minute * 60 + traffic['DateTime'].dt.second\n",
    "\n",
    "if use_zonegroup:\n",
    "    top_zones = (\n",
    "        traffic.groupby('id_zone')['traffic_index']\n",
    "        .max()\n",
    "        .nlargest(15)  \n",
    "        .index\n",
    "    )\n",
    "    filtered_traffic = traffic[traffic['id_zone'].isin(top_zones)]\n",
    "\n",
    "    plt.figure(figsize=(10, 5))\n",
    "    sns.lineplot(data=filtered_traffic, x='Time', y='traffic_index', hue='id_zone', legend=False, n_boot=250)\n",
    "\n",
    "    plt.title('Traffic Index Over Time')\n",
    "    plt.xlabel('Time (seconds since midnight)')\n",
    "    plt.ylabel('Traffic Index')\n",
    "\n",
    "    plt.grid(True)\n",
    "    plt.show()"
   ]
  },
  {
   "cell_type": "code",
   "execution_count": null,
   "metadata": {},
   "outputs": [],
   "source": [
    "# Plot of the traffic flows\n",
    "traffic_mean = traffic_mean[traffic_mean['id_zone'] != '0']\n",
    "traffic_mean['Time_s'] = [t.hour * 3600 + t.minute * 60 + t.second for t in traffic_mean['Time'].values]\n",
    "\n",
    "plt.figure(figsize=(10, 6))\n",
    "sns.lineplot(data=traffic_mean, x='Time_s', y='traffic_index', hue='id_zone', style='DayType', markers=False, dashes=True, errorbar=None, legend=False)\n",
    "\n",
    "plt.title('Traffic within the Area(s)')\n",
    "plt.xlabel('Time')\n",
    "plt.ylabel('Traffic index')\n",
    "plt.gca().grid(color='lightgrey', linestyle='-', linewidth=0.5)\n",
    "plt.show()"
   ]
  },
  {
   "cell_type": "code",
   "execution_count": null,
   "metadata": {},
   "outputs": [],
   "source": [
    "# Plot of the traffic flows when smoothed\n",
    "traffic_mean_smooth = traffic_mean_smooth[traffic_mean_smooth['id_zone'] != '0']\n",
    "traffic_mean_smooth['Time_s'] = [t.hour * 3600 + t.minute * 60 + t.second for t in traffic_mean_smooth['Time'].values]\n",
    "\n",
    "plt.figure(figsize=(10, 6))\n",
    "sns.lineplot(data=traffic_mean_smooth, x='Time_s', y='smooth_traffic', hue='id_zone', style='DayType', markers=False, dashes=True, legend=False)\n",
    "\n",
    "plt.title('Smoothed traffic within the Area(s)')\n",
    "plt.xlabel('Time')\n",
    "plt.ylabel('Traffic index')\n",
    "plt.gca().grid(color='lightgrey', linestyle='-', linewidth=0.5)\n",
    "plt.show()"
   ]
  },
  {
   "cell_type": "markdown",
   "metadata": {},
   "source": [
    "### Plot of the spatial results"
   ]
  },
  {
   "cell_type": "code",
   "execution_count": null,
   "metadata": {},
   "outputs": [],
   "source": [
    "gdf_AreaVerde = data_reader.AV_shape(namefile=\"area_verde_manual_v1.geojson\", datapath=\"data\")\n",
    "\n",
    "aoi_type = \"od\"\n",
    "areas = data_reader.AOI_shapes(namefile=\"PROGETTO-AREA.shp\", datapath=\"data\", aoi_type=aoi_type, df_around=gdf_AreaVerde)"
   ]
  },
  {
   "cell_type": "code",
   "execution_count": null,
   "metadata": {},
   "outputs": [],
   "source": [
    "#Spatial plot of the results per area\n",
    "traffics = pd.merge(traffic_mean_smooth, areas).set_geometry('geometry').set_crs(areas.crs)\n",
    "traffics = traffics[traffics['id_zone'] != '0']\n",
    "vmin = traffics['smooth_traffic'].min()\n",
    "vmax = traffics['smooth_traffic'].max()\n",
    "\n",
    "datetimes = pd.to_datetime(traffics['Time'].apply(lambda t: f\"{datetime.today().date()} {t}\"))\n",
    "dates = pd.date_range(start=datetimes.min(), end=datetimes.max(), freq='h').time\n",
    "\n",
    "def start():\n",
    "    ax.clear()\n",
    "    gdf_AreaVerde.plot(ax=ax, color='green', alpha=0.2)\n",
    "    ctx.add_basemap(ax, crs=areas.crs, source=ctx.providers.OpenStreetMap.Mapnik, alpha=0.8)\n",
    "\n",
    "def update(frame):\n",
    "    ax.clear()\n",
    "    gdf = traffics[(traffics['Time'] >= dates[frame]) & (traffics['Time'] < dates[frame + 1] if frame != (len(dates)-1) else True)]\n",
    "    gdf = gdf.groupby(['id_zone', 'geometry'])['smooth_traffic'].mean().reset_index().set_geometry('geometry').set_crs(areas.crs)\n",
    "\n",
    "    if dates[frame] == dates[0]:\n",
    "        gdf.plot(column='smooth_traffic', ax=ax, legend=True, vmin=vmin, vmax=vmax, cmap='viridis_r')\n",
    "    else:\n",
    "        gdf.plot(column='smooth_traffic', ax=ax, legend=False, vmin=vmin, vmax=vmax, cmap='viridis_r')\n",
    "    ctx.add_basemap(ax, crs=areas.crs, source=ctx.providers.OpenStreetMap.Mapnik, alpha=0.8)\n",
    "    ax.set_title(f\"Traffic Index on {dates[frame]}\")\n",
    "\n",
    "fig, ax = plt.subplots(figsize=(7, 7))\n",
    "ani = FuncAnimation(fig=fig, func=update, init_func=start, frames=len(dates), repeat=False)\n",
    "ani.save(f\"data/results/traffic_index_area__aoi_{aoi_type}.gif\", writer=PillowWriter(fps=2))\n"
   ]
  },
  {
   "cell_type": "code",
   "execution_count": null,
   "metadata": {},
   "outputs": [],
   "source": [
    "#Spatial plot of the results per area -- weighted by the amount of roads in the area\n",
    "roads = (\n",
    "    pd.read_pickle(f'data/results/traffic_5m_estimation_roads__aoi_{aoi_type}.pkl')[['u', 'v', 'key', 'id_zone', 'geometry']]\n",
    "    .query(\"id_zone != '0'\")\n",
    "    .drop_duplicates()\n",
    "    .reset_index(drop=True)\n",
    "    .pipe(lambda df: df.set_geometry('geometry'))\n",
    "    .to_crs(\"EPSG:6875\")\n",
    "    .assign(length= lambda x: x['geometry'].length/1000)\n",
    "    .groupby(['id_zone'])\n",
    "    ['length']\n",
    "    .sum(numeric_only=True)\n",
    "    .reset_index()\n",
    ")\n",
    "areas = areas.merge(roads, how='left')\n",
    "areas['length'] = areas['length'].fillna(0)\n",
    "\n",
    "traffics = pd.merge(traffic_mean_smooth, areas).set_geometry('geometry').set_crs(areas.crs)\n",
    "traffics = traffics[traffics['id_zone'] != '0']\n",
    "traffics['traffic_index_weighted'] = traffics['traffic_index'] / traffics['length']\n",
    "traffics.loc[traffics['length'] == 0, 'traffic_index_weighted'] = 0\n",
    "vmin = traffics['traffic_index_weighted'].min()\n",
    "vmax = traffics['traffic_index_weighted'].max()\n",
    "\n",
    "datetimes = pd.to_datetime(traffics['Time'].apply(lambda t: f\"{datetime.today().date()} {t}\"))\n",
    "dates = pd.date_range(start=datetimes.min(), end=datetimes.max(), freq='h').time\n",
    "\n",
    "def start():\n",
    "    ax.clear()\n",
    "    gdf_AreaVerde.plot(ax=ax, color='green', alpha=0.2)\n",
    "    ctx.add_basemap(ax, crs=areas.crs, source=ctx.providers.OpenStreetMap.Mapnik, alpha=0.8)\n",
    "\n",
    "def update(frame):\n",
    "    ax.clear()\n",
    "    gdf = traffics[(traffics['Time'] >= dates[frame]) & (traffics['Time'] < dates[frame + 1] if frame != (len(dates)-1) else True)]\n",
    "    gdf = gdf.groupby(['id_zone', 'geometry'])['traffic_index_weighted'].mean().reset_index().set_geometry('geometry').set_crs(areas.crs)\n",
    "\n",
    "    if dates[frame] == dates[0]:\n",
    "        gdf.plot(column='traffic_index_weighted', ax=ax, legend=True, vmin=vmin, vmax=vmax, cmap='viridis_r')\n",
    "    else:\n",
    "        gdf.plot(column='traffic_index_weighted', ax=ax, legend=False, vmin=vmin, vmax=vmax, cmap='viridis_r')\n",
    "    ctx.add_basemap(ax, crs=areas.crs, source=ctx.providers.OpenStreetMap.Mapnik, alpha=0.8)\n",
    "    ax.set_title(f\"Traffic Index on {dates[frame]}\")\n",
    "\n",
    "fig, ax = plt.subplots(figsize=(7, 7))\n",
    "ani = FuncAnimation(fig=fig, func=update, init_func=start, frames=len(dates), repeat=False)\n",
    "ani.save(f\"data/results/traffic_index_weighted_area__aoi_{aoi_type}.gif\", writer=PillowWriter(fps=2))\n"
   ]
  },
  {
   "cell_type": "markdown",
   "metadata": {},
   "source": [
    "### Analysis of smoothing methods"
   ]
  },
  {
   "cell_type": "code",
   "execution_count": null,
   "metadata": {},
   "outputs": [],
   "source": [
    "traffic_mean_smooth['smooth_traffic_savgol'] = traffic_mean_smooth['smooth_traffic']\n",
    "traffic_mean_smooth = spira_traffic.compute_traffic.smoothing(traffic_mean_smooth, use_daytype=use_daytype, use_zonegroup=use_zonegroup, method='splines')\n",
    "traffic_mean_smooth.rename({'smooth_traffic': 'smooth_traffic_splines'}, axis=1, inplace=True)"
   ]
  },
  {
   "cell_type": "code",
   "execution_count": null,
   "metadata": {},
   "outputs": [],
   "source": [
    "plt.figure(figsize=(10, 6))\n",
    "plt.plot(traffic_mean_smooth['Time_s'], traffic_mean_smooth['smooth_traffic_savgol'], label='Sav-Gol Traffic', linestyle='-', color='blue')\n",
    "plt.plot(traffic_mean_smooth['Time_s'], traffic_mean_smooth['smooth_traffic_splines'], label='Spline Traffic', linestyle='-', color='green')\n",
    "\n",
    "plt.grid(color='lightgrey', linestyle='-', linewidth=0.5)\n",
    "plt.title('Traffic Data Visualization')\n",
    "plt.xlabel('Time')\n",
    "plt.ylabel('Traffic index')\n",
    "plt.legend()\n",
    "\n",
    "plt.show()\n"
   ]
  },
  {
   "cell_type": "code",
   "execution_count": null,
   "metadata": {},
   "outputs": [],
   "source": []
  }
 ],
 "metadata": {
  "kernelspec": {
   "display_name": "Python 3 (ipykernel)",
   "language": "python",
   "name": "python3"
  },
  "language_info": {
   "codemirror_mode": {
    "name": "ipython",
    "version": 3
   },
   "file_extension": ".py",
   "mimetype": "text/x-python",
   "name": "python",
   "nbconvert_exporter": "python",
   "pygments_lexer": "ipython3",
   "version": "3.10.11"
  }
 },
 "nbformat": 4,
 "nbformat_minor": 4
}
