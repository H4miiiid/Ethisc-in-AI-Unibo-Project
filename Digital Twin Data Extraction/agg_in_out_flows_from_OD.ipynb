{
 "cells": [
  {
   "cell_type": "code",
   "execution_count": null,
   "metadata": {},
   "outputs": [],
   "source": [
    "%pip install contextily geopandas openpyxl"
   ]
  },
  {
   "cell_type": "code",
   "execution_count": null,
   "metadata": {},
   "outputs": [],
   "source": [
    "import contextily as ctx\n",
    "import matplotlib.pyplot as plt\n",
    "from pathlib import Path\n",
    "\n",
    "import os\n",
    "import sys\n",
    "sys.path.append(os.path.join(os.path.abspath(\"..\"), \"functions\"))\n",
    "\n",
    "import data_reader, spatial_assignment\n",
    "from constants import P2V\n"
   ]
  },
  {
   "cell_type": "code",
   "execution_count": null,
   "metadata": {},
   "outputs": [],
   "source": [
    "# Set up constants\n",
    "data_dir = Path('.').absolute() / 'data'"
   ]
  },
  {
   "cell_type": "code",
   "execution_count": null,
   "metadata": {},
   "outputs": [],
   "source": [
    "# Load Area Verde (AV) shape\n",
    "green_area = data_reader.AV_shape(namefile=\"area_verde_manual_v1.geojson\", datapath=data_dir)\n",
    "\n",
    "# Load OD shapes and clean overlapping zones\n",
    "aree_gdf = data_reader.OD_shapes(namefile_polygons=\"Shape_zone.SHP\", namefile_centers=\"Shape_zone_centroid.SHP\", datapath=data_dir)"
   ]
  },
  {
   "cell_type": "code",
   "execution_count": null,
   "metadata": {},
   "outputs": [],
   "source": [
    "# Link OD to AV: mostly-overlapping zones\n",
    "aree_gdf = spatial_assignment.OD_to_AV(df_od=aree_gdf, df_av=green_area)\n",
    "\n",
    "#Link OD to AV: intersecting zones\n",
    "aree_any_intersects = aree_gdf.sjoin(\n",
    "    green_area, predicate=\"intersects\", how=\"inner\"\n",
    ")\n",
    "aree_gdf[[\"intersects_area_verde\"]] = False\n",
    "aree_gdf.loc[aree_any_intersects.index, \"intersects_area_verde\"] = True\n"
   ]
  },
  {
   "cell_type": "code",
   "execution_count": null,
   "metadata": {},
   "outputs": [],
   "source": [
    "fig, ax = plt.subplots()\n",
    "\n",
    "aree_gdf.plot(ax=ax,column='mostly_within_area_verde')\n",
    "green_area.boundary.plot(ax=ax, color='black', alpha=0.5)\n",
    "\n",
    "ctx.add_basemap(ax, crs=green_area.crs, source=ctx.providers.OpenStreetMap.Mapnik, alpha=0.7)\n"
   ]
  },
  {
   "cell_type": "code",
   "execution_count": null,
   "metadata": {},
   "outputs": [],
   "source": [
    "# Load OD flows -> only those with a shape, either polygonal or point\n",
    "# (unit: people)\n",
    "od = data_reader.OD_flows(namefile=\"PROGETTO-OD.xlsx\", datapath=data_dir)\n",
    "\n",
    "print(f\"total people: {od['flow'].sum()}\")\n",
    "print(f\"total vehicles: {od['flow'].sum() * P2V} --- computed using rescaling P2V={round(P2V,4)}\")"
   ]
  },
  {
   "cell_type": "code",
   "execution_count": null,
   "metadata": {},
   "outputs": [],
   "source": [
    "# Aggregate flows based on Area Verde intersections\n",
    "od = (\n",
    "    od\n",
    "    .merge(aree_gdf[['id', 'mostly_within_area_verde']].rename(columns={'id': 'from', 'mostly_within_area_verde': 'from_area_verde'}), on='from', how='left')\n",
    "    .merge(aree_gdf[['id', 'mostly_within_area_verde']].rename(columns={'id': 'to', 'mostly_within_area_verde': 'to_area_verde'}), on='to', how='left')\n",
    ")"
   ]
  },
  {
   "cell_type": "code",
   "execution_count": null,
   "metadata": {},
   "outputs": [],
   "source": [
    "#Total flows (unit: people)\n",
    "df_check = od.groupby(['from_area_verde', 'to_area_verde'])['flow'].sum().reset_index()\n",
    "df_check\n"
   ]
  },
  {
   "cell_type": "code",
   "execution_count": null,
   "metadata": {},
   "outputs": [],
   "source": [
    "# Comparison with previous results, with different shapefiles of input\n",
    "# (unit: people)\n",
    "df_check['flow_before'] = [1.0326e6, 269598.56,268077.238, 322006.47]\n",
    "df_check"
   ]
  }
 ],
 "metadata": {
  "kernelspec": {
   "display_name": "env",
   "language": "python",
   "name": "python3"
  },
  "language_info": {
   "codemirror_mode": {
    "name": "ipython",
    "version": 3
   },
   "file_extension": ".py",
   "mimetype": "text/x-python",
   "name": "python",
   "nbconvert_exporter": "python",
   "pygments_lexer": "ipython3",
   "version": "3.12.3"
  }
 },
 "nbformat": 4,
 "nbformat_minor": 4
}
