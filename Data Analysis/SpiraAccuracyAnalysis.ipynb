{
 "cells": [
  {
   "cell_type": "code",
   "execution_count": null,
   "metadata": {},
   "outputs": [],
   "source": [
    "%pip install plotly seaborn"
   ]
  },
  {
   "cell_type": "code",
   "execution_count": null,
   "metadata": {},
   "outputs": [],
   "source": [
    "import pandas as pd\n",
    "import seaborn as sns\n",
    "import plotly.express as px \n",
    "import plotly.io as pio\n",
    "import matplotlib.pyplot as plt\n",
    "\n",
    "from collections import defaultdict\n",
    "from datetime import date\n",
    "from matplotlib.colors import ListedColormap, BoundaryNorm"
   ]
  },
  {
   "cell_type": "code",
   "execution_count": null,
   "metadata": {},
   "outputs": [],
   "source": [
    "from environment import dh, pio_renderer\n",
    "if pio_renderer is not None:\n",
    "    pio.renderers.default = pio_renderer"
   ]
  },
  {
   "cell_type": "markdown",
   "metadata": {},
   "source": [
    "# **Variables**"
   ]
  },
  {
   "cell_type": "code",
   "execution_count": null,
   "metadata": {},
   "outputs": [],
   "source": [
    "PROJECT_NAME = \"AreaVerde\""
   ]
  },
  {
   "cell_type": "markdown",
   "metadata": {},
   "source": [
    "# **Functions**"
   ]
  },
  {
   "cell_type": "code",
   "execution_count": null,
   "metadata": {},
   "outputs": [],
   "source": [
    "def Heatmap(data):\n",
    "  plt.figure(figsize=(16, 12))\n",
    "  colors = ['#d30505','#d35400','#e4ed28', '#319022']\n",
    "  cmap = ListedColormap(colors)\n",
    "  bounds = [-0.5, 0.5, 1.5, 2.5, 3.5]\n",
    "  norm = BoundaryNorm(bounds, cmap.N)\n",
    "\n",
    "  sns.heatmap(\n",
    "      data,\n",
    "      cmap=cmap,\n",
    "      norm=norm,\n",
    "      linewidths=0.6,\n",
    "      annot=False,\n",
    "      fmt='d',\n",
    "      cbar=False,\n",
    "  )\n",
    "\n",
    "  plt.tight_layout()\n",
    "  plt.show()"
   ]
  },
  {
   "cell_type": "code",
   "execution_count": null,
   "metadata": {},
   "outputs": [],
   "source": [
    "def plot_donwtime(results, title): \n",
    "    all_data = []\n",
    "\n",
    "    for i, spira in enumerate(results.keys()):\n",
    "        all_data.extend({\n",
    "            'spira': spira,\n",
    "            'time': time\n",
    "        } for time in results[spira])\n",
    "        \n",
    "    df = pd.DataFrame(all_data)\n",
    "                    \n",
    "    fig = px.scatter(\n",
    "        df, \n",
    "        x='time', \n",
    "        y='spira', \n",
    "        title=title, \n",
    "        labels={'time': 'Time', 'spira': 'Spira'}, \n",
    "        color='spira'  \n",
    "    )\n",
    "    fig.update_layout(\n",
    "        width=1500,  \n",
    "        height=900,  \n",
    "        title_font_size=20,\n",
    "    )\n",
    "    fig.show()"
   ]
  },
  {
   "cell_type": "markdown",
   "metadata": {},
   "source": [
    "# **Load Data**"
   ]
  },
  {
   "cell_type": "code",
   "execution_count": null,
   "metadata": {},
   "outputs": [],
   "source": [
    "# Load data\n",
    "project = dh.get_or_create_project(PROJECT_NAME)\n",
    "\n",
    "spira = project.get_dataitem(\"spira_flow_data_2024\").as_df()\n",
    "spira['DateTime'] = pd.to_datetime(spira['DateTime'])\n",
    "accuracy = project.get_dataitem(\"spira_accur_data_2024\").as_df()\n",
    "accuracy['DateTime'] = pd.to_datetime(accuracy['DateTime'])"
   ]
  },
  {
   "cell_type": "code",
   "execution_count": null,
   "metadata": {},
   "outputs": [],
   "source": [
    "accuracy_pivot  = accuracy.copy()\n",
    "accuracy_pivot = accuracy_pivot.pivot_table(index='DateTime', columns='spira_code', values='count')"
   ]
  },
  {
   "cell_type": "markdown",
   "metadata": {},
   "source": [
    "# **Manage Nan Values**"
   ]
  },
  {
   "cell_type": "code",
   "execution_count": null,
   "metadata": {},
   "outputs": [],
   "source": [
    "# TODO: For this part we could Analyze values before and after nan values and fill them with reasonable value instead of zero.\n",
    "# NOTE: Does it mean spira did not work properly at those time? (spira was not off but still not recording the data with any reason)  "
   ]
  },
  {
   "cell_type": "code",
   "execution_count": null,
   "metadata": {},
   "outputs": [],
   "source": [
    "nan_count = accuracy_pivot.isna().sum()\n",
    "for spira_code, count in nan_count.items():\n",
    "    if count !=0:\n",
    "        print(spira_code, count)"
   ]
  },
  {
   "cell_type": "code",
   "execution_count": null,
   "metadata": {},
   "outputs": [],
   "source": [
    "accuracy_pivot = accuracy_pivot.fillna(0)"
   ]
  },
  {
   "cell_type": "markdown",
   "metadata": {},
   "source": [
    "# **Seleceted spira and Date**"
   ]
  },
  {
   "cell_type": "code",
   "execution_count": null,
   "metadata": {},
   "outputs": [],
   "source": [
    "start_date = date(2024,7,1)\n",
    "end_date = date(2024,7,30)\n",
    "selected_spira_acc = accuracy_pivot.columns.tolist()[200:250]"
   ]
  },
  {
   "cell_type": "markdown",
   "metadata": {},
   "source": [
    "# **General Heatmap**"
   ]
  },
  {
   "cell_type": "code",
   "execution_count": null,
   "metadata": {},
   "outputs": [],
   "source": [
    "accuracy_status = pd.DataFrame(index=accuracy_pivot.index, columns=accuracy_pivot.columns)\n",
    "\n",
    "accuracy_status[(accuracy_pivot >= 90)] = 'green'  \n",
    "accuracy_status[(accuracy_pivot > 0) & (accuracy_pivot < 90)] = 'yellow' \n",
    "accuracy_status[(accuracy_pivot == -1)] = 'orange'\n",
    "accuracy_status[(accuracy_pivot == 0)] = 'red'      \n",
    "color_mapping = {'red': 0, 'orange': 1, 'yellow': 2, 'green': 3}\n",
    "accuracy_status = accuracy_status.replace(color_mapping)"
   ]
  },
  {
   "cell_type": "code",
   "execution_count": null,
   "metadata": {},
   "outputs": [],
   "source": [
    "selected_acc_status = accuracy_status[start_date:end_date][selected_spira_acc]"
   ]
  },
  {
   "cell_type": "code",
   "execution_count": null,
   "metadata": {},
   "outputs": [],
   "source": [
    "Heatmap(selected_acc_status)                                                                           "
   ]
  },
  {
   "cell_type": "markdown",
   "metadata": {},
   "source": [
    "# **Extra Spiras in Accurcy File**"
   ]
  },
  {
   "cell_type": "code",
   "execution_count": null,
   "metadata": {},
   "outputs": [],
   "source": [
    "accuracy_codes = accuracy['spira_code'].unique().tolist()\n",
    "len(accuracy_codes)"
   ]
  },
  {
   "cell_type": "code",
   "execution_count": null,
   "metadata": {},
   "outputs": [],
   "source": [
    "spira_codes = spira['spira_code'].unique().tolist()\n",
    "len(spira_codes)"
   ]
  },
  {
   "cell_type": "code",
   "execution_count": null,
   "metadata": {},
   "outputs": [],
   "source": [
    "extra_spira_code = [code for code in spira_codes if code not in accuracy_codes]\n",
    "extra_acc_code = [code for code in accuracy_codes if code not in spira_codes]\n",
    "print(f\"we have {len(extra_spira_code)} spira that exist in spira file but not in accuracy file\")\n",
    "print(f\"we have {len(extra_acc_code)} spira that exist in accuracy file but not in spira file\")"
   ]
  },
  {
   "cell_type": "code",
   "execution_count": null,
   "metadata": {},
   "outputs": [],
   "source": [
    "extra_acc = accuracy_pivot[extra_acc_code]"
   ]
  },
  {
   "cell_type": "code",
   "execution_count": null,
   "metadata": {},
   "outputs": [],
   "source": [
    "extra_acc"
   ]
  },
  {
   "cell_type": "code",
   "execution_count": null,
   "metadata": {},
   "outputs": [],
   "source": [
    "extra_acc =extra_acc.reset_index()\n",
    "extra_acc['date'] = extra_acc['DateTime'].dt.date\n",
    "extra_acc = extra_acc.drop(columns='DateTime')\n",
    "extra_acc = extra_acc.groupby('date').mean().astype(int)\n",
    "extra_acc\n"
   ]
  },
  {
   "cell_type": "code",
   "execution_count": null,
   "metadata": {},
   "outputs": [],
   "source": [
    "extra_acc_status = pd.DataFrame(index=extra_acc.index, columns=extra_acc.columns)\n",
    "\n",
    "extra_acc_status[(extra_acc >= 90)] = 'green'  \n",
    "extra_acc_status[(extra_acc > 0) & (extra_acc < 90)] = 'yellow' \n",
    "extra_acc_status[(extra_acc == -1)] = 'orange'\n",
    "extra_acc_status[(extra_acc == 0)] = 'red'      \n",
    "color_mapping = {'red': 0, 'orange': 1, 'yellow': 2, 'green': 3}\n",
    "extra_acc_status = extra_acc_status.replace(color_mapping)"
   ]
  },
  {
   "cell_type": "code",
   "execution_count": null,
   "metadata": {},
   "outputs": [],
   "source": [
    "Heatmap(extra_acc_status)"
   ]
  },
  {
   "cell_type": "markdown",
   "metadata": {},
   "source": [
    "# **Spira OFF Time**"
   ]
  },
  {
   "cell_type": "markdown",
   "metadata": {},
   "source": [
    "Note: This section assumes an accuracy of -1 is for the times when the spira was off (as well as values < 100%)"
   ]
  },
  {
   "cell_type": "code",
   "execution_count": null,
   "metadata": {},
   "outputs": [],
   "source": [
    "results_neg_one = defaultdict(list)\n",
    "results_less_than_100 = defaultdict(list)\n",
    "for spira_id in accuracy_pivot.columns:\n",
    "    is_neg_one = accuracy_pivot[spira_id] == -1\n",
    "    is_less_than_100 = accuracy_pivot[spira_id] < 100\n",
    "    for timestamp, value in is_neg_one.items():\n",
    "        if value:\n",
    "            results_neg_one[spira_id].append(timestamp)\n",
    "    for timestamp, value in is_less_than_100.items():\n",
    "        if value:\n",
    "            results_less_than_100[spira_id].append(timestamp)"
   ]
  },
  {
   "cell_type": "code",
   "execution_count": null,
   "metadata": {},
   "outputs": [],
   "source": [
    "plot_donwtime(results_neg_one, 'Spira OFF Time (-1)')"
   ]
  },
  {
   "cell_type": "code",
   "execution_count": null,
   "metadata": {},
   "outputs": [],
   "source": [
    "max_spire=50\n",
    "plot_donwtime({k : results_less_than_100[k] for k in list(results_less_than_100.keys())[:max_spire+1]}, \n",
    "              title='Spira OFF Time (<100%)')"
   ]
  }
 ],
 "metadata": {
  "kernelspec": {
   "display_name": "Python 3 (ipykernel)",
   "language": "python",
   "name": "python3"
  },
  "language_info": {
   "codemirror_mode": {
    "name": "ipython",
    "version": 3
   },
   "file_extension": ".py",
   "mimetype": "text/x-python",
   "name": "python",
   "nbconvert_exporter": "python",
   "pygments_lexer": "ipython3",
   "version": "3.10.11"
  }
 },
 "nbformat": 4,
 "nbformat_minor": 4
}
