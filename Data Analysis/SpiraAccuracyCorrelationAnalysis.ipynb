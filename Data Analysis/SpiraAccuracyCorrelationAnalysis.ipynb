{
 "cells": [
  {
   "cell_type": "code",
   "execution_count": null,
   "metadata": {},
   "outputs": [],
   "source": [
    "%pip install dash plotly"
   ]
  },
  {
   "cell_type": "code",
   "execution_count": null,
   "metadata": {},
   "outputs": [],
   "source": [
    "import pandas as pd\n",
    "import plotly.express as px\n",
    "import plotly.io as pio\n",
    "from dash import Dash, dcc, html, Input, Output"
   ]
  },
  {
   "cell_type": "code",
   "execution_count": null,
   "metadata": {},
   "outputs": [],
   "source": [
    "from environment import dh, pio_renderer\n",
    "if pio_renderer is not None:\n",
    "    pio.renderers.default = pio_renderer"
   ]
  },
  {
   "cell_type": "code",
   "execution_count": null,
   "metadata": {},
   "outputs": [],
   "source": [
    "PROJECT_NAME = \"AreaVerde\""
   ]
  },
  {
   "cell_type": "code",
   "execution_count": null,
   "metadata": {},
   "outputs": [],
   "source": [
    "# Load data\n",
    "project = dh.get_or_create_project(PROJECT_NAME)\n",
    "\n",
    "spira = project.get_dataitem(\"spira_flow_data_2024\").as_df()\n",
    "accuracy = project.get_dataitem(\"spira_accur_data_2024\").as_df()\n",
    "spira['DateTime'] = pd.to_datetime(spira['DateTime'])\n",
    "accuracy['DateTime'] = pd.to_datetime(accuracy['DateTime'])\n"
   ]
  },
  {
   "cell_type": "code",
   "execution_count": null,
   "metadata": {},
   "outputs": [],
   "source": [
    "accuracy_pivot  = accuracy.copy()\n",
    "accuracy_pivot = accuracy_pivot.pivot_table(index='DateTime', columns='spira_code', values='count')"
   ]
  },
  {
   "cell_type": "code",
   "execution_count": null,
   "metadata": {},
   "outputs": [],
   "source": [
    "spira_codes = spira['spira_code'].unique().tolist()\n",
    "accuracy_codes = accuracy_pivot.columns.unique().tolist()\n",
    "extra_acc_codes = [code for code in accuracy_codes if code not in spira_codes]"
   ]
  },
  {
   "cell_type": "code",
   "execution_count": null,
   "metadata": {},
   "outputs": [],
   "source": [
    "accuracy_filtered = accuracy[~accuracy['spira_code'].isin(extra_acc_codes)]"
   ]
  },
  {
   "cell_type": "code",
   "execution_count": null,
   "metadata": {},
   "outputs": [],
   "source": [
    "# replacing first ip-address with the second used\n",
    "accuracy_filtered.loc[accuracy_filtered['spira_code'] == '3.50 3.49 6 1', 'spira_code'] = '3.50 0.127 8 1' # 636\n",
    "accuracy_filtered.loc[accuracy_filtered['spira_code'] == '4.2 4.48 2 1', 'spira_code'] = '4.48 4.48 2 1' # 733\n",
    "accuracy_filtered.loc[accuracy_filtered['spira_code'] == '4.48 4.2 6 1', 'spira_code'] = '4.48 4.48 6 1' # 822"
   ]
  },
  {
   "cell_type": "code",
   "execution_count": null,
   "metadata": {},
   "outputs": [],
   "source": [
    "spira.loc[spira['spira_unique_id']==733 ,'spira_code'] = '4.48 4.48 2 1'\n",
    "spira.loc[spira['spira_unique_id']==822 ,'spira_code'] = '4.48 4.48 6 1'\n",
    "spira.loc[spira['spira_unique_id']==636 ,'spira_code'] = '3.50 0.127 8 1'"
   ]
  },
  {
   "cell_type": "code",
   "execution_count": null,
   "metadata": {},
   "outputs": [],
   "source": [
    "# Check for duplicates in spira\n",
    "duplicates_in_spira = spira[spira.duplicated(subset=['spira_unique_id','spira_code', 'DateTime'], keep=False)]\n",
    "print(f\"Number of duplicates in spira: {len(duplicates_in_spira)}\")\n",
    "\n",
    "# Check for duplicates in acc_filtered\n",
    "duplicates_in_acc = accuracy_filtered[accuracy_filtered.duplicated(subset=['spira_code', 'DateTime'], keep=False)]\n",
    "print(f\"Number of duplicates in acc_filtered: {len(duplicates_in_acc)}\")\n"
   ]
  },
  {
   "cell_type": "code",
   "execution_count": null,
   "metadata": {},
   "outputs": [],
   "source": [
    "duplicates_in_spira[duplicates_in_spira['spira_unique_id']==732] # This is an example that we can see duplicate rows"
   ]
  },
  {
   "cell_type": "code",
   "execution_count": null,
   "metadata": {},
   "outputs": [],
   "source": [
    "spira_cleaned = spira.drop_duplicates(subset=['spira_unique_id','spira_code', 'DateTime'], keep='first')"
   ]
  },
  {
   "cell_type": "code",
   "execution_count": null,
   "metadata": {},
   "outputs": [],
   "source": [
    "merged = spira_cleaned.merge(accuracy_filtered, on=['spira_code', 'DateTime'], suffixes=('_spira', '_acc'))"
   ]
  },
  {
   "cell_type": "code",
   "execution_count": null,
   "metadata": {},
   "outputs": [],
   "source": [
    "off_acc = accuracy_filtered[accuracy_filtered['count']==-1]"
   ]
  },
  {
   "cell_type": "code",
   "execution_count": null,
   "metadata": {},
   "outputs": [],
   "source": [
    "result = pd.merge(off_acc, spira_cleaned, on=['spira_code', 'DateTime'], how='inner')"
   ]
  },
  {
   "cell_type": "code",
   "execution_count": null,
   "metadata": {},
   "outputs": [],
   "source": [
    "app = Dash(__name__)\n",
    "\n",
    "app.layout = html.Div([\n",
    "    html.H4('Interactive time-series plot with spira data'),\n",
    "    dcc.Graph(id=\"time-series-plot\"),\n",
    "    html.P(\"Filter by DateTime:\"),\n",
    "    dcc.DatePickerRange(\n",
    "        id='date-picker-range',\n",
    "        start_date=result[\"DateTime\"].min().date(),\n",
    "        end_date=result[\"DateTime\"].max().date(),\n",
    "        display_format='YYYY-MM-DD',\n",
    "        start_date_placeholder_text='YYYY-MM-DD',\n",
    "    ),\n",
    "])\n",
    "\n",
    "@app.callback(\n",
    "    Output(\"time-series-plot\", \"figure\"),\n",
    "    Input(\"date-picker-range\", \"start_date\"),\n",
    "    Input(\"date-picker-range\", \"end_date\")\n",
    ")\n",
    "def update_time_series(start_date, end_date):\n",
    "    if start_date is None or end_date is None:\n",
    "        return px.line(title=\"Please select a date range.\")\n",
    "\n",
    "    mask = (result['DateTime'] >= start_date) & (result['DateTime'] <= end_date)\n",
    "    filtered_result = result[mask]\n",
    "\n",
    "    fig = px.scatter(\n",
    "        filtered_result,\n",
    "        x=\"DateTime\",\n",
    "        y=\"count_y\",\n",
    "        color=\"spira_code\", \n",
    "        labels={\n",
    "            \"DateTime\": \"Datetime\",\n",
    "            \"count_y\": \"Real Value\",\n",
    "            \"spira_code\": \"spira_code\"\n",
    "        }\n",
    "    )\n",
    "    return fig\n",
    "\n",
    "if __name__ == '__main__':\n",
    "    app.run_server(debug=True)"
   ]
  },
  {
   "cell_type": "code",
   "execution_count": null,
   "metadata": {},
   "outputs": [],
   "source": [
    "non_zero_acc = accuracy_filtered[accuracy_filtered['count']!=100]"
   ]
  },
  {
   "cell_type": "code",
   "execution_count": null,
   "metadata": {},
   "outputs": [],
   "source": [
    "non_zero_result = pd.merge(non_zero_acc, spira_cleaned, on=['spira_code', 'DateTime'], how='inner',suffixes=('_acc', '_spira'))"
   ]
  },
  {
   "cell_type": "code",
   "execution_count": null,
   "metadata": {},
   "outputs": [],
   "source": [
    "non_zero_result             "
   ]
  },
  {
   "cell_type": "code",
   "execution_count": null,
   "metadata": {},
   "outputs": [],
   "source": [
    "app = Dash(__name__)\n",
    "\n",
    "app.layout = html.Div([\n",
    "    html.H4('Interactive time-series plot with spira data'),\n",
    "    dcc.Graph(id=\"time-series-plot\"),\n",
    "    html.P(\"Filter by DateTime:\"),\n",
    "    dcc.DatePickerRange(\n",
    "        id='date-picker-range',\n",
    "        start_date=non_zero_result[\"DateTime\"].min().date(),\n",
    "        end_date=non_zero_result[\"DateTime\"].max().date(),\n",
    "        display_format='YYYY-MM-DD',\n",
    "        start_date_placeholder_text='YYYY-MM-DD',\n",
    "    ),\n",
    "])\n",
    "\n",
    "@app.callback(\n",
    "    Output(\"time-series-plot\", \"figure\"),\n",
    "    Input(\"date-picker-range\", \"start_date\"),\n",
    "    Input(\"date-picker-range\", \"end_date\")\n",
    ")\n",
    "def update_time_series(start_date, end_date):\n",
    "    if start_date is None or end_date is None:\n",
    "        return px.line(title=\"Please select a date range.\")\n",
    "\n",
    "    mask = (non_zero_result['DateTime'] >= start_date) & (non_zero_result['DateTime'] <= end_date)\n",
    "    filtered_result = non_zero_result[mask]\n",
    "\n",
    "    fig = px.scatter(\n",
    "        filtered_result,\n",
    "        x=\"DateTime\",\n",
    "        y=\"count_spira\",\n",
    "        color=\"spira_code\",\n",
    "        hover_data={\"count_acc\": True},\n",
    "        labels={\n",
    "            \"DateTime\": \"Datetime\",\n",
    "            \"count_spira\": \"Real Value\",\n",
    "            \"spira_code\": \"spira_code\"\n",
    "        }\n",
    "    )\n",
    "    return fig\n",
    "\n",
    "if __name__ == '__main__':\n",
    "    app.run_server(debug=True)"
   ]
  }
 ],
 "metadata": {
  "kernelspec": {
   "display_name": "Python 3 (ipykernel)",
   "language": "python",
   "name": "python3"
  },
  "language_info": {
   "codemirror_mode": {
    "name": "ipython",
    "version": 3
   },
   "file_extension": ".py",
   "mimetype": "text/x-python",
   "name": "python",
   "nbconvert_exporter": "python",
   "pygments_lexer": "ipython3",
   "version": "3.10.11"
  }
 },
 "nbformat": 4,
 "nbformat_minor": 4
}
