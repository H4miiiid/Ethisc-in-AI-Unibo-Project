{
 "cells": [
  {
   "cell_type": "code",
   "execution_count": null,
   "metadata": {},
   "outputs": [],
   "source": [
    "%pip install plotly seaborn"
   ]
  },
  {
   "cell_type": "code",
   "execution_count": null,
   "metadata": {
    "id": "5q1z5_5bQAeH"
   },
   "outputs": [],
   "source": [
    "import pandas as pd\n",
    "import seaborn as sns\n",
    "import plotly.express as px\n",
    "import plotly.io as pio\n",
    "import matplotlib.pyplot as plt\n",
    "\n",
    "from datetime import date\n",
    "from matplotlib.colors import ListedColormap, BoundaryNorm"
   ]
  },
  {
   "cell_type": "code",
   "execution_count": null,
   "metadata": {},
   "outputs": [],
   "source": [
    "from environment import dh, pio_renderer\n",
    "if pio_renderer is not None:\n",
    "    pio.renderers.default = pio_renderer"
   ]
  },
  {
   "cell_type": "code",
   "execution_count": null,
   "metadata": {},
   "outputs": [],
   "source": [
    "PROJECT_NAME = \"AreaVerde\""
   ]
  },
  {
   "cell_type": "code",
   "execution_count": null,
   "metadata": {
    "id": "vpph9SJ2xAwS"
   },
   "outputs": [],
   "source": [
    "def Heatmap(data, norm, colors):\n",
    "  plt.figure(figsize=(20, 20))\n",
    "  custom_colors = colors\n",
    "  cmap = ListedColormap(custom_colors)\n",
    "  sns.heatmap(\n",
    "      data,\n",
    "      cmap=cmap,          \n",
    "      norm=norm,\n",
    "      linewidths=0.6,\n",
    "      fmt='d',\n",
    "      cbar=False,\n",
    "  )\n",
    "\n",
    "  plt.tight_layout()\n",
    "  plt.show()"
   ]
  },
  {
   "cell_type": "markdown",
   "metadata": {
    "id": "UvRpA3xsjWIc"
   },
   "source": [
    "# **Load Data**"
   ]
  },
  {
   "cell_type": "code",
   "execution_count": null,
   "metadata": {
    "id": "Z6CeJCh4QYEo"
   },
   "outputs": [],
   "source": [
    "# Load data\n",
    "project = dh.get_or_create_project(PROJECT_NAME)\n",
    "\n",
    "spira = project.get_dataitem(\"spira_flow_data_2024\").as_df()\n",
    "spira['DateTime'] = pd.to_datetime(spira['DateTime'])"
   ]
  },
  {
   "cell_type": "code",
   "execution_count": null,
   "metadata": {},
   "outputs": [],
   "source": [
    "spira"
   ]
  },
  {
   "cell_type": "code",
   "execution_count": null,
   "metadata": {},
   "outputs": [],
   "source": [
    "spira_locations = spira[['spira_unique_id', 'longitudine', 'latitudine']].drop_duplicates()"
   ]
  },
  {
   "cell_type": "markdown",
   "metadata": {},
   "source": [
    "# **Selected Date and Spira**"
   ]
  },
  {
   "cell_type": "code",
   "execution_count": null,
   "metadata": {},
   "outputs": [],
   "source": [
    "filtered_df = spira[spira['spira_unique_id'].between(200, 250)]\n",
    "ids = filtered_df['spira_unique_id'].unique().tolist()"
   ]
  },
  {
   "cell_type": "code",
   "execution_count": null,
   "metadata": {},
   "outputs": [],
   "source": [
    "start = date(2024, 6, 1)\n",
    "end = date(2024, 7, 30)\n",
    "sel_spira = ids # This is the green section in yearly heatmap"
   ]
  },
  {
   "cell_type": "markdown",
   "metadata": {},
   "source": [
    "# **One_to_Many IDs in 2023**"
   ]
  },
  {
   "cell_type": "code",
   "execution_count": null,
   "metadata": {},
   "outputs": [],
   "source": [
    "spira_2023 = project.get_dataitem(\"spira_flow_data_2023\").as_df()\n",
    "spira_2023['DateTime'] = pd.to_datetime(spira_2023['DateTime'])"
   ]
  },
  {
   "cell_type": "code",
   "execution_count": null,
   "metadata": {},
   "outputs": [],
   "source": [
    "spira_2023"
   ]
  },
  {
   "cell_type": "code",
   "execution_count": null,
   "metadata": {},
   "outputs": [],
   "source": [
    "one_many_2023 = spira_2023[['spira_code', 'spira_unique_id']].groupby('spira_unique_id').agg(lambda x:  x.unique())"
   ]
  },
  {
   "cell_type": "code",
   "execution_count": null,
   "metadata": {},
   "outputs": [],
   "source": [
    "duplicated = []\n",
    "for code, ip in one_many_2023['spira_code'].items():\n",
    "    if len(ip)>1:\n",
    "        duplicated.append(int(code))\n",
    "        print(code, ip)"
   ]
  },
  {
   "cell_type": "code",
   "execution_count": null,
   "metadata": {},
   "outputs": [],
   "source": [
    "for code in duplicated[:3]:\n",
    "    spira_2023_c = spira_2023.loc[spira_2023['spira_unique_id'] == code ].copy()\n",
    "    spira_df_2023 = spira_2023_c[['spira_code','DateTime']]\n",
    "    fig = px.scatter(\n",
    "    spira_df_2023, \n",
    "    x='DateTime', \n",
    "    y='spira_code', \n",
    "    title=f\"Spira {code} Timeline\", \n",
    "    labels={'time': 'Time', 'spira': 'Spira'}, \n",
    "    color='spira_code'  \n",
    ")\n",
    "    fig.update_layout(\n",
    "        width=700,  \n",
    "        height=300,  \n",
    "        title_font_size=20,\n",
    "    )\n",
    "    fig.show()\n"
   ]
  },
  {
   "cell_type": "markdown",
   "metadata": {},
   "source": [
    "# **One_to_Many IDs in 2024**"
   ]
  },
  {
   "cell_type": "code",
   "execution_count": null,
   "metadata": {},
   "outputs": [],
   "source": [
    "one_many = spira[['spira_code', 'spira_unique_id']].groupby('spira_unique_id').agg(lambda x:  x.unique())"
   ]
  },
  {
   "cell_type": "code",
   "execution_count": null,
   "metadata": {},
   "outputs": [],
   "source": [
    "duplicated = []\n",
    "for code, ip in one_many['spira_code'].items():\n",
    "    if len(ip)>1:\n",
    "        duplicated.append(int(code))\n",
    "        print(code, ip)"
   ]
  },
  {
   "cell_type": "code",
   "execution_count": null,
   "metadata": {},
   "outputs": [],
   "source": [
    "for code in duplicated:\n",
    "    spira_2024_c = spira.loc[spira['spira_unique_id'] == code ].copy()\n",
    "    spira_df_2024 = spira_2024_c[['spira_code','DateTime']]\n",
    "    fig = px.scatter(\n",
    "    spira_df_2024, \n",
    "    x='DateTime', \n",
    "    y='spira_code', \n",
    "    title=f\"Spira {code} Timeline\", \n",
    "    labels={'time': 'Time', 'spira': 'Spira'}, \n",
    "    color='spira_code'  \n",
    ")\n",
    "    fig.update_layout(\n",
    "        width=600,  \n",
    "        height=300,  \n",
    "        title_font_size=20,\n",
    "    )   \n",
    "    fig.show()\n"
   ]
  },
  {
   "cell_type": "markdown",
   "metadata": {},
   "source": [
    "# **Daily**"
   ]
  },
  {
   "cell_type": "code",
   "execution_count": null,
   "metadata": {},
   "outputs": [],
   "source": [
    "spira"
   ]
  },
  {
   "cell_type": "code",
   "execution_count": null,
   "metadata": {},
   "outputs": [],
   "source": [
    "spira['date'] = spira['DateTime'].dt.date"
   ]
  },
  {
   "cell_type": "code",
   "execution_count": null,
   "metadata": {},
   "outputs": [],
   "source": [
    "total_vehicle_d = spira[[\"date\", \"spira_unique_id\", \"count\"]].groupby([\"date\", \"spira_unique_id\"], as_index=False).sum()\n",
    "total_vehicle_d = total_vehicle_d.pivot_table(index=\"date\", columns=\"spira_unique_id\", values=\"count\", fill_value=0).astype(int)\n",
    "total_vehicle_d"
   ]
  },
  {
   "cell_type": "code",
   "execution_count": null,
   "metadata": {},
   "outputs": [],
   "source": [
    "sel_total_vehicle_d = total_vehicle_d[sel_spira]"
   ]
  },
  {
   "cell_type": "code",
   "execution_count": null,
   "metadata": {},
   "outputs": [],
   "source": [
    "sel_total_vehicle_d"
   ]
  },
  {
   "cell_type": "code",
   "execution_count": null,
   "metadata": {},
   "outputs": [],
   "source": [
    "norm = BoundaryNorm(boundaries=[-0.5, 0.5,max(total_vehicle_d)], ncolors=2)\n",
    "custom_colors = ['red', 'green']\n",
    "Heatmap(sel_total_vehicle_d, norm, custom_colors)"
   ]
  },
  {
   "cell_type": "markdown",
   "metadata": {},
   "source": [
    "# **Hourly Analysis**"
   ]
  },
  {
   "cell_type": "code",
   "execution_count": null,
   "metadata": {},
   "outputs": [],
   "source": [
    "total_vehicle_h = spira[[\"DateTime\", \"spira_unique_id\", \"count\"]].groupby([\"DateTime\", \"spira_unique_id\"], as_index=False).sum()\n",
    "\n",
    "total_vehicle_h = total_vehicle_h.pivot_table(index=\"DateTime\", columns=\"spira_unique_id\", values=\"count\", fill_value=0).astype(int)"
   ]
  },
  {
   "cell_type": "code",
   "execution_count": null,
   "metadata": {},
   "outputs": [],
   "source": [
    "total_vehicle_h"
   ]
  },
  {
   "cell_type": "code",
   "execution_count": null,
   "metadata": {},
   "outputs": [],
   "source": [
    "sel_total_vehicle_h = total_vehicle_h[sel_spira]"
   ]
  },
  {
   "cell_type": "code",
   "execution_count": null,
   "metadata": {},
   "outputs": [],
   "source": [
    "hourly_summary = (sel_total_vehicle_h > 0).groupby(sel_total_vehicle_h.index.date).sum()\n",
    "hourly_status = pd.DataFrame(index=hourly_summary.index, columns=hourly_summary.columns)\n",
    "\n",
    "hourly_status[(hourly_summary == 24)] = 'green'  # All 24 hours have non-zero data\n",
    "hourly_status[(hourly_summary >= 18) & (hourly_summary < 24)] = 'yellow'  # Some hours have zero data\n",
    "hourly_status[(hourly_summary > 0) & (hourly_summary < 18)] = 'orange'  # Some hours have zero data\n",
    "hourly_status[(hourly_summary == 0)] = 'red'  # All hours are zero\n",
    "color_mapping = {'red': 0, 'orange': 2, 'green': 1, 'yellow':3}\n",
    "hourly_status = hourly_status.replace(color_mapping)\n",
    "hourly_status"
   ]
  },
  {
   "cell_type": "code",
   "execution_count": null,
   "metadata": {},
   "outputs": [],
   "source": [
    "norm = BoundaryNorm(boundaries=[-0.5, 0.5,1.5,2.5,3.5], ncolors=4)\n",
    "custom_colors = ['red', 'green','orange', 'yellow']\n",
    "Heatmap(hourly_status, norm, custom_colors) "
   ]
  },
  {
   "cell_type": "code",
   "execution_count": null,
   "metadata": {},
   "outputs": [],
   "source": [
    "total_vehicle_w = total_vehicle_h.copy().reset_index()\n",
    "total_vehicle_w['Weekday'] = total_vehicle_w['DateTime'].dt.day_name()\n",
    "    "
   ]
  },
  {
   "cell_type": "code",
   "execution_count": null,
   "metadata": {},
   "outputs": [],
   "source": [
    "weekday_order = [\"Monday\", \"Tuesday\", \"Wednesday\", \"Thursday\", \"Friday\", \"Saturday\", \"Sunday\"]\n",
    "grouped_data = total_vehicle_w.groupby('Weekday').mean().reindex(weekday_order)"
   ]
  },
  {
   "cell_type": "code",
   "execution_count": null,
   "metadata": {},
   "outputs": [],
   "source": [
    "grouped_data[sel_spira].plot(figsize=(14, 10), legend=False)"
   ]
  },
  {
   "cell_type": "code",
   "execution_count": null,
   "metadata": {},
   "outputs": [],
   "source": [
    "start = date(2024,5,20)\n",
    "end = date(2024,6,30)\n",
    "sel_total_vehicle_h = total_vehicle_h[start:end][sel_spira]"
   ]
  },
  {
   "cell_type": "code",
   "execution_count": null,
   "metadata": {},
   "outputs": [],
   "source": [
    "mean_values = sel_total_vehicle_h.mean(axis=1)\n",
    "\n",
    "specific_spira_id = 214\n",
    "specific_spira_data = sel_total_vehicle_h[specific_spira_id]\n",
    "\n",
    "plt.figure(figsize=(16, 10))\n",
    "plt.plot(sel_total_vehicle_h.index, mean_values, label='Mean of selected Spiras', color='blue')\n",
    "\n",
    "\n",
    "plt.plot(sel_total_vehicle_h.index, specific_spira_data, label=f'Spira {specific_spira_id}', color='orange')\n",
    "plt.legend()\n",
    "plt.show()\n"
   ]
  },
  {
   "cell_type": "markdown",
   "metadata": {},
   "source": [
    "# **Heatmap for Whole year**"
   ]
  },
  {
   "cell_type": "code",
   "execution_count": null,
   "metadata": {},
   "outputs": [],
   "source": [
    "total_vehicle_d.T\n",
    "norm = BoundaryNorm(boundaries=[-0.5, 0.5,max(total_vehicle_d)], ncolors=2)\n",
    "custom_colors = ['red', 'green']\n",
    "spiras_per_plot = 100\n",
    "num_plots = len(total_vehicle_d.columns) // spiras_per_plot + 1\n",
    "for i in range(num_plots):\n",
    "    start = i * spiras_per_plot\n",
    "    end = (i + 1) * spiras_per_plot\n",
    "    spira_subset = total_vehicle_d.iloc[:, start:end]\n",
    "    Heatmap(spira_subset.T, norm,custom_colors)"
   ]
  }
 ],
 "metadata": {
  "colab": {
   "collapsed_sections": [
    "vNgD3FDmjT-H",
    "1BNPUUQNo7Sv"
   ],
   "provenance": []
  },
  "kernelspec": {
   "display_name": "Python 3 (ipykernel)",
   "language": "python",
   "name": "python3"
  },
  "language_info": {
   "codemirror_mode": {
    "name": "ipython",
    "version": 3
   },
   "file_extension": ".py",
   "mimetype": "text/x-python",
   "name": "python",
   "nbconvert_exporter": "python",
   "pygments_lexer": "ipython3",
   "version": "3.10.11"
  }
 },
 "nbformat": 4,
 "nbformat_minor": 4
}
