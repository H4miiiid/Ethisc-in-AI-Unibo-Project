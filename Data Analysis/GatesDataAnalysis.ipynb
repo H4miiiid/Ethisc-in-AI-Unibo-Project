{
 "cells": [
  {
   "cell_type": "code",
   "execution_count": null,
   "id": "a92c95e7-8525-4844-865a-cd619e42f5b9",
   "metadata": {
    "ExecuteTime": {
     "end_time": "2024-12-17T11:33:07.795430Z",
     "start_time": "2024-12-17T11:33:06.181857Z"
    }
   },
   "outputs": [],
   "source": [
    "%pip install geopandas plotly shapely seaborn"
   ]
  },
  {
   "cell_type": "code",
   "execution_count": null,
   "id": "initial_id",
   "metadata": {
    "ExecuteTime": {
     "end_time": "2024-12-17T11:33:08.047776Z",
     "start_time": "2024-12-17T11:33:07.796703Z"
    },
    "executionInfo": {
     "elapsed": 4194,
     "status": "ok",
     "timestamp": 1730991477849,
     "user": {
      "displayName": "Maryam Sajedinia",
      "userId": "08230976678444268759"
     },
     "user_tz": -60
    },
    "id": "initial_id"
   },
   "outputs": [],
   "source": [
    "from datetime import date\n",
    "import numpy as np\n",
    "import seaborn as sns\n",
    "import pandas as pd\n",
    "import geopandas as gpd\n",
    "import plotly.express as px\n",
    "import plotly.io as pio\n",
    "import matplotlib.pyplot as plt\n",
    "from shapely.geometry import Point\n",
    "from matplotlib.colors import ListedColormap, BoundaryNorm"
   ]
  },
  {
   "cell_type": "code",
   "execution_count": null,
   "id": "24aa90fa5221df05",
   "metadata": {
    "ExecuteTime": {
     "end_time": "2024-12-17T11:33:08.325286Z",
     "start_time": "2024-12-17T11:33:08.048696Z"
    }
   },
   "outputs": [],
   "source": [
    "from environment import dh, pio_renderer\n",
    "if pio_renderer is not None:\n",
    "    pio.renderers.default = pio_renderer"
   ]
  },
  {
   "cell_type": "code",
   "execution_count": null,
   "id": "58172935-e577-4d03-9c70-58ddf976c2f1",
   "metadata": {
    "ExecuteTime": {
     "end_time": "2024-12-17T11:33:08.330376Z",
     "start_time": "2024-12-17T11:33:08.328164Z"
    }
   },
   "outputs": [],
   "source": [
    "PROJECT_NAME = \"AreaVerde\""
   ]
  },
  {
   "cell_type": "markdown",
   "id": "05c74851",
   "metadata": {},
   "source": [
    "# **Functions**"
   ]
  },
  {
   "cell_type": "code",
   "execution_count": null,
   "id": "8bc26431",
   "metadata": {
    "ExecuteTime": {
     "end_time": "2024-12-17T11:33:08.349058Z",
     "start_time": "2024-12-17T11:33:08.331373Z"
    }
   },
   "outputs": [],
   "source": [
    "def Heatmap(data, annot, colors, bounds):\n",
    "  plt.figure(figsize=(14, 10))\n",
    "  # colors = ['#d1351d', '#006d2c']\n",
    "  cmap = ListedColormap(colors)\n",
    "  # max_value = 680971\n",
    "  # bounds = [0,1, max_value]\n",
    "  norm = BoundaryNorm(bounds, cmap.N)\n",
    "\n",
    "  sns.heatmap(\n",
    "      data,\n",
    "      cmap=cmap,\n",
    "      norm=norm,\n",
    "      linewidths=0.6,\n",
    "      annot=annot,\n",
    "      fmt='d',\n",
    "      cbar=False,\n",
    "  )\n",
    "\n",
    "  plt.tight_layout()\n",
    "  plt.show()"
   ]
  },
  {
   "cell_type": "code",
   "execution_count": null,
   "id": "fac58fba",
   "metadata": {
    "ExecuteTime": {
     "end_time": "2024-12-17T11:33:08.368275Z",
     "start_time": "2024-12-17T11:33:08.350135Z"
    }
   },
   "outputs": [],
   "source": [
    "def create_map(gates, color_map, map_style=\"open-street-map\", zoom=12, width=1200, height=1000):\n",
    "    filtered_data = gdf[gdf['gate'].isin(gates)]\n",
    "    filtered_data['lon'] = filtered_data.geometry.x\n",
    "    filtered_data['lat'] = filtered_data.geometry.y\n",
    "\n",
    "    fig = px.scatter_mapbox(\n",
    "        filtered_data,\n",
    "        lat=\"lat\",\n",
    "        lon=\"lon\",\n",
    "        hover_name=\"gate\",\n",
    "        hover_data={\"vehicle\": True, \"Percentuale\": True, \"count\": True, \"lat\": False, \"lon\": False},\n",
    "        color=\"gate\",\n",
    "        color_discrete_map=color_map,\n",
    "        mapbox_style=map_style,\n",
    "        size=\"Percentuale\",\n",
    "        size_max=15,\n",
    "        zoom=zoom,\n",
    "        # width=width,\n",
    "        height=height,\n",
    "        text=\"gate\"\n",
    "    )\n",
    "\n",
    "    return fig"
   ]
  },
  {
   "cell_type": "code",
   "execution_count": null,
   "id": "5d009f82",
   "metadata": {
    "ExecuteTime": {
     "end_time": "2024-12-17T11:33:08.384960Z",
     "start_time": "2024-12-17T11:33:08.369192Z"
    }
   },
   "outputs": [],
   "source": [
    "def get_season(month):\n",
    "    if month in [12, 1, 2]:\n",
    "        return 'Winter'\n",
    "    elif month in [3, 4, 5]:\n",
    "        return 'Spring'\n",
    "    elif month in [6, 7, 8]:\n",
    "        return 'Summer'\n",
    "    else:\n",
    "        return 'Fall'"
   ]
  },
  {
   "cell_type": "code",
   "execution_count": null,
   "id": "2bdb3c1b",
   "metadata": {
    "ExecuteTime": {
     "end_time": "2024-12-17T11:33:08.403740Z",
     "start_time": "2024-12-17T11:33:08.385794Z"
    }
   },
   "outputs": [],
   "source": [
    "def create_plt(ax, gate, index, color, zero_counts_by_hour_gate):\n",
    "    ax.plot(zero_counts_by_hour_gate.index, zero_counts_by_hour_gate[gate],\n",
    "            marker='o', linestyle='-', label=f'gate {gate}', color=color)\n",
    "    ax.set_ylabel('Number of Zero')\n",
    "    ax.set_xticks(range(0, 24))\n",
    "    ax.legend(title='gate', bbox_to_anchor=(1.05, 1), loc='upper left')"
   ]
  },
  {
   "cell_type": "markdown",
   "id": "2d6eb371ff71042f",
   "metadata": {
    "id": "2d6eb371ff71042f"
   },
   "source": [
    "# Load data"
   ]
  },
  {
   "cell_type": "code",
   "execution_count": null,
   "id": "3c2c446020202861",
   "metadata": {
    "ExecuteTime": {
     "end_time": "2024-12-17T11:33:10.916170Z",
     "start_time": "2024-12-17T11:33:08.404641Z"
    },
    "executionInfo": {
     "elapsed": 4843,
     "status": "ok",
     "timestamp": 1730991486016,
     "user": {
      "displayName": "Maryam Sajedinia",
      "userId": "08230976678444268759"
     },
     "user_tz": -60
    },
    "id": "3c2c446020202861"
   },
   "outputs": [],
   "source": [
    "project = dh.get_or_create_project(PROJECT_NAME)\n",
    "\n",
    "gates = project.get_dataitem(\"gates\").as_df()\n",
    "data = project.get_dataitem(\"gate_data\").as_df()\n",
    "# Join coordinates\n",
    "gate_data = pd.merge(data, gates, on=\"gate\", how=\"left\", validate=\"many_to_one\").drop(columns=[\"ID\", \"Indirizzo\", \"Settore\", \"Link google maps\"])\n",
    "# reconvert string to datetime\n",
    "gate_data[\"Data\"] = pd.to_datetime(gate_data[\"Data\"])"
   ]
  },
  {
   "cell_type": "markdown",
   "id": "wPzaav3TP9Nl",
   "metadata": {
    "id": "wPzaav3TP9Nl"
   },
   "source": [
    "# **Seasonal**"
   ]
  },
  {
   "cell_type": "code",
   "execution_count": null,
   "id": "PEv0v2GoRWGm",
   "metadata": {
    "ExecuteTime": {
     "end_time": "2024-12-17T11:33:11.003631Z",
     "start_time": "2024-12-17T11:33:10.917214Z"
    },
    "executionInfo": {
     "elapsed": 308,
     "status": "ok",
     "timestamp": 1730968743733,
     "user": {
      "displayName": "Maryam Sajedinia",
      "userId": "08230976678444268759"
     },
     "user_tz": -60
    },
    "id": "PEv0v2GoRWGm"
   },
   "outputs": [],
   "source": [
    "gate_data['Season'] = gate_data['Data'].dt.month.apply(get_season)"
   ]
  },
  {
   "cell_type": "code",
   "execution_count": null,
   "id": "I7F2pen9THzH",
   "metadata": {
    "ExecuteTime": {
     "end_time": "2024-12-17T11:33:11.136690Z",
     "start_time": "2024-12-17T11:33:11.017087Z"
    },
    "colab": {
     "base_uri": "https://localhost:8080/",
     "height": 273
    },
    "executionInfo": {
     "elapsed": 311,
     "status": "ok",
     "timestamp": 1730968744864,
     "user": {
      "displayName": "Maryam Sajedinia",
      "userId": "08230976678444268759"
     },
     "user_tz": -60
    },
    "id": "I7F2pen9THzH",
    "outputId": "28f9fa60-05c6-4551-97e3-39c1fc016df0"
   },
   "outputs": [],
   "source": [
    "total_vahicle_s = gate_data[[\"Season\", \"gate\", \"count\"]].groupby([\"Season\", \"gate\"], as_index=False).sum()\n",
    "total_vahicle_s = total_vahicle_s.pivot_table(index=\"Season\", columns=\"gate\", values=\"count\", fill_value=0).astype(int)\n",
    "total_vahicle_s"
   ]
  },
  {
   "cell_type": "code",
   "execution_count": null,
   "id": "ESkZZithTwTU",
   "metadata": {
    "ExecuteTime": {
     "end_time": "2024-12-17T11:33:11.139159Z",
     "start_time": "2024-12-17T11:33:11.137446Z"
    },
    "executionInfo": {
     "elapsed": 241,
     "status": "ok",
     "timestamp": 1730968746636,
     "user": {
      "displayName": "Maryam Sajedinia",
      "userId": "08230976678444268759"
     },
     "user_tz": -60
    },
    "id": "ESkZZithTwTU"
   },
   "outputs": [],
   "source": [
    "total_vahicle_s = total_vahicle_s.T"
   ]
  },
  {
   "cell_type": "code",
   "execution_count": null,
   "id": "tpkc_TEzTfXe",
   "metadata": {
    "ExecuteTime": {
     "end_time": "2024-12-17T11:33:11.487812Z",
     "start_time": "2024-12-17T11:33:11.139781Z"
    },
    "colab": {
     "base_uri": "https://localhost:8080/",
     "height": 1000
    },
    "executionInfo": {
     "elapsed": 1429,
     "status": "ok",
     "timestamp": 1730968748751,
     "user": {
      "displayName": "Maryam Sajedinia",
      "userId": "08230976678444268759"
     },
     "user_tz": -60
    },
    "id": "tpkc_TEzTfXe",
    "outputId": "3f0fd627-d12f-41bd-be09-eef79ceb1c15"
   },
   "outputs": [],
   "source": [
    "Heatmap(total_vahicle_s, annot=True, colors=['#d1351d', '#006d2c'], bounds=[0,1, 680971])"
   ]
  },
  {
   "cell_type": "markdown",
   "id": "bVT1leILVTza",
   "metadata": {
    "id": "bVT1leILVTza"
   },
   "source": [
    "# **Monthly**"
   ]
  },
  {
   "cell_type": "code",
   "execution_count": null,
   "id": "S7tyLy9EYTYG",
   "metadata": {
    "ExecuteTime": {
     "end_time": "2024-12-17T11:33:11.534188Z",
     "start_time": "2024-12-17T11:33:11.488528Z"
    },
    "executionInfo": {
     "elapsed": 361,
     "status": "ok",
     "timestamp": 1730968751317,
     "user": {
      "displayName": "Maryam Sajedinia",
      "userId": "08230976678444268759"
     },
     "user_tz": -60
    },
    "id": "S7tyLy9EYTYG"
   },
   "outputs": [],
   "source": [
    "gate_data['date'] = gate_data['Data'].dt.date"
   ]
  },
  {
   "cell_type": "code",
   "execution_count": null,
   "id": "X1NePxQC9ngK",
   "metadata": {
    "ExecuteTime": {
     "end_time": "2024-12-17T11:33:11.628724Z",
     "start_time": "2024-12-17T11:33:11.534901Z"
    },
    "colab": {
     "base_uri": "https://localhost:8080/",
     "height": 732
    },
    "executionInfo": {
     "elapsed": 764,
     "status": "ok",
     "timestamp": 1730968752844,
     "user": {
      "displayName": "Maryam Sajedinia",
      "userId": "08230976678444268759"
     },
     "user_tz": -60
    },
    "id": "X1NePxQC9ngK",
    "outputId": "65db3aa1-66f0-457b-da6c-654f6cb41eb0"
   },
   "outputs": [],
   "source": [
    "gate_data['Month'] = gate_data['Data'].dt.to_period('M')\n",
    "total_vahicle_m = gate_data[[\"Month\", \"gate\", \"count\"]].groupby([\"Month\", \"gate\"], as_index=False).sum()\n",
    "total_vahicle_m = total_vahicle_m.pivot_table(index=\"Month\", columns=\"gate\", values=\"count\", fill_value=0).astype(int)\n",
    "total_vahicle_m"
   ]
  },
  {
   "cell_type": "code",
   "execution_count": null,
   "id": "oUmNnKK6QLsd",
   "metadata": {
    "ExecuteTime": {
     "end_time": "2024-12-17T11:33:11.631442Z",
     "start_time": "2024-12-17T11:33:11.629443Z"
    },
    "executionInfo": {
     "elapsed": 526,
     "status": "ok",
     "timestamp": 1730968754614,
     "user": {
      "displayName": "Maryam Sajedinia",
      "userId": "08230976678444268759"
     },
     "user_tz": -60
    },
    "id": "oUmNnKK6QLsd"
   },
   "outputs": [],
   "source": [
    "total_vahicle_m = total_vahicle_m.T"
   ]
  },
  {
   "cell_type": "code",
   "execution_count": null,
   "id": "mtIINgUTQGnJ",
   "metadata": {
    "ExecuteTime": {
     "end_time": "2024-12-17T11:33:12.045462Z",
     "start_time": "2024-12-17T11:33:11.631995Z"
    },
    "colab": {
     "base_uri": "https://localhost:8080/",
     "height": 1000
    },
    "executionInfo": {
     "elapsed": 1895,
     "status": "ok",
     "timestamp": 1730968757192,
     "user": {
      "displayName": "Maryam Sajedinia",
      "userId": "08230976678444268759"
     },
     "user_tz": -60
    },
    "id": "mtIINgUTQGnJ",
    "outputId": "6c5df1a3-3c98-416d-87ad-539e848bf8a6"
   },
   "outputs": [],
   "source": [
    "Heatmap(total_vahicle_m, annot=True, colors=['#d1351d', '#006d2c'], bounds=[0,1, 680971])"
   ]
  },
  {
   "cell_type": "markdown",
   "id": "xYglNHR2VWw9",
   "metadata": {
    "id": "xYglNHR2VWw9"
   },
   "source": [
    "# **Daily**"
   ]
  },
  {
   "cell_type": "code",
   "execution_count": null,
   "id": "xrZ0ojO7ZvAj",
   "metadata": {
    "ExecuteTime": {
     "end_time": "2024-12-17T11:33:12.099642Z",
     "start_time": "2024-12-17T11:33:12.046187Z"
    },
    "executionInfo": {
     "elapsed": 363,
     "status": "ok",
     "timestamp": 1730968759456,
     "user": {
      "displayName": "Maryam Sajedinia",
      "userId": "08230976678444268759"
     },
     "user_tz": -60
    },
    "id": "xrZ0ojO7ZvAj"
   },
   "outputs": [],
   "source": [
    "gate_data['date'] = gate_data['Data'].dt.date"
   ]
  },
  {
   "cell_type": "code",
   "execution_count": null,
   "id": "Z4XKjPyDWEXM",
   "metadata": {
    "ExecuteTime": {
     "end_time": "2024-12-17T11:33:12.217687Z",
     "start_time": "2024-12-17T11:33:12.100261Z"
    },
    "colab": {
     "base_uri": "https://localhost:8080/",
     "height": 666
    },
    "executionInfo": {
     "elapsed": 611,
     "status": "ok",
     "timestamp": 1730968760934,
     "user": {
      "displayName": "Maryam Sajedinia",
      "userId": "08230976678444268759"
     },
     "user_tz": -60
    },
    "id": "Z4XKjPyDWEXM",
    "outputId": "37b747bf-768b-466a-bd8f-18980e5c248d"
   },
   "outputs": [],
   "source": [
    "daily_total_vahicle = gate_data[[\"date\", \"gate\", \"count\"]].groupby([\"date\", \"gate\"], as_index=False).sum()\n",
    "daily_total_vahicle = daily_total_vahicle.pivot_table(index=\"date\", columns=\"gate\", values=\"count\", fill_value=0).astype(int)\n",
    "daily_total_vahicle"
   ]
  },
  {
   "cell_type": "code",
   "execution_count": null,
   "id": "V3xxQ6g0fGTq",
   "metadata": {
    "ExecuteTime": {
     "end_time": "2024-12-17T11:33:12.593353Z",
     "start_time": "2024-12-17T11:33:12.218272Z"
    },
    "colab": {
     "base_uri": "https://localhost:8080/",
     "height": 1000
    },
    "executionInfo": {
     "elapsed": 3263,
     "status": "ok",
     "timestamp": 1730972761015,
     "user": {
      "displayName": "Maryam Sajedinia",
      "userId": "08230976678444268759"
     },
     "user_tz": -60
    },
    "id": "V3xxQ6g0fGTq",
    "outputId": "43457d5d-6acc-490b-aec2-3f48e317e626"
   },
   "outputs": [],
   "source": [
    "Heatmap(daily_total_vahicle,annot=False,colors=['#d1351d', '#006d2c'], bounds=[0,1, 680971])"
   ]
  },
  {
   "cell_type": "markdown",
   "id": "91hK5pF1RU-F",
   "metadata": {
    "id": "91hK5pF1RU-F"
   },
   "source": [
    "# **Hourly**"
   ]
  },
  {
   "cell_type": "code",
   "execution_count": null,
   "id": "1yDY9ieDJpx6",
   "metadata": {
    "ExecuteTime": {
     "end_time": "2024-12-17T11:33:12.677845Z",
     "start_time": "2024-12-17T11:33:12.593905Z"
    },
    "executionInfo": {
     "elapsed": 1105,
     "status": "ok",
     "timestamp": 1730986624306,
     "user": {
      "displayName": "Maryam Sajedinia",
      "userId": "08230976678444268759"
     },
     "user_tz": -60
    },
    "id": "1yDY9ieDJpx6"
   },
   "outputs": [],
   "source": [
    "hourly_total_vahicle = gate_data[[\"Data\", \"gate\", \"count\"]].groupby([\"Data\", \"gate\"], as_index=False).sum()\n",
    "hourly_total_vahicle = hourly_total_vahicle.pivot_table(index=\"Data\", columns=\"gate\", values=\"count\", fill_value=0).astype(int)"
   ]
  },
  {
   "cell_type": "code",
   "execution_count": null,
   "id": "DjDXoYSFKKwj",
   "metadata": {
    "ExecuteTime": {
     "end_time": "2024-12-17T11:33:12.685311Z",
     "start_time": "2024-12-17T11:33:12.678511Z"
    },
    "colab": {
     "base_uri": "https://localhost:8080/",
     "height": 839
    },
    "executionInfo": {
     "elapsed": 304,
     "status": "ok",
     "timestamp": 1730986625496,
     "user": {
      "displayName": "Maryam Sajedinia",
      "userId": "08230976678444268759"
     },
     "user_tz": -60
    },
    "id": "DjDXoYSFKKwj",
    "outputId": "0a45f764-61e2-4f72-c92c-a1baba5cc247"
   },
   "outputs": [],
   "source": [
    "hourly_total_vahicle"
   ]
  },
  {
   "cell_type": "code",
   "execution_count": null,
   "id": "Z1XPIN1Ygei9",
   "metadata": {
    "ExecuteTime": {
     "end_time": "2024-12-17T11:33:12.709125Z",
     "start_time": "2024-12-17T11:33:12.685807Z"
    },
    "colab": {
     "base_uri": "https://localhost:8080/"
    },
    "executionInfo": {
     "elapsed": 237,
     "status": "ok",
     "timestamp": 1730986626792,
     "user": {
      "displayName": "Maryam Sajedinia",
      "userId": "08230976678444268759"
     },
     "user_tz": -60
    },
    "id": "Z1XPIN1Ygei9",
    "outputId": "9cb4b784-39e7-42c1-bb5f-a1a370a61df6"
   },
   "outputs": [],
   "source": [
    "daily_summary = (hourly_total_vahicle > 0).groupby(hourly_total_vahicle.index.date).sum()\n",
    "daily_status = pd.DataFrame(index=daily_summary.index, columns=daily_summary.columns)\n",
    "\n",
    "daily_status[(daily_summary >= 24)] = 'green'  # All 24 hours have non-zero data\n",
    "daily_status[(daily_summary >= 18) & (daily_summary < 24)] = 'yellow'  # Some hours have zero data\n",
    "daily_status[(daily_summary > 0) & (daily_summary < 18)] = 'orange'  # Some hours have zero data\n",
    "daily_status[(daily_summary == 0)] = 'red'  # All hours are zero\n",
    "color_mapping = {'red': 0, 'orange': 1, 'yellow': 2, 'green': 3}\n",
    "daily_status = daily_status.replace(color_mapping)"
   ]
  },
  {
   "cell_type": "code",
   "execution_count": null,
   "id": "J8H9t6aYIrZ6",
   "metadata": {
    "ExecuteTime": {
     "end_time": "2024-12-17T11:33:12.721069Z",
     "start_time": "2024-12-17T11:33:12.709712Z"
    },
    "colab": {
     "base_uri": "https://localhost:8080/",
     "height": 634
    },
    "executionInfo": {
     "elapsed": 353,
     "status": "ok",
     "timestamp": 1730986628134,
     "user": {
      "displayName": "Maryam Sajedinia",
      "userId": "08230976678444268759"
     },
     "user_tz": -60
    },
    "id": "J8H9t6aYIrZ6",
    "outputId": "231e9092-e5b1-4fb1-8120-16b9aa016482"
   },
   "outputs": [],
   "source": [
    "daily_status"
   ]
  },
  {
   "cell_type": "code",
   "execution_count": null,
   "id": "6c1ecd1b",
   "metadata": {
    "ExecuteTime": {
     "end_time": "2024-12-17T11:33:13.065513Z",
     "start_time": "2024-12-17T11:33:12.721686Z"
    }
   },
   "outputs": [],
   "source": [
    "Heatmap(daily_status,annot=False,colors = ['red', 'orange', 'yellow', 'green'],bounds=[-0.5, 0.5, 1.5, 2.5, 3.5] )"
   ]
  },
  {
   "cell_type": "markdown",
   "id": "mmYJoaMzyo_a",
   "metadata": {
    "id": "mmYJoaMzyo_a"
   },
   "source": [
    "# **Hourly Passing Trend**"
   ]
  },
  {
   "cell_type": "code",
   "execution_count": null,
   "id": "h5v2j_t73KS1",
   "metadata": {
    "ExecuteTime": {
     "end_time": "2024-12-17T11:33:18.644732Z",
     "start_time": "2024-12-17T11:33:13.066114Z"
    },
    "executionInfo": {
     "elapsed": 15599,
     "status": "ok",
     "timestamp": 1730973453564,
     "user": {
      "displayName": "Maryam Sajedinia",
      "userId": "08230976678444268759"
     },
     "user_tz": -60
    },
    "id": "h5v2j_t73KS1"
   },
   "outputs": [],
   "source": [
    "map_data = gate_data.copy()\n",
    "\n",
    "subset_vehicles = ['Autoveicolo','Autocarro','Motoveicolo']\n",
    "map_data = map_data[map_data['vehicle'].isin(subset_vehicles)]\n",
    "map_data['Percentuale'] = map_data.groupby(['Data', 'vehicle'])['count'].transform(lambda x: np.round(x / x.sum(), 2))\n",
    "\n",
    "geometry = [Point(xy) for xy in zip(map_data['Longitudine'], map_data['Latitudine'])]\n",
    "gdf = gpd.GeoDataFrame(map_data, geometry=geometry)"
   ]
  },
  {
   "cell_type": "code",
   "execution_count": null,
   "id": "iEKyHXy5yyev",
   "metadata": {
    "ExecuteTime": {
     "end_time": "2024-12-17T11:33:18.654159Z",
     "start_time": "2024-12-17T11:33:18.645785Z"
    },
    "colab": {
     "base_uri": "https://localhost:8080/",
     "height": 900
    },
    "executionInfo": {
     "elapsed": 312,
     "status": "ok",
     "timestamp": 1730973490846,
     "user": {
      "displayName": "Maryam Sajedinia",
      "userId": "08230976678444268759"
     },
     "user_tz": -60
    },
    "id": "iEKyHXy5yyev",
    "outputId": "9c3e18b5-795b-4a05-a3dc-60c96b98b48d"
   },
   "outputs": [],
   "source": [
    "zero_counts_by_hour_gate = hourly_total_vahicle.eq(0).groupby(hourly_total_vahicle.index.hour).sum()\n",
    "zero_counts_by_hour_gate"
   ]
  },
  {
   "cell_type": "code",
   "execution_count": null,
   "id": "IZwXDLJsWmcc",
   "metadata": {
    "ExecuteTime": {
     "end_time": "2024-12-17T11:33:21.807924Z",
     "start_time": "2024-12-17T11:33:18.654817Z"
    },
    "id": "IZwXDLJsWmcc"
   },
   "outputs": [],
   "source": [
    "gates = zero_counts_by_hour_gate.columns.tolist()\n",
    "color_groups = {\n",
    "    \"blue\": ['Massarenti', 'Dozza', 'Don Sturzo', 'Triumvirato'],\n",
    "    \"orange\": ['Monte Donato', 'Boninsegna', 'Stalingrado', 'Guelfa', 'San Luca', 'Casaglia'],\n",
    "    \"green\": ['Alberto Mario', 'Arcoveggio', 'Zanardi', 'Roma', 'Castiglione', 'Terrapieno', 'Porrettana/Bonvicini', 'Lenin', 'Due Madonne', 'Saragat'],\n",
    "    \"red\": ['Della Pietra', 'Dozza', 'Triumvirato', 'Don Sturzo', 'Togliatti', 'S.Donato'],\n",
    "    \"purple\": ['Corelli_2 Sud', 'Corelli_1 Nord', 'Scandellara'],\n",
    "    \"brown\": ['Asse Attrezzato', 'Sanzio']\n",
    "}\n",
    "color_map = {gate: color for color, gates in color_groups.items() for gate in gates}\n",
    "\n",
    "fig = create_map(gates,color_map)\n",
    "fig.show()\n"
   ]
  },
  {
   "cell_type": "code",
   "execution_count": null,
   "id": "IO9MpvU304BT",
   "metadata": {
    "ExecuteTime": {
     "end_time": "2024-12-17T11:33:22.864332Z",
     "start_time": "2024-12-17T11:33:21.808928Z"
    },
    "colab": {
     "base_uri": "https://localhost:8080/",
     "height": 1000
    },
    "executionInfo": {
     "elapsed": 3073,
     "status": "ok",
     "timestamp": 1730970764523,
     "user": {
      "displayName": "Maryam Sajedinia",
      "userId": "08230976678444268759"
     },
     "user_tz": -60
    },
    "id": "IO9MpvU304BT",
    "outputId": "522ef365-f256-4965-d627-e68e76604c0f"
   },
   "outputs": [],
   "source": [
    "gates_sets = [\n",
    "    ['Massarenti', 'Dozza', 'Don Sturzo', 'Triumvirato'],\n",
    "    ['Monte Donato', 'Boninsegna', 'Stalingrado', 'Guelfa', 'San Luca', 'Casaglia'],\n",
    "    ['Alberto Mario', 'Arcoveggio', 'Zanardi', 'Roma', 'Castiglione', 'Terrapieno',\n",
    "     'Porrettana/Bonvicini', \"Lenin\", 'Due Madonne', \"Saragat\", \"Castiglione\", \"Arcoveggio\"],\n",
    "    ['Dozza', 'Triumvirato', 'Della Pietra', 'Don Sturzo', 'Togliatti', 'S.Donato'],\n",
    "    ['Corelli_2 Sud', 'Corelli_1 Nord', \"Scandellara\"],\n",
    "    ['Asse Attrezzato', 'Sanzio']\n",
    "]\n",
    "\n",
    "colors = [\"blue\", \"red\", \"green\", \"orange\", \"purple\", 'brown']\n",
    "\n",
    "fig, axes = plt.subplots(3, 2, figsize=(18, 15))\n",
    "axes = axes.flatten()\n",
    "\n",
    "for (i, gates), color in zip(enumerate(gates_sets), colors):\n",
    "    ax = axes[i]\n",
    "    for j, gate in enumerate(gates):\n",
    "        create_plt(ax, gate, j, color, zero_counts_by_hour_gate)\n",
    "\n",
    "plt.tight_layout()\n",
    "plt.show()\n"
   ]
  },
  {
   "cell_type": "code",
   "execution_count": null,
   "id": "mqn7fbj_m3H_",
   "metadata": {
    "ExecuteTime": {
     "end_time": "2024-12-17T11:33:23.094839Z",
     "start_time": "2024-12-17T11:33:22.866466Z"
    },
    "colab": {
     "base_uri": "https://localhost:8080/",
     "height": 668
    },
    "executionInfo": {
     "elapsed": 1546,
     "status": "ok",
     "timestamp": 1730968098398,
     "user": {
      "displayName": "Maryam Sajedinia",
      "userId": "08230976678444268759"
     },
     "user_tz": -60
    },
    "id": "mqn7fbj_m3H_",
    "outputId": "25ef7994-8cd5-4747-f308-e8e3ba95fdc6"
   },
   "outputs": [],
   "source": [
    "plt.figure(figsize=(14, 8))\n",
    "\n",
    "for gate in zero_counts_by_hour_gate.columns:\n",
    "    plt.plot(zero_counts_by_hour_gate.index, zero_counts_by_hour_gate[gate], marker='o', linestyle='-', label=f'gate {gate}')\n",
    "\n",
    "plt.ylabel('Number of Zero')\n",
    "plt.xticks(range(0, 24))\n",
    "\n",
    "plt.legend(title='gate', bbox_to_anchor=(1.05, 1), loc='upper left')\n",
    "\n",
    "plt.grid()\n",
    "plt.show()"
   ]
  },
  {
   "cell_type": "markdown",
   "id": "95GsC4McwmhL",
   "metadata": {
    "id": "95GsC4McwmhL"
   },
   "source": [
    "# **June In Depth Analysis**"
   ]
  },
  {
   "cell_type": "code",
   "execution_count": null,
   "id": "4577beb7f26f84d2",
   "metadata": {
    "ExecuteTime": {
     "end_time": "2024-12-17T11:33:23.097740Z",
     "start_time": "2024-12-17T11:33:23.095552Z"
    }
   },
   "outputs": [],
   "source": [
    "sel_date_min = date(2024,  6,  1)\n",
    "sel_date_max = date(2024, 6,  30)\n",
    "sel_gates = ['Alberto Mario', 'Arcoveggio', 'Corelli_1 Nord', 'Don Sturzo',\n",
    "             'Dozza', 'Massarenti', 'Saragat', 'Triumvirato', 'Zanardi']"
   ]
  },
  {
   "cell_type": "code",
   "execution_count": null,
   "id": "944db5dd6a6afdb9",
   "metadata": {
    "ExecuteTime": {
     "end_time": "2024-12-17T11:33:23.130910Z",
     "start_time": "2024-12-17T11:33:23.098350Z"
    },
    "colab": {
     "base_uri": "https://localhost:8080/",
     "height": 1000
    },
    "executionInfo": {
     "elapsed": 275,
     "status": "ok",
     "timestamp": 1730986662342,
     "user": {
      "displayName": "Maryam Sajedinia",
      "userId": "08230976678444268759"
     },
     "user_tz": -60
    },
    "id": "944db5dd6a6afdb9",
    "outputId": "c691479b-ec68-4459-f28a-ef0db9ab540d"
   },
   "outputs": [],
   "source": [
    "daily_status_sel = daily_status.copy()\n",
    "daily_status_sel = daily_status_sel[sel_date_min:sel_date_max]\n",
    "daily_status_sel"
   ]
  },
  {
   "cell_type": "code",
   "execution_count": null,
   "id": "53d4c1a7",
   "metadata": {
    "ExecuteTime": {
     "end_time": "2024-12-17T11:33:23.467204Z",
     "start_time": "2024-12-17T11:33:23.131612Z"
    }
   },
   "outputs": [],
   "source": [
    "Heatmap(daily_status_sel,annot=False,colors=['red', 'orange', 'yellow', 'green'], bounds=[-0.5, 0.5, 1.5, 2.5, 3.5])"
   ]
  },
  {
   "cell_type": "code",
   "execution_count": null,
   "id": "17fea33b06635ba0",
   "metadata": {
    "ExecuteTime": {
     "end_time": "2024-12-17T11:33:23.544135Z",
     "start_time": "2024-12-17T11:33:23.467779Z"
    },
    "colab": {
     "base_uri": "https://localhost:8080/",
     "height": 1000
    },
    "executionInfo": {
     "elapsed": 307,
     "status": "ok",
     "timestamp": 1730973597549,
     "user": {
      "displayName": "Maryam Sajedinia",
      "userId": "08230976678444268759"
     },
     "user_tz": -60
    },
    "id": "17fea33b06635ba0",
    "outputId": "fafd1763-6606-4c6b-b517-e4c5e63e1964"
   },
   "outputs": [],
   "source": [
    "total_vahicle_h = hourly_total_vahicle.copy().reset_index()\n",
    "total_vahicle_h['hour'] = total_vahicle_h['Data'].dt.hour\n",
    "total_vahicle_h = total_vahicle_h.drop(columns=['Data'])\n",
    "total_vahicle_h = total_vahicle_h.groupby(['hour'], as_index=False).agg(list)#agg(lambda x: list(x / max(x)))\n",
    "\n",
    "total_vahicle_h_sel = hourly_total_vahicle[sel_date_min:sel_date_max][sel_gates].copy().reset_index()\n",
    "total_vahicle_h_sel['hour'] = total_vahicle_h_sel['Data'].dt.hour\n",
    "total_vahicle_h_sel = total_vahicle_h_sel.drop(columns=['Data'])\n",
    "total_vahicle_h_sel = total_vahicle_h_sel.groupby(['hour'], as_index=False).agg(list)#agg(lambda x: list(x / max(x)))\n",
    "\n",
    "total_vahicle_h_sel"
   ]
  },
  {
   "cell_type": "code",
   "execution_count": null,
   "id": "152b26c0180a404c",
   "metadata": {
    "ExecuteTime": {
     "end_time": "2024-12-17T11:33:30.846527Z",
     "start_time": "2024-12-17T11:33:23.544675Z"
    },
    "colab": {
     "base_uri": "https://localhost:8080/",
     "height": 1000
    },
    "executionInfo": {
     "elapsed": 14403,
     "status": "ok",
     "timestamp": 1730973621614,
     "user": {
      "displayName": "Maryam Sajedinia",
      "userId": "08230976678444268759"
     },
     "user_tz": -60
    },
    "id": "152b26c0180a404c",
    "outputId": "98d5a0a1-9265-4b8f-b1ad-4a5ce03e85a1"
   },
   "outputs": [],
   "source": [
    "#gate = \"Triumvirato\"\n",
    "#gate = \"Arcoveggio\"\n",
    "#gate = \"Terrapieno\"\n",
    "gate = \"Alberto Mario\"\n",
    "#gate = \"Boninsegna\"\n",
    "fig, axs = plt.subplots(6, 4, layout='constrained', figsize=(20, 20))\n",
    "for i in range(0,24):\n",
    "    ax = axs[i//4][i%4]\n",
    "    ax.hist(total_vahicle_h[total_vahicle_h['hour'] == i ][gate], histtype=\"step\", bins=2000, cumulative=True, density=True)\n",
    "    if gate in total_vahicle_h_sel.columns:\n",
    "        ax.hist(total_vahicle_h_sel[total_vahicle_h_sel['hour'] == i ][gate], histtype=\"step\", bins=2000, cumulative=True, density=True)"
   ]
  },
  {
   "cell_type": "code",
   "execution_count": null,
   "id": "3d916bfa09ab953a",
   "metadata": {
    "ExecuteTime": {
     "end_time": "2024-12-17T11:33:36.013752Z",
     "start_time": "2024-12-17T11:33:30.847673Z"
    },
    "colab": {
     "base_uri": "https://localhost:8080/",
     "height": 1000
    },
    "executionInfo": {
     "elapsed": 13601,
     "status": "ok",
     "timestamp": 1730973648410,
     "user": {
      "displayName": "Maryam Sajedinia",
      "userId": "08230976678444268759"
     },
     "user_tz": -60
    },
    "id": "3d916bfa09ab953a",
    "outputId": "15da3323-27be-4da7-d8b7-593f083b6b0d"
   },
   "outputs": [],
   "source": [
    "#ora = 4\n",
    "hour = 8\n",
    "fig, axs = plt.subplots(7, 4, layout='constrained', figsize=(20, 20))\n",
    "for i,c in enumerate(hourly_total_vahicle.columns[1:]):\n",
    "    ax = axs[i//4][i%4]\n",
    "    ax.hist(total_vahicle_h[total_vahicle_h['hour'] == hour ][c], histtype=\"step\", bins=2000, cumulative=True, density=True)\n",
    "    if c in total_vahicle_h_sel.columns:\n",
    "        ax.hist(total_vahicle_h_sel[total_vahicle_h_sel['hour'] == hour ][c], histtype=\"step\", bins=2000, cumulative=True, density=True)\n"
   ]
  },
  {
   "cell_type": "code",
   "execution_count": null,
   "id": "WnefG_jkvrGk",
   "metadata": {
    "ExecuteTime": {
     "end_time": "2024-12-17T11:33:36.019821Z",
     "start_time": "2024-12-17T11:33:36.014897Z"
    },
    "executionInfo": {
     "elapsed": 235,
     "status": "ok",
     "timestamp": 1730988446057,
     "user": {
      "displayName": "Maryam Sajedinia",
      "userId": "08230976678444268759"
     },
     "user_tz": -60
    },
    "id": "WnefG_jkvrGk"
   },
   "outputs": [],
   "source": [
    "start = date(2024, 6,1)\n",
    "end = date(2024, 6, 30)\n",
    "total_vahicle_h = hourly_total_vahicle[start:end][sel_gates]"
   ]
  },
  {
   "cell_type": "code",
   "execution_count": null,
   "id": "LPlPPGTKwsq3",
   "metadata": {
    "ExecuteTime": {
     "end_time": "2024-12-17T11:33:36.043520Z",
     "start_time": "2024-12-17T11:33:36.020767Z"
    },
    "colab": {
     "base_uri": "https://localhost:8080/",
     "height": 455
    },
    "executionInfo": {
     "elapsed": 7,
     "status": "ok",
     "timestamp": 1730988448009,
     "user": {
      "displayName": "Maryam Sajedinia",
      "userId": "08230976678444268759"
     },
     "user_tz": -60
    },
    "id": "LPlPPGTKwsq3",
    "outputId": "8fd54942-f2c7-42c4-8a70-6fce3460ce78"
   },
   "outputs": [],
   "source": [
    "total_vahicle_h"
   ]
  },
  {
   "cell_type": "code",
   "execution_count": null,
   "id": "i5HyGFGUw1gH",
   "metadata": {
    "ExecuteTime": {
     "end_time": "2024-12-17T11:33:36.586389Z",
     "start_time": "2024-12-17T11:33:36.044540Z"
    },
    "colab": {
     "base_uri": "https://localhost:8080/",
     "height": 901
    },
    "executionInfo": {
     "elapsed": 1093,
     "status": "ok",
     "timestamp": 1730988449097,
     "user": {
      "displayName": "Maryam Sajedinia",
      "userId": "08230976678444268759"
     },
     "user_tz": -60
    },
    "id": "i5HyGFGUw1gH",
    "outputId": "1c52746e-9eea-4b35-aaa9-58397ab331f3"
   },
   "outputs": [],
   "source": [
    "total_vahicle_h.plot(figsize=(18, 10))\n",
    "# Saturday Sunday"
   ]
  },
  {
   "cell_type": "code",
   "execution_count": null,
   "id": "404c5db0",
   "metadata": {
    "ExecuteTime": {
     "end_time": "2024-12-17T11:33:36.846620Z",
     "start_time": "2024-12-17T11:33:36.587022Z"
    }
   },
   "outputs": [],
   "source": [
    "start = date(2024, 6,7)\n",
    "end = date(2024, 6, 10)\n",
    "sel_total_vahicle = hourly_total_vahicle[start:end][sel_gates]\n",
    "sel_total_vahicle.plot(figsize=(16,10))"
   ]
  },
  {
   "cell_type": "code",
   "execution_count": null,
   "id": "tqcSOW6mJJMJ",
   "metadata": {
    "ExecuteTime": {
     "end_time": "2024-12-17T11:33:36.856549Z",
     "start_time": "2024-12-17T11:33:36.847716Z"
    },
    "colab": {
     "base_uri": "https://localhost:8080/",
     "height": 423
    },
    "executionInfo": {
     "elapsed": 289,
     "status": "ok",
     "timestamp": 1730987349529,
     "user": {
      "displayName": "Maryam Sajedinia",
      "userId": "08230976678444268759"
     },
     "user_tz": -60
    },
    "id": "tqcSOW6mJJMJ",
    "outputId": "9cbabc9e-ef51-4e71-df98-11172563dce1"
   },
   "outputs": [],
   "source": [
    "total_vahicle_h = total_vahicle_h.reset_index()\n",
    "\n",
    "total_vahicle_h['Weekday'] = total_vahicle_h['Data'].dt.day_name()\n",
    "total_vahicle_h"
   ]
  },
  {
   "cell_type": "code",
   "execution_count": null,
   "id": "h_dyIl9ENxid",
   "metadata": {
    "ExecuteTime": {
     "end_time": "2024-12-17T11:33:36.870311Z",
     "start_time": "2024-12-17T11:33:36.857177Z"
    },
    "executionInfo": {
     "elapsed": 3,
     "status": "ok",
     "timestamp": 1730987350557,
     "user": {
      "displayName": "Maryam Sajedinia",
      "userId": "08230976678444268759"
     },
     "user_tz": -60
    },
    "id": "h_dyIl9ENxid"
   },
   "outputs": [],
   "source": [
    "weekday_order = [\"Monday\", \"Tuesday\", \"Wednesday\", \"Thursday\", \"Friday\", \"Saturday\", \"Sunday\"]\n",
    "grouped_data = total_vahicle_h.groupby('Weekday').mean().reindex(weekday_order)"
   ]
  },
  {
   "cell_type": "code",
   "execution_count": null,
   "id": "38hHuTXnOL98",
   "metadata": {
    "ExecuteTime": {
     "end_time": "2024-12-17T11:33:37.052102Z",
     "start_time": "2024-12-17T11:33:36.871344Z"
    },
    "colab": {
     "base_uri": "https://localhost:8080/",
     "height": 869
    },
    "executionInfo": {
     "elapsed": 620,
     "status": "ok",
     "timestamp": 1730987352322,
     "user": {
      "displayName": "Maryam Sajedinia",
      "userId": "08230976678444268759"
     },
     "user_tz": -60
    },
    "id": "38hHuTXnOL98",
    "outputId": "95403ff7-f571-48b6-f679-bf38ed4d275e"
   },
   "outputs": [],
   "source": [
    "grouped_data.drop(columns=['Data']).plot(figsize=(14, 10))"
   ]
  }
 ],
 "metadata": {
  "accelerator": "GPU",
  "colab": {
   "collapsed_sections": [
    "2d6eb371ff71042f",
    "wPzaav3TP9Nl",
    "bVT1leILVTza"
   ],
   "gpuType": "T4",
   "provenance": []
  },
  "kernelspec": {
   "display_name": "Python 3 (ipykernel)",
   "language": "python",
   "name": "python3"
  },
  "language_info": {
   "codemirror_mode": {
    "name": "ipython",
    "version": 3
   },
   "file_extension": ".py",
   "mimetype": "text/x-python",
   "name": "python",
   "nbconvert_exporter": "python",
   "pygments_lexer": "ipython3",
   "version": "3.10.11"
  }
 },
 "nbformat": 4,
 "nbformat_minor": 5
}
