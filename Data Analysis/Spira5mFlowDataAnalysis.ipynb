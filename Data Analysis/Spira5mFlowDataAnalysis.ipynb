{
 "cells": [
  {
   "cell_type": "code",
   "execution_count": null,
   "metadata": {},
   "outputs": [],
   "source": [
    "%pip install geopandas plotly"
   ]
  },
  {
   "cell_type": "code",
   "execution_count": null,
   "metadata": {},
   "outputs": [],
   "source": [
    "import re\n",
    "from datetime import datetime\n",
    "import matplotlib.pyplot as plt\n",
    "import pandas as pd\n",
    "import plotly.express as px\n",
    "import plotly.io as pio"
   ]
  },
  {
   "cell_type": "code",
   "execution_count": null,
   "metadata": {},
   "outputs": [],
   "source": [
    "from environment import dh, pio_renderer\n",
    "if pio_renderer is not None:\n",
    "    pio.renderers.default = pio_renderer"
   ]
  },
  {
   "cell_type": "markdown",
   "metadata": {},
   "source": [
    "# **Variables**"
   ]
  },
  {
   "cell_type": "code",
   "execution_count": null,
   "metadata": {},
   "outputs": [],
   "source": [
    "PROJECT_NAME = \"AreaVerde\""
   ]
  },
  {
   "cell_type": "markdown",
   "metadata": {
    "id": "UvRpA3xsjWIc"
   },
   "source": [
    "# **Load Data**"
   ]
  },
  {
   "cell_type": "code",
   "execution_count": null,
   "metadata": {},
   "outputs": [],
   "source": [
    "# Load data\n",
    "project = dh.get_or_create_project(PROJECT_NAME)\n",
    "\n",
    "spira = project.get_dataitem(\"spira_flow_data_2024\")\n",
    "spira5m = project.get_dataitem(\"spire_flow5m_2024\")\n",
    "accuracy = project.get_dataitem(\"spira_accur_data_2024\")\n",
    "accuracy5m = project.get_dataitem(\"spire_flow5m_accur_2024\")"
   ]
  },
  {
   "cell_type": "code",
   "execution_count": null,
   "metadata": {
    "id": "Z6CeJCh4QYEo"
   },
   "outputs": [],
   "source": [
    "spira = spira.as_df()"
   ]
  },
  {
   "cell_type": "code",
   "execution_count": null,
   "metadata": {},
   "outputs": [],
   "source": [
    "spira_id_map = spira[['spira_code', 'spira_unique_id']].drop_duplicates()"
   ]
  },
  {
   "cell_type": "code",
   "execution_count": null,
   "metadata": {},
   "outputs": [],
   "source": [
    "spira_locations = spira[['spira_unique_id', 'spira_code', 'longitudine', 'latitudine']].drop_duplicates()"
   ]
  },
  {
   "cell_type": "code",
   "execution_count": null,
   "metadata": {},
   "outputs": [],
   "source": [
    "spira_id_map_sel = spira_id_map[spira_id_map['spira_unique_id'].between(200, 250)]\n",
    "spira_id_map_sel"
   ]
  },
  {
   "cell_type": "code",
   "execution_count": null,
   "metadata": {},
   "outputs": [],
   "source": [
    "sel = [[('sensor_id', '==', id)] for id in spira_id_map_sel['spira_code']]"
   ]
  },
  {
   "cell_type": "code",
   "execution_count": null,
   "metadata": {},
   "outputs": [],
   "source": [
    "start_date = datetime(2024, 6, 1)\n",
    "end_date = datetime(2024, 7, 31)"
   ]
  },
  {
   "cell_type": "code",
   "execution_count": null,
   "metadata": {},
   "outputs": [],
   "source": [
    "spira5m.download(\"./tmp/Spira5mFlowData.parquet\", overwrite=True)\n",
    "spira5m = pd.read_parquet(\"./tmp/Spira5mFlowData.parquet\", filters=sel, engine=\"pyarrow\")\n",
    "spira5m = pd.merge(spira5m, spira_id_map, left_on='sensor_id', right_on='spira_code', how='left')\n",
    "spira5m = spira5m[['spira_unique_id', 'spira_code', 'value', 'start']].rename(columns={'value': 'count', 'start': 'DateTime'})\n",
    "spira5m['DateTime'] = pd.to_datetime(spira5m['DateTime'], format='%Y-%m-%d %H:%M')\n",
    "spira5m = spira5m[spira5m['DateTime'].between(start_date, end_date, inclusive='left')]\n",
    "spira5m = spira5m.sort_values('DateTime')\n",
    "spira5m"
   ]
  },
  {
   "cell_type": "code",
   "execution_count": null,
   "metadata": {},
   "outputs": [],
   "source": [
    "accuracy = accuracy.as_df()\n",
    "accuracy['DateTime'] = pd.to_datetime(accuracy['DateTime'])\n",
    "accuracy = accuracy[accuracy['DateTime'].between(start_date, end_date, inclusive='left')]\n",
    "accuracy = accuracy.sort_values('DateTime')\n",
    "accuracy"
   ]
  },
  {
   "cell_type": "markdown",
   "metadata": {},
   "source": [
    "# **Plot spira data**"
   ]
  },
  {
   "cell_type": "code",
   "execution_count": null,
   "metadata": {},
   "outputs": [],
   "source": [
    "def plot_spira(spira_id, start=0, days=0):\n",
    "    spira5m_sel = spira5m[spira5m['spira_code'] == spira_id]\n",
    "    accuracy_sel = accuracy[accuracy['spira_code'] == spira_id]\n",
    "    plt.figure(figsize=(12,3))\n",
    "    plt.plot(spira5m_sel.iloc[24*12*start:24*12*(start+days) if days else -1]['DateTime'], \n",
    "             spira5m_sel.iloc[24*12*start:24*12*(start+days) if days else -1]['count'])\n",
    "    plt.plot(accuracy_sel.iloc[24*start:24*(start+days) if days else -1]['DateTime'], \n",
    "             accuracy_sel.iloc[24*start:24*(start+days) if days else -1]['count'])\n",
    "    \n",
    "def map_spira(spira_id):\n",
    "    data_points = spira_locations[spira_locations['spira_code'] == spira_id].copy()\n",
    "    data_points['size'] = 1\n",
    "    fig = px.scatter_mapbox(\n",
    "        data_points,\n",
    "        lat='latitudine',\n",
    "        lon='longitudine',\n",
    "        mapbox_style='open-street-map',\n",
    "        size='size',\n",
    "        size_max=12,\n",
    "        zoom=11.75,\n",
    "        height=400,\n",
    "    )\n",
    "    fig.update_layout(margin={\"r\":0,\"t\":0,\"l\":0,\"b\":0})\n",
    "    fig.show()"
   ]
  },
  {
   "cell_type": "code",
   "execution_count": null,
   "metadata": {},
   "outputs": [],
   "source": [
    "map_spira('0.127 3.87 2 1')\n",
    "plot_spira('0.127 3.87 2 1')\n",
    "plot_spira('0.127 3.87 2 1', start=37, days=12)\n",
    "plot_spira('0.127 3.87 2 1', start=47, days=1)\n",
    "plot_spira('0.127 3.87 2 1', start=10, days=1)"
   ]
  },
  {
   "cell_type": "code",
   "execution_count": null,
   "metadata": {},
   "outputs": [],
   "source": [
    "map_spira('0.127 4.33 8 1')\n",
    "plot_spira('0.127 4.33 8 1')"
   ]
  },
  {
   "cell_type": "code",
   "execution_count": null,
   "metadata": {},
   "outputs": [],
   "source": [
    "map_spira('0.127 3.88 10 1')\n",
    "plot_spira('0.127 3.88 10 1')"
   ]
  },
  {
   "cell_type": "code",
   "execution_count": null,
   "metadata": {},
   "outputs": [],
   "source": [
    "map_spira('0.127 4.27 6 1')\n",
    "plot_spira('0.127 4.27 6 1')"
   ]
  }
 ],
 "metadata": {
  "colab": {
   "collapsed_sections": [
    "vNgD3FDmjT-H",
    "1BNPUUQNo7Sv"
   ],
   "provenance": []
  },
  "kernelspec": {
   "display_name": "Python 3 (ipykernel)",
   "language": "python",
   "name": "python3"
  },
  "language_info": {
   "codemirror_mode": {
    "name": "ipython",
    "version": 3
   },
   "file_extension": ".py",
   "mimetype": "text/x-python",
   "name": "python",
   "nbconvert_exporter": "python",
   "pygments_lexer": "ipython3",
   "version": "3.10.11"
  }
 },
 "nbformat": 4,
 "nbformat_minor": 4
}
