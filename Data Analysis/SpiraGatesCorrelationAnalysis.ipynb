{
 "cells": [
  {
   "cell_type": "code",
   "execution_count": null,
   "id": "f1c2d3f1-520e-42d9-aaa8-ce9d124ed5ba",
   "metadata": {},
   "outputs": [],
   "source": [
    "%pip install geopandas plotly seaborn"
   ]
  },
  {
   "cell_type": "code",
   "execution_count": null,
   "id": "ef2afaa01424bed4",
   "metadata": {},
   "outputs": [],
   "source": [
    "import math\n",
    "from datetime import datetime\n",
    "import pandas as pd\n",
    "import seaborn as sns\n",
    "import plotly.express as px\n",
    "import matplotlib.pyplot as plt\n",
    "import plotly.io as pio"
   ]
  },
  {
   "cell_type": "code",
   "execution_count": null,
   "id": "ff3397d231880672",
   "metadata": {},
   "outputs": [],
   "source": [
    "from environment import dh, pio_renderer\n",
    "if pio_renderer is not None:\n",
    "    pio.renderers.default = pio_renderer"
   ]
  },
  {
   "cell_type": "code",
   "execution_count": null,
   "id": "97372a080c6bf061",
   "metadata": {},
   "outputs": [],
   "source": [
    "PROJECT_NAME = \"AreaVerde\""
   ]
  },
  {
   "cell_type": "code",
   "execution_count": null,
   "id": "cd97255c1f83969",
   "metadata": {},
   "outputs": [],
   "source": [
    "sel_date_min = datetime(2024, 6, 11,  0,  0,  0)\n",
    "sel_date_max = datetime(2024, 9, 30, 23, 59, 59)"
   ]
  },
  {
   "cell_type": "code",
   "execution_count": null,
   "id": "9b7b08b69a724b91",
   "metadata": {},
   "outputs": [],
   "source": [
    "# Load data\n",
    "project = dh.get_or_create_project(PROJECT_NAME)\n",
    "\n",
    "spira = project.get_dataitem(\"spira_flow_data_2024\").as_df()\n",
    "spira['DateTime'] = pd.to_datetime(spira['DateTime'])"
   ]
  },
  {
   "cell_type": "code",
   "execution_count": null,
   "id": "55a02d9a13e3c47",
   "metadata": {},
   "outputs": [],
   "source": [
    "spira"
   ]
  },
  {
   "cell_type": "code",
   "execution_count": null,
   "id": "a497eb07",
   "metadata": {},
   "outputs": [],
   "source": [
    "spira_pivot = spira.pivot_table(index='DateTime', columns='spira_code', values='count')"
   ]
  },
  {
   "cell_type": "code",
   "execution_count": null,
   "id": "abfaf395",
   "metadata": {},
   "outputs": [],
   "source": [
    "spira_pivot"
   ]
  },
  {
   "cell_type": "code",
   "execution_count": null,
   "id": "7b5e75636253dd5c",
   "metadata": {},
   "outputs": [],
   "source": [
    "hourly_total_sel = spira_pivot.copy()\n",
    "hourly_total_sel = hourly_total_sel[sel_date_min:sel_date_max]\n",
    "hourly_total_sel = hourly_total_sel[hourly_total_sel.columns[hourly_total_sel.max() > 0]]\n",
    "hourly_total_subsel = hourly_total_sel.iloc[:,:100]"
   ]
  },
  {
   "cell_type": "code",
   "execution_count": null,
   "id": "5d11c5888f85f5cb",
   "metadata": {},
   "outputs": [],
   "source": [
    "hourly_total_sel_norm = (hourly_total_sel - hourly_total_sel.mean()) / hourly_total_sel.std()\n",
    "hourly_total_subsel_norm = (hourly_total_subsel - hourly_total_subsel.mean()) / hourly_total_subsel.std()"
   ]
  },
  {
   "cell_type": "code",
   "execution_count": null,
   "id": "9fa90a89448a1a99",
   "metadata": {},
   "outputs": [],
   "source": [
    "plt.figure(figsize=(30, 30))\n",
    "heatmap = sns.heatmap(hourly_total_subsel_norm.corr(), vmin=-1, vmax=1, annot=True, cmap='coolwarm')\n",
    "heatmap.set_title('Spire Correlation', fontdict={'fontsize':20}, pad=16);"
   ]
  },
  {
   "cell_type": "code",
   "execution_count": null,
   "id": "a373975eba0e0732",
   "metadata": {},
   "outputs": [],
   "source": [
    "gates_location = project.get_dataitem(\"gates\").as_df()\n",
    "gates = project.get_dataitem(\"gate_data\").as_df()\n",
    "# reconvert string to datetime\n",
    "gates[\"Data\"] = pd.to_datetime(gates[\"Data\"])"
   ]
  },
  {
   "cell_type": "code",
   "execution_count": null,
   "id": "66bd9584a4e2f5c3",
   "metadata": {},
   "outputs": [],
   "source": [
    "total_vehicles = gates[[\"Data\", \"gate\", \"count\"]].groupby([\"Data\", \"gate\"], as_index=False).sum()\n",
    "total_vehicles = total_vehicles.pivot_table(index=\"Data\", columns=\"gate\", values=\"count\", fill_value=0).astype(int)\n",
    "total_vehicles"
   ]
  },
  {
   "cell_type": "code",
   "execution_count": null,
   "id": "ead63927cb690ab6",
   "metadata": {},
   "outputs": [],
   "source": [
    "sel_gates = ['Alberto Mario', 'Arcoveggio', 'Corelli_1 Nord', 'Don Sturzo',\n",
    "             'Dozza', 'Massarenti', 'Saragat', 'Triumvirato', 'Zanardi']"
   ]
  },
  {
   "cell_type": "code",
   "execution_count": null,
   "id": "79ce13d53cbf9972",
   "metadata": {},
   "outputs": [],
   "source": [
    "total_vehicles_sel = total_vehicles.copy()\n",
    "total_vehicles_sel = total_vehicles_sel[sel_date_min:sel_date_max][sel_gates]"
   ]
  },
  {
   "cell_type": "code",
   "execution_count": null,
   "id": "ff78abeba330bed3",
   "metadata": {},
   "outputs": [],
   "source": [
    "total_vehicles_sel_norm = (total_vehicles_sel - total_vehicles_sel.mean()) / total_vehicles_sel.std()"
   ]
  },
  {
   "cell_type": "code",
   "execution_count": null,
   "id": "34bc5d242542b80a",
   "metadata": {},
   "outputs": [],
   "source": [
    "heatmap = sns.heatmap(total_vehicles_sel_norm.corr(), vmin=-1, vmax=1, annot=True, cmap='coolwarm')\n",
    "heatmap.set_title('Gate Correlation', fontdict={'fontsize':15}, pad=16);"
   ]
  },
  {
   "cell_type": "code",
   "execution_count": null,
   "id": "124b70558e0a353e",
   "metadata": {},
   "outputs": [],
   "source": [
    "gates = [['Arcoveggio','Alberto Mario'],['Dozza','Massarenti'],['Alberto Mario','Corelli_1 Nord'],['Arcoveggio','Corelli_1 Nord']]\n",
    "days = 0\n",
    "axes = len(gates)\n",
    "fig, axs = plt.subplots(axes, 1, layout='constrained', figsize=(12, 3*axes))\n",
    "for i,gs in enumerate(gates):\n",
    "    for g in gs:\n",
    "        axs[i].plot(total_vehicles_sel_norm.iloc[:24*days if days else -1][g], label=g)\n",
    "    axs[i].legend(loc='upper right')\n",
    "    axs[i].set_title(\"-\".join(gs) + \": \" + str(total_vehicles_sel_norm.corr()[gs[0]][gs[1]]))\n"
   ]
  },
  {
   "cell_type": "code",
   "execution_count": null,
   "id": "65a45e5b24304aa1",
   "metadata": {},
   "outputs": [],
   "source": [
    "total_vehicles_sel_norm_trend = total_vehicles_sel_norm.mean(axis=1)\n",
    "total_vehicles_sel_norm_detrend = total_vehicles_sel_norm.sub(total_vehicles_sel_norm_trend, axis=0)"
   ]
  },
  {
   "cell_type": "code",
   "execution_count": null,
   "id": "ba1eb91b1a3a61c3",
   "metadata": {},
   "outputs": [],
   "source": [
    "days = 0\n",
    "total_vehicles_sel_norm_trend.iloc[:24*days if days else -1].plot(figsize=(12,3));"
   ]
  },
  {
   "cell_type": "code",
   "execution_count": null,
   "id": "e7d4bd3ad7c9d30",
   "metadata": {},
   "outputs": [],
   "source": [
    "heatmap = sns.heatmap(total_vehicles_sel_norm_detrend.corr(), vmin=-1, vmax=1, annot=True, cmap='coolwarm')\n",
    "heatmap.set_title('Gate Correlation', fontdict={'fontsize':15}, pad=16);"
   ]
  },
  {
   "cell_type": "code",
   "execution_count": null,
   "id": "704d6c66a5632733",
   "metadata": {},
   "outputs": [],
   "source": [
    "gates = [['Arcoveggio','Alberto Mario'],['Dozza','Massarenti'],['Alberto Mario','Corelli_1 Nord'],['Arcoveggio','Corelli_1 Nord']]\n",
    "days = 0\n",
    "axes = len(gates)\n",
    "fig, axs = plt.subplots(axes, 1, layout='constrained', figsize=(12, 3*axes))\n",
    "for i,gs in enumerate(gates):\n",
    "    for g in gs:\n",
    "        axs[i].plot(total_vehicles_sel_norm_detrend.iloc[:24*days if days else -1][g], label=g)\n",
    "    axs[i].legend(loc='upper right')\n",
    "    axs[i].set_title(\"-\".join(gs) + \": \" + str(total_vehicles_sel_norm_detrend.corr()[gs[0]][gs[1]]))"
   ]
  },
  {
   "cell_type": "code",
   "execution_count": null,
   "id": "eed99bdddb946f85",
   "metadata": {},
   "outputs": [],
   "source": [
    "merged_subsel = pd.concat([hourly_total_subsel_norm, total_vehicles_sel_norm], axis=1)\n",
    "merged_subsel"
   ]
  },
  {
   "cell_type": "code",
   "execution_count": null,
   "id": "b20e24e39d505dc2",
   "metadata": {},
   "outputs": [],
   "source": [
    "ncols_subsel = len(hourly_total_subsel_norm.columns)\n",
    "corr_subsel = merged_subsel.corr().iloc[:ncols_subsel,ncols_subsel:]\n",
    "corr_subsel"
   ]
  },
  {
   "cell_type": "code",
   "execution_count": null,
   "id": "bb5398d38b9929cb",
   "metadata": {},
   "outputs": [],
   "source": [
    "plt.figure(figsize=(15, 20))\n",
    "heatmap = sns.heatmap(corr_subsel, vmin=-1, vmax=1, annot=True, cmap='coolwarm')\n",
    "heatmap.set_title('Overall Correlation', fontdict={'fontsize':20}, pad=16);"
   ]
  },
  {
   "cell_type": "code",
   "execution_count": null,
   "id": "a7771386218806d",
   "metadata": {},
   "outputs": [],
   "source": [
    "merged = pd.concat([hourly_total_sel_norm, total_vehicles_sel_norm], axis=1)\n",
    "merged"
   ]
  },
  {
   "cell_type": "code",
   "execution_count": null,
   "id": "920ce55ed35a4080",
   "metadata": {},
   "outputs": [],
   "source": [
    "ncols = len(hourly_total_sel_norm.columns)\n",
    "corr = merged.corr().iloc[:ncols,ncols:]"
   ]
  },
  {
   "cell_type": "code",
   "execution_count": null,
   "id": "d9ec263c688355a4",
   "metadata": {},
   "outputs": [],
   "source": [
    "columns = corr.idxmax().values\n",
    "corr = corr.loc[columns]\n",
    "corr"
   ]
  },
  {
   "cell_type": "code",
   "execution_count": null,
   "id": "46cb066f34759719",
   "metadata": {},
   "outputs": [],
   "source": [
    "vmin = math.floor(corr.min().min() * 20) / 20\n",
    "heatmap = sns.heatmap(corr, vmin=vmin, vmax=1, annot=True, cmap='coolwarm')\n",
    "heatmap.set_title('Overall Correlation (max spire)', fontdict={'fontsize':20}, pad=16);"
   ]
  },
  {
   "cell_type": "code",
   "execution_count": null,
   "id": "a926db26b6bef965",
   "metadata": {},
   "outputs": [],
   "source": [
    "sel_spira = corr.index\n",
    "pos_spira = (spira[spira['spira_code'].isin(sel_spira)][['spira_code','longitudine', 'latitudine']].drop_duplicates().rename(columns={'spira_code': 'codice'}))\n",
    "pos_spira"
   ]
  },
  {
   "cell_type": "code",
   "execution_count": null,
   "id": "796569d2f15b9538",
   "metadata": {},
   "outputs": [],
   "source": [
    "sel_gates = corr.columns\n",
    "pos_gates = gates_location[['gate', 'Longitudine', 'Latitudine']].rename(columns={'gate': 'code', 'Longitudine':'longitudine', 'Latitudine':'latitudine'})\n",
    "pos_gates = pos_gates[pos_gates['code'].isin(sel_gates)]\n",
    "pos_gates"
   ]
  },
  {
   "cell_type": "code",
   "execution_count": null,
   "id": "d99b05788cfffda",
   "metadata": {},
   "outputs": [],
   "source": [
    "data_points = pd.concat([pos_spira,gates_location])\n",
    "data_points['size'] = 1\n",
    "color_list = ['red', 'blue', 'green', 'goldenrod', 'darkred', 'aqua', 'navy', 'magenta', 'dimgrey' ]\n",
    "\n",
    "color_map_s = { s: color_list[i] for i,s in enumerate(sel_spira) }\n",
    "color_map_v = { v: color_list[i] for i,v in enumerate(sel_gates) }\n",
    "color_map = dict(color_map_s, **color_map_v)\n",
    "\n",
    "fig = px.scatter_mapbox(\n",
    "        data_points,\n",
    "        lat='latitudine',\n",
    "        lon='longitudine',\n",
    "        color='codice',\n",
    "        color_discrete_map=color_map,\n",
    "        mapbox_style='open-street-map',\n",
    "        size='size',\n",
    "        size_max=12,\n",
    "        zoom=11.75,\n",
    "        height=800,\n",
    "    )\n",
    "fig.update_layout(margin={\"r\":0,\"t\":0,\"l\":0,\"b\":0})\n",
    "\n",
    "fig.show()"
   ]
  }
 ],
 "metadata": {
  "kernelspec": {
   "display_name": "Python 3 (ipykernel)",
   "language": "python",
   "name": "python3"
  },
  "language_info": {
   "codemirror_mode": {
    "name": "ipython",
    "version": 3
   },
   "file_extension": ".py",
   "mimetype": "text/x-python",
   "name": "python",
   "nbconvert_exporter": "python",
   "pygments_lexer": "ipython3",
   "version": "3.10.11"
  }
 },
 "nbformat": 4,
 "nbformat_minor": 5
}
